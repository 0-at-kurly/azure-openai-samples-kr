{
 "cells": [
  {
   "cell_type": "code",
   "execution_count": 1,
   "metadata": {},
   "outputs": [
    {
     "name": "stdout",
     "output_type": "stream",
     "text": [
     ]
    }
   ],
   "source": [
    "# Login to Azure\n",
    "!az login"
   ]
  },
  {
   "cell_type": "code",
   "execution_count": 2,
   "metadata": {},
   "outputs": [],
   "source": [
    "# Use Non-prod subscription\n",
    "!az account set --subscription AppSub"
   ]
  },
  {
   "cell_type": "code",
   "execution_count": 3,
   "metadata": {},
   "outputs": [],
   "source": [
    "openai_rg_name = 'OpenAI'\n",
    "openai_svc_name = 'hsopenai'\n",
    "# !az group create --name $openai_rg_name --location southcentralus"
   ]
  },
  {
   "attachments": {},
   "cell_type": "markdown",
   "metadata": {},
   "source": [
    "# Create OpenAI service\n",
    "Update -l parameter value for a new endpoint uri"
   ]
  },
  {
   "cell_type": "code",
   "execution_count": null,
   "metadata": {},
   "outputs": [],
   "source": [
    "# Wait until the resource group is created\n",
    "# Create OpenAI service\n",
    "!az cognitiveservices account create -n $openai_svc_name -g $openai_rg_name -l southcentralus --kind OpenAI --sku s0 --subscription 8480def5-8f7a-4285-99f7-295b61d7b22a"
   ]
  },
  {
   "cell_type": "code",
   "execution_count": 5,
   "metadata": {},
   "outputs": [
    {
     "name": "stdout",
     "output_type": "stream",
     "text": [
      "{\n",
      "  \"etag\": \"\\\"d3050d07-0000-0100-0000-64ac2a3a0000\\\"\",\n",
      "  \"id\": \"/subscriptions/0cbd9693-b8d7-45ca-94cf-d4313c7ca18a/resourceGroups/OpenAI/providers/Microsoft.CognitiveServices/accounts/hsopenai\",\n",
      "  \"identity\": null,\n",
      "  \"kind\": \"OpenAI\",\n",
      "  \"location\": \"eastus\",\n",
      "  \"name\": \"hsopenai\",\n",
      "  \"properties\": {\n",
      "    \"allowedFqdnList\": null,\n",
      "    \"apiProperties\": null,\n",
      "    \"callRateLimit\": {\n",
      "      \"count\": null,\n",
      "      \"renewalPeriod\": null,\n",
      "      \"rules\": [\n",
      "        {\n",
      "          \"count\": 30.0,\n",
      "          \"dynamicThrottlingEnabled\": null,\n",
      "          \"key\": \"openai.dalle.post\",\n",
      "          \"matchPatterns\": [\n",
      "            {\n",
      "              \"method\": \"POST\",\n",
      "              \"path\": \"dalle/*\"\n",
      "            },\n",
      "            {\n",
      "              \"method\": \"POST\",\n",
      "              \"path\": \"openai/images/*\"\n",
      "            }\n",
      "          ],\n",
      "          \"minCount\": null,\n",
      "          \"renewalPeriod\": 1.0\n",
      "        },\n",
      "        {\n",
      "          \"count\": 30.0,\n",
      "          \"dynamicThrottlingEnabled\": null,\n",
      "          \"key\": \"openai.dalle.other\",\n",
      "          \"matchPatterns\": [\n",
      "            {\n",
      "              \"method\": \"*\",\n",
      "              \"path\": \"dalle/*\"\n",
      "            },\n",
      "            {\n",
      "              \"method\": \"*\",\n",
      "              \"path\": \"openai/operations/images/*\"\n",
      "            }\n",
      "          ],\n",
      "          \"minCount\": null,\n",
      "          \"renewalPeriod\": 1.0\n",
      "        },\n",
      "        {\n",
      "          \"count\": 30.0,\n",
      "          \"dynamicThrottlingEnabled\": null,\n",
      "          \"key\": \"openai\",\n",
      "          \"matchPatterns\": [\n",
      "            {\n",
      "              \"method\": \"*\",\n",
      "              \"path\": \"openai/*\"\n",
      "            }\n",
      "          ],\n",
      "          \"minCount\": null,\n",
      "          \"renewalPeriod\": 1.0\n",
      "        },\n",
      "        {\n",
      "          \"count\": 30.0,\n",
      "          \"dynamicThrottlingEnabled\": null,\n",
      "          \"key\": \"default\",\n",
      "          \"matchPatterns\": [\n",
      "            {\n",
      "              \"method\": \"*\",\n",
      "              \"path\": \"*\"\n",
      "            }\n",
      "          ],\n",
      "          \"minCount\": null,\n",
      "          \"renewalPeriod\": 1.0\n",
      "        }\n",
      "      ]\n",
      "    },\n",
      "    \"capabilities\": [\n",
      "      {\n",
      "        \"name\": \"VirtualNetworks\",\n",
      "        \"value\": null\n",
      "      },\n",
      "      {\n",
      "        \"name\": \"MaxFineTuneCount\",\n",
      "        \"value\": \"100\"\n",
      "      },\n",
      "      {\n",
      "        \"name\": \"MaxRunningFineTuneCount\",\n",
      "        \"value\": \"1\"\n",
      "      },\n",
      "      {\n",
      "        \"name\": \"MaxUserFileCount\",\n",
      "        \"value\": \"50\"\n",
      "      },\n",
      "      {\n",
      "        \"name\": \"MaxTrainingFileSize\",\n",
      "        \"value\": \"100000000\"\n",
      "      },\n",
      "      {\n",
      "        \"name\": \"MaxUserFileImportDurationInHours\",\n",
      "        \"value\": \"1\"\n",
      "      },\n",
      "      {\n",
      "        \"name\": \"MaxFineTuneJobDurationInHours\",\n",
      "        \"value\": \"720\"\n",
      "      },\n",
      "      {\n",
      "        \"name\": \"raiLevelOverride\",\n",
      "        \"value\": null\n",
      "      }\n",
      "    ],\n",
      "    \"customSubDomainName\": \"hsopenai\",\n",
      "    \"dateCreated\": \"2023-03-03T01:41:18.4462738Z\",\n",
      "    \"deletionDate\": null,\n",
      "    \"disableLocalAuth\": null,\n",
      "    \"dynamicThrottlingEnabled\": null,\n",
      "    \"encryption\": null,\n",
      "    \"endpoint\": \"https://hsopenai.openai.azure.com/\",\n",
      "    \"endpoints\": {\n",
      "      \"OpenAI Dall-E API\": \"https://hsopenai.openai.azure.com/\",\n",
      "      \"OpenAI Language Model Instance API\": \"https://hsopenai.openai.azure.com/\",\n",
      "      \"OpenAI Whisper API\": \"https://hsopenai.openai.azure.com/\"\n",
      "    },\n",
      "    \"internalId\": \"14711218e6214ea58e02d7627f54ae72\",\n",
      "    \"isMigrated\": false,\n",
      "    \"migrationToken\": null,\n",
      "    \"networkAcls\": null,\n",
      "    \"privateEndpointConnections\": [],\n",
      "    \"provisioningState\": \"Succeeded\",\n",
      "    \"publicNetworkAccess\": \"Enabled\",\n",
      "    \"quotaLimit\": null,\n",
      "    \"restore\": null,\n",
      "    \"restrictOutboundNetworkAccess\": null,\n",
      "    \"scheduledPurgeDate\": null,\n",
      "    \"skuChangeInfo\": null,\n",
      "    \"userOwnedStorage\": null\n",
      "  },\n",
      "  \"resourceGroup\": \"OpenAI\",\n",
      "  \"sku\": {\n",
      "    \"capacity\": null,\n",
      "    \"family\": null,\n",
      "    \"name\": \"S0\",\n",
      "    \"size\": null,\n",
      "    \"tier\": null\n",
      "  },\n",
      "  \"systemData\": {\n",
      "    \"createdAt\": \"2023-03-03T01:41:18.070150+00:00\",\n",
      "    \"createdBy\": \"studydev@hotmail.com\",\n",
      "    \"createdByType\": \"User\",\n",
      "    \"lastModifiedAt\": \"2023-03-03T01:41:18.070150+00:00\",\n",
      "    \"lastModifiedBy\": \"studydev@hotmail.com\",\n",
      "    \"lastModifiedByType\": \"User\"\n",
      "  },\n",
      "  \"tags\": {\n",
      "    \"Name\": \"OpenAI\"\n",
      "  },\n",
      "  \"type\": \"Microsoft.CognitiveServices/accounts\"\n",
      "}\n"
     ]
    }
   ],
   "source": [
    "!az cognitiveservices account show -n $openai_svc_name -g $openai_rg_name "
   ]
  },
  {
   "cell_type": "code",
   "execution_count": 4,
   "metadata": {},
   "outputs": [
    {
     "name": "stdout",
     "output_type": "stream",
     "text": [
      "{\n",
      "  \"key1\": \"f9e6170b469c415ba36e1c712f054c66\",\n",
      "  \"key2\": \"8a355e5529404f2aa2fd3bc979522bc7\"\n",
      "}\n"
     ]
    }
   ],
   "source": [
    "!az cognitiveservices account keys list -n $openai_svc_name -g $openai_rg_name "
   ]
  },
  {
   "cell_type": "code",
   "execution_count": null,
   "metadata": {},
   "outputs": [],
   "source": [
    "# Deploy a model\n",
    "search_doc_deployment_name = 'curie-search-doc'\n",
    "search_doc_model = 'text-search-curie-doc-001'\n",
    "search_query_deployment_name = 'curie-search-query'\n",
    "search_query_model = 'text-search-curie-query-001'\n",
    "text_deployment_name = 'text-davinci-003'\n",
    "text_model = 'text-davinci-003'\n",
    "text_similarity_deployment_name = 'text-similarity-davinci-001'\n",
    "text_similarity_model = 'text-similarity-davinci-001'\n",
    "\n",
    "!az cognitiveservices account deployment create -g $openai_rg_name -n $openai_svc_name --deployment-name $text_similarity_deployment_name --model-name $text_similarity_model --model-version \"1\"  --model-format OpenAI --scale-settings-scale-type \"Standard\"\n",
    "!az cognitiveservices account deployment create -g $openai_rg_name -n $openai_svc_name --deployment-name $search_doc_deployment_name --model-name $search_doc_model --model-version \"1\"  --model-format OpenAI --scale-settings-scale-type \"Standard\""
   ]
  },
  {
   "cell_type": "code",
   "execution_count": null,
   "metadata": {},
   "outputs": [],
   "source": [
    "!az cognitiveservices account deployment create -g $openai_rg_name -n $openai_svc_name --deployment-name $search_query_deployment_name --model-name $search_query_model --model-version \"1\"  --model-format OpenAI --scale-settings-scale-type \"Standard\"\n",
    "!az cognitiveservices account deployment create -g $openai_rg_name -n $openai_svc_name --deployment-name $text_deployment_name --model-name $text_model --model-version \"1\"  --model-format OpenAI --scale-settings-scale-type \"Standard\""
   ]
  },
  {
   "cell_type": "code",
   "execution_count": null,
   "metadata": {},
   "outputs": [],
   "source": []
  }
 ],
 "metadata": {
  "kernelspec": {
   "display_name": "azureml_py310_sdkv2",
   "language": "python",
   "name": "python3"
  },
  "language_info": {
   "codemirror_mode": {
    "name": "ipython",
    "version": 3
   },
   "file_extension": ".py",
   "mimetype": "text/x-python",
   "name": "python",
   "nbconvert_exporter": "python",
   "pygments_lexer": "ipython3",
   "version": "3.9.2"
  },
  "orig_nbformat": 4,
  "vscode": {
   "interpreter": {
    "hash": "2139c70ac98f3202d028164a545621647e07f47fd6f5d8ac55cf952bf7c15ed1"
   }
  }
 },
 "nbformat": 4,
 "nbformat_minor": 2
}
