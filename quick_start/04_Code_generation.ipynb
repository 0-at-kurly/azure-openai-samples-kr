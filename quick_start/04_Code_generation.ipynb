{
 "cells": [
  {
   "cell_type": "markdown",
   "metadata": {},
   "source": [
    "# Text to SQL 테스트"
   ]
  },
  {
   "cell_type": "code",
   "execution_count": 1,
   "metadata": {},
   "outputs": [],
   "source": [
    "import os\n",
    "from openai import AzureOpenAI\n",
    "from dotenv import load_dotenv\n",
    "load_dotenv()\n",
    "\n",
    "client = AzureOpenAI(\n",
    "    azure_endpoint = os.getenv(\"AZURE_OPENAI_ENDPOINT\",\"\"),\n",
    "    api_key        = os.getenv(\"AZURE_OPENAI_API_KEY\"),\n",
    "    api_version    = os.getenv(\"OPENAI_API_VERSION\")\n",
    ")\n",
    "\n",
    "deployment_name    = os.getenv('DEPLOYMENT_NAME')"
   ]
  },
  {
   "cell_type": "code",
   "execution_count": 2,
   "metadata": {},
   "outputs": [
    {
     "name": "stdout",
     "output_type": "stream",
     "text": [
      "To list the names of the departments that employed more than 10 employees in the last 3 months, you can use the following SQL query. This query joins the `Employee`, `Department`, and `Salary_Payments` tables, filters the salary payments to the last 3 months, groups by department, and counts the employees.\n",
      "\n",
      "```sql\n",
      "SELECT d.name AS department_name\n",
      "FROM Department d\n",
      "JOIN Employee e ON d.id = e.department_id\n",
      "JOIN Salary_Payments sp ON e.id = sp.employee_id\n",
      "WHERE sp.date >= NOW() - INTERVAL '3 months'\n",
      "GROUP BY d.id, d.name\n",
      "HAVING COUNT(DISTINCT e.id) > 10;\n",
      "```\n",
      "\n",
      "### Explanation:\n",
      "1. **JOINs**: The query joins the `Department`, `Employee`, and `Salary_Payments` tables to link employees to their respective departments and their salary payments.\n",
      "2. **WHERE clause**: It filters the salary payments to only include those made in the last 3 months using `NOW() - INTERVAL '3 months'`.\n",
      "3. **GROUP BY**: It groups the results by department ID and name to aggregate the employee counts.\n",
      "4. **HAVING clause**: It filters the groups to only include departments that have more than 10 distinct employees who received salary payments in the last 3 months.\n",
      "\n",
      "This will give you the names of the departments that meet the criteria.\n"
     ]
    }
   ],
   "source": [
    "user_msg = \"\"\"### Postgres SQL tables, with their properties:\n",
    "#\n",
    "# Employee(id, name, department_id)\n",
    "# Department(id, name, address)\n",
    "# Salary_Payments(id, employee_id, amount, date)\n",
    "#\n",
    "### Make a query to list the names of the departments which employed more than 10 employees in the last 3 months.\n",
    "query:\n",
    "\"\"\"\n",
    "\n",
    "# user_msg = \"\"\"### Postgres SQL tables, with their properties:\n",
    "# #\n",
    "# # Employee(id, name, department_id)\n",
    "# # Department(id, name, address)\n",
    "# # Salary_Payments(id, employee_id, amount, date)\n",
    "# #\n",
    "# ### 최근 3 개월간 직원을 10명 이상 뽑은 부서의 이름을 수집하는 쿼리를 만들어줘.\n",
    "# query: \n",
    "# \"\"\"\n",
    "\n",
    "response = client.chat.completions.create(\n",
    "    model=deployment_name,\n",
    "    messages=[\n",
    "        {\"role\": \"system\", \"content\": \"You are a helpful assistant.\"},\n",
    "        {\"role\": \"user\", \"content\": user_msg},\n",
    "    ],\n",
    "  temperature=0,\n",
    "  max_tokens=500\n",
    ")\n",
    "\n",
    "print(response.choices[0].message.content)"
   ]
  },
  {
   "cell_type": "markdown",
   "metadata": {},
   "source": [
    "# SQL to Text 테스트"
   ]
  },
  {
   "cell_type": "code",
   "execution_count": 3,
   "metadata": {},
   "outputs": [
    {
     "name": "stdout",
     "output_type": "stream",
     "text": [
      "This SQL code is designed to retrieve the names of departments that have a specific criterion based on employee activity over the last three months. Let's break down the code step by step:\n",
      "\n",
      "1. **Outer Query**: \n",
      "   ```sql\n",
      "   SELECT d.name\n",
      "   FROM Department d\n",
      "   WHERE d.id IN (...)\n",
      "   ```\n",
      "   - This part of the query selects the names of departments (`d.name`) from the `Department` table (`Department d`). \n",
      "   - The `WHERE` clause filters the departments to include only those that have an `id` present in the results returned by the subquery in the parentheses.\n",
      "\n",
      "2. **First Inner Subquery**:\n",
      "   ```sql\n",
      "   SELECT e.department_id\n",
      "   FROM Employee e\n",
      "   WHERE e.id IN (...)\n",
      "   GROUP BY e.department_id\n",
      "   HAVING COUNT(e.id) > 10\n",
      "   ```\n",
      "   - This subquery selects `department_id` from the `Employee` table (`Employee e`).\n",
      "   - It filters the employee records to include only those employees whose IDs are present in the results of another subquery (nested subquery).\n",
      "   - After filtering employees, it groups the results by `department_id` and applies a condition using `HAVING` to only\n"
     ]
    }
   ],
   "source": [
    "user_msg = \"\"\"###Can you explain what does this code do? \n",
    "# Code: \n",
    "SELECT d.name\n",
    "FROM Department d\n",
    "WHERE d.id IN (\n",
    "    SELECT e.department_id\n",
    "    FROM Employee e\n",
    "    WHERE e.id IN (\n",
    "        SELECT sp.employee_id\n",
    "        FROM Salary_Payments sp\n",
    "        WHERE sp.date >= current_date - interval '3 months'\n",
    "    )\n",
    "    GROUP BY e.department_id\n",
    "    HAVING COUNT(e.id) > 10\n",
    ")\n",
    "# Answer: \n",
    "\"\"\"\n",
    "\n",
    "# user_msg = \"\"\"###이 코드가 무엇을 수행하는지 설명해줘?\n",
    "# #Code:\n",
    "# SELECT d.name\n",
    "# FROM Department d\n",
    "# WHERE d.id IN (\n",
    "#     SELECT e.department_id\n",
    "#     FROM Employee e\n",
    "#     WHERE e.id IN (\n",
    "#         SELECT sp.employee_id\n",
    "#         FROM Salary_Payments sp\n",
    "#         WHERE sp.date >= current_date - interval '3 months'\n",
    "#     )\n",
    "#     GROUP BY e.department_id\n",
    "#     HAVING COUNT(e.id) > 10\n",
    "# )\n",
    "# Answer:\n",
    "# \"\"\"\n",
    "   \n",
    "response = client.chat.completions.create(\n",
    "    model=deployment_name,\n",
    "    messages=[\n",
    "        {\"role\": \"system\", \"content\": \"You are a helpful assistant.\"},\n",
    "        {\"role\": \"user\", \"content\": user_msg},\n",
    "    ],\n",
    "   max_tokens=250)\n",
    "\n",
    "print(response.choices[0].message.content)"
   ]
  }
 ],
 "metadata": {
  "kernelspec": {
   "display_name": "Python 3",
   "language": "python",
   "name": "python3"
  },
  "language_info": {
   "codemirror_mode": {
    "name": "ipython",
    "version": 3
   },
   "file_extension": ".py",
   "mimetype": "text/x-python",
   "name": "python",
   "nbconvert_exporter": "python",
   "pygments_lexer": "ipython3",
   "version": "3.11.4"
  },
  "orig_nbformat": 4
 },
 "nbformat": 4,
 "nbformat_minor": 2
}
