{
 "cells": [
  {
   "cell_type": "code",
   "execution_count": 1,
   "metadata": {},
   "outputs": [],
   "source": [
    "import os\n",
    "from openai import AzureOpenAI\n",
    "from dotenv import load_dotenv\n",
    "load_dotenv()\n",
    "\n",
    "client = AzureOpenAI(\n",
    "    azure_endpoint = os.getenv(\"AZURE_OPENAI_ENDPOINT\",\"\").strip(),\n",
    "    api_key        = os.getenv(\"AZURE_OPENAI_API_KEY\"),\n",
    "    api_version    = os.getenv(\"OPENAI_API_VERSION\")\n",
    ")\n",
    "\n",
    "deployment_name    = os.getenv('DEPLOYMENT_NAME')"
   ]
  },
  {
   "cell_type": "code",
   "execution_count": 2,
   "metadata": {},
   "outputs": [
    {
     "name": "stdout",
     "output_type": "stream",
     "text": [
      "Department.name\n",
      "FROM Department\n",
      "WHERE Department.id IN (\n",
      "    SELECT department_id\n",
      "    FROM Employee\n",
      "    WHERE Employee.id IN (\n",
      "        SELECT employee_id\n",
      "        FROM Salary_Payments\n",
      "        WHERE date >= current_date - interval '3 months'\n",
      "    )\n",
      "    GROUP BY department_id\n",
      "    HAVING COUNT(*) > 10\n",
      ")\n"
     ]
    }
   ],
   "source": [
    "system_msg = \"\"\"Postgres SQL tables, with their properties:\"\"\"\n",
    "user_msg = \"\"\"#Employee(id, name, department_id)\n",
    "# Department(id, name, address)\n",
    "# Salary_Payments(id, employee_id, amount, date)\n",
    "#\n",
    "## A query to list the names of the departments which employed more than 10 employees in the last 3 months\n",
    "query: SELECT\"\"\"\n",
    "# prompt=\"\"\"### Postgres SQL tables, with their properties:\\n#\\n# Employee(id, name, department_id)\\n# Department(id, name, address)\\n# Salary_Payments(id, employee_id, amount, date)\\n#\\n###\n",
    "# 최근 3 개월간 직원을 10명 이상 뽑은 부서의 이름을 수집하는 쿼리  \\n\\ query: SELECT\"\"\"\n",
    "\n",
    "\"\"\"한글 결과\n",
    "Department.name FROM Department\n",
    "INNER JOIN Employee ON Department.id = Employee.department_id\n",
    "INNER JOIN Salary_Payments ON Employee.id = Salary_Payments.employee_id\n",
    "WHERE Salary_Payments.date >= NOW() - INTERVAL '3 months'\n",
    "GROUP BY Department.id, Department.name\n",
    "HAVING COUNT(DISTINCT Employee.id) >= 10\n",
    "\"\"\"\n",
    "\n",
    "response = client.chat.completions.create(\n",
    "    model=deployment_name,\n",
    "    messages=[\n",
    "        {\"role\": \"system\", \"content\": system_msg},\n",
    "        {\"role\": \"user\", \"content\": user_msg},\n",
    "    ],\n",
    "  temperature=0,\n",
    "  max_tokens=150\n",
    ")\n",
    "\n",
    "print(response.choices[0].message.content)"
   ]
  },
  {
   "cell_type": "code",
   "execution_count": 3,
   "metadata": {},
   "outputs": [
    {
     "name": "stdout",
     "output_type": "stream",
     "text": [
      "This code is a SQL query that retrieves the names of departments that have more than 10 employees who have received a salary payment in the last 3 months. \n",
      "\n",
      "The query starts by selecting the department's name from the \"Department\" table. It then joins the \"Employee\" table using the department id, and specifies a condition that the employee id must be included in the subquery. \n",
      "\n",
      "The subquery selects the employee id from the \"Salary_Payments\" table where the date is greater than the current date minus 3 months. This ensures that only employees who have received a salary payment in the last 3 months are included. \n",
      "\n",
      "The query then groups the results by department name and applies a \"HAVING\" clause to filter out any departments that have fewer than or equal to 10 employees. The result is a list of department names that have more than 10 employees who received a salary payment in the last 3 months.\n"
     ]
    }
   ],
   "source": [
    "system_msg = \"\"\"Can you explain what does this code do?\"\"\"\n",
    "user_msg = \"\"\"Code: SELECT d.name FROM Department d JOIN Employee e ON d.id = e.department_id WHERE e.id IN (SELECT employee_id FROM Salary_Payments WHERE date > now() - interval '3 months') GROUP BY d.name HAVING COUNT(*) > 10\n",
    "   Answer: # \"\"\"\n",
    "\n",
    "# system_msg = \"\"\"\"이 코드가 무엇을 수행하는지 설명해줘?\"\"\"\n",
    "# user_msg = \"\"\"Code:\n",
    "# SELECT d.name FROM Department d JOIN Employee e ON d.id = e.department_id WHERE e.id IN (SELECT employee_id FROM Salary_Payments WHERE date > now() - interval '3 months') GROUP BY d.name HAVING COUNT(*) > 10\n",
    "# Answer: # \"\"\"\n",
    "   \n",
    "response = client.chat.completions.create(\n",
    "    model=deployment_name,\n",
    "    messages=[\n",
    "        {\"role\": \"system\", \"content\": system_msg},\n",
    "        {\"role\": \"user\", \"content\": user_msg},\n",
    "    ],\n",
    "   max_tokens=250)\n",
    "\n",
    "print(response.choices[0].message.content)"
   ]
  }
 ],
 "metadata": {
  "kernelspec": {
   "display_name": "azureml_py310_sdkv2",
   "language": "python",
   "name": "python3"
  },
  "language_info": {
   "codemirror_mode": {
    "name": "ipython",
    "version": 3
   },
   "file_extension": ".py",
   "mimetype": "text/x-python",
   "name": "python",
   "nbconvert_exporter": "python",
   "pygments_lexer": "ipython3",
   "version": "3.11.4"
  },
  "orig_nbformat": 4,
  "vscode": {
   "interpreter": {
    "hash": "2139c70ac98f3202d028164a545621647e07f47fd6f5d8ac55cf952bf7c15ed1"
   }
  }
 },
 "nbformat": 4,
 "nbformat_minor": 2
}
