{
 "cells": [
  {
   "cell_type": "code",
   "execution_count": 11,
   "metadata": {},
   "outputs": [
    {
     "name": "stdout",
     "output_type": "stream",
     "text": [
      "### Postgres SQL tables, with their properties:\n",
      "#\n",
      "# Employee(id, name, department_id)\n",
      "# Department(id, name, address)\n",
      "# Salary_Payments(id, employee_id, amount, date)\n",
      "#\n",
      "### A query to list the names of the departments which employed more than 10 employees in the last 3 months\n",
      "\\ query: SELECT\n",
      "\n",
      "Department.name \n",
      "FROM Department \n",
      "INNER JOIN Employee ON Department.id = Employee.department_id \n",
      "INNER JOIN Salary_Payments ON Employee.id = Salary_Payments.employee_id \n",
      "WHERE Salary_Payments.date >= NOW() - INTERVAL '3 months' \n",
      "GROUP BY Department.id \n",
      "HAVING COUNT(Employee.id) > 10\n"
     ]
    }
   ],
   "source": [
    "import os\n",
    "import openai\n",
    "from dotenv import load_dotenv\n",
    "load_dotenv()\n",
    "\n",
    "openai.api_type = \"azure\"\n",
    "openai.api_version = \"2023-06-01-preview\"\n",
    "\n",
    "API_KEY = os.getenv(\"OPENAI_API_KEY\",\"\").strip()\n",
    "assert API_KEY, \"ERROR: Azure OpenAI Key is missing\"\n",
    "openai.api_key = API_KEY\n",
    "\n",
    "RESOURCE_ENDPOINT = os.getenv(\"OPENAI_API_BASE\",\"\").strip()\n",
    "assert RESOURCE_ENDPOINT, \"ERROR: Azure OpenAI Endpoint is missing\"\n",
    "assert \"openai.azure.com\" in RESOURCE_ENDPOINT.lower(), \"ERROR: Azure OpenAI Endpoint should be in the form: \\n\\n\\t<your unique endpoint identifier>.openai.azure.com\"\n",
    "openai.api_base = RESOURCE_ENDPOINT\n",
    "\n",
    "prompt=\"### Postgres SQL tables, with their properties:\\n#\\n# Employee(id, name, department_id)\\n# Department(id, name, address)\\n# Salary_Payments(id, employee_id, amount, date)\\n#\\n### A query to list the names of the departments which employed more than 10 employees in the last 3 months\\n\\ query: SELECT\"\n",
    "# prompt=\"\"\"### Postgres SQL tables, with their properties:\\n#\\n# Employee(id, name, department_id)\\n# Department(id, name, address)\\n# Salary_Payments(id, employee_id, amount, date)\\n#\\n###\n",
    "# 최근 3 개월간 직원을 10명 이상 뽑은 부서의 이름을 수집하는 쿼리  \\n\\ query: SELECT\"\"\"\n",
    "\n",
    "\"\"\"한글 결과\n",
    "Department.name FROM Department\n",
    "INNER JOIN Employee ON Department.id = Employee.department_id\n",
    "INNER JOIN Salary_Payments ON Employee.id = Salary_Payments.employee_id\n",
    "WHERE Salary_Payments.date >= NOW() - INTERVAL '3 months'\n",
    "GROUP BY Department.id, Department.name\n",
    "HAVING COUNT(DISTINCT Employee.id) >= 10\n",
    "\"\"\"\n",
    "print(prompt+\"\\n\")\n",
    "\n",
    "response = openai.ChatCompletion.create(\n",
    "  messages=[\n",
    "    {\"role\": \"user\", \"content\": prompt},\n",
    "  ],\n",
    "  engine=os.getenv('DEPLOYMENT_NAME'),\n",
    "  temperature=0,\n",
    "  max_tokens=150,\n",
    "  top_p=1,\n",
    "  frequency_penalty=0,\n",
    "  presence_penalty=0,\n",
    "  stop=[\"#\",\";\"]\n",
    ")\n",
    "\n",
    "print(response[\"choices\"][0][\"message\"][\"content\"].strip(\" \\n\"))"
   ]
  },
  {
   "cell_type": "code",
   "execution_count": 14,
   "metadata": {},
   "outputs": [
    {
     "name": "stdout",
     "output_type": "stream",
     "text": [
      "This code selects the names of all departments that have more than 10 employees who have received salary payments in the last 3 months. It does this by joining the Department and Employee tables on their respective ids, and filtering the result to only include employees who have received salary payments in the last 3 months (using a subquery and the \"date\" field in the Salary_Payments table). Then, it groups the result by department name and counts how many employees in each department have received salary payments in the last 3 months. Departments with more than 10 such employees are included in the final result.\n"
     ]
    }
   ],
   "source": [
    "prompt=\"Can you explain what does this code do?\\n#\\n# ###\\n\\\n",
    "   Code:\\n\\\n",
    "   SELECT d.name FROM Department d JOIN Employee e ON d.id = e.department_id WHERE e.id IN (SELECT employee_id FROM Salary_Payments WHERE date > now() - interval '3 months') GROUP BY d.name HAVING COUNT(*) > 10\\n#\\n#\\\n",
    "   Answer:\\n# \"\n",
    "\n",
    "# prompt=\"이 코드가 무엇을 수행하는지 설명해줘?\\n#\\n# ###\\n\\\n",
    "#    Code:\\n\\\n",
    "#    SELECT d.name FROM Department d JOIN Employee e ON d.id = e.department_id WHERE e.id IN (SELECT employee_id FROM Salary_Payments WHERE date > now() - interval '3 months') GROUP BY d.name HAVING COUNT(*) > 10\\n#\\n#\\\n",
    "#    Answer:\\n# \"\n",
    "   \n",
    "response = openai.ChatCompletion.create(\n",
    "  engine=os.getenv('DEPLOYMENT_NAME'),\n",
    "  messages=[\n",
    "    {\"role\": \"user\", \"content\": prompt},\n",
    "  ],\n",
    "   max_tokens=250,\n",
    "  stop=[\"#\",\";\"])\n",
    "\n",
    "print(response[\"choices\"][0][\"message\"][\"content\"].strip(\" \\n\"))"
   ]
  },
  {
   "cell_type": "code",
   "execution_count": null,
   "metadata": {},
   "outputs": [],
   "source": []
  }
 ],
 "metadata": {
  "kernelspec": {
   "display_name": "azureml_py310_sdkv2",
   "language": "python",
   "name": "python3"
  },
  "language_info": {
   "codemirror_mode": {
    "name": "ipython",
    "version": 3
   },
   "file_extension": ".py",
   "mimetype": "text/x-python",
   "name": "python",
   "nbconvert_exporter": "python",
   "pygments_lexer": "ipython3",
   "version": "3.9.2"
  },
  "orig_nbformat": 4,
  "vscode": {
   "interpreter": {
    "hash": "2139c70ac98f3202d028164a545621647e07f47fd6f5d8ac55cf952bf7c15ed1"
   }
  }
 },
 "nbformat": 4,
 "nbformat_minor": 2
}
