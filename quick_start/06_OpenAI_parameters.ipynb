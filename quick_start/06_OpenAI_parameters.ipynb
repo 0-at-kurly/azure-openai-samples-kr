{
 "cells": [
  {
   "cell_type": "code",
   "execution_count": 5,
   "metadata": {},
   "outputs": [],
   "source": [
    "import os\n",
    "import openai\n",
    "from dotenv import load_dotenv\n",
    "load_dotenv()\n",
    "openai.api_type = \"azure\"\n",
    "openai.api_version = \"2023-06-01-preview\"\n",
    "\n",
    "API_KEY = os.getenv(\"OPENAI_API_KEY\",\"\").strip()\n",
    "assert API_KEY, \"ERROR: Azure OpenAI Key is missing\"\n",
    "openai.api_key = API_KEY\n",
    "\n",
    "RESOURCE_ENDPOINT = os.getenv(\"OPENAI_API_BASE\",\"\").strip()\n",
    "assert RESOURCE_ENDPOINT, \"ERROR: Azure OpenAI Endpoint is missing\"\n",
    "assert \"openai.azure.com\" in RESOURCE_ENDPOINT.lower(), \"ERROR: Azure OpenAI Endpoint should be in the form: \\n\\n\\t<your unique endpoint identifier>.openai.azure.com\"\n",
    "openai.api_base = RESOURCE_ENDPOINT\n",
    "\n",
    "model = os.getenv('DEPLOYMENT_NAME')"
   ]
  },
  {
   "attachments": {},
   "cell_type": "markdown",
   "metadata": {},
   "source": [
    "# temperature\n",
    "\n",
    "Defaults to 1\n",
    "\n",
    "사용할 샘플링 온도 값이 높을수록 모델이 더 많은 위험을 감수 할 것입니다. 보다 창의적인 응용 프로그램은 0.9를 시도하고 잘 정의 된 답변이있는 경우 0 (Argmax 샘플링)을 시도하십시오.\n",
    "\n",
    "일반적으로 Temperature 또는 Top_p 값을 바꾸는걸 추천하지만, 둘 다 바꾸는건 아닙니다."
   ]
  },
  {
   "cell_type": "code",
   "execution_count": 15,
   "metadata": {},
   "outputs": [],
   "source": [
    "def call_openai(num_times, messages, temperature):\n",
    "    for i in range(num_times):\n",
    "        \n",
    "        response = openai.ChatCompletion.create(\n",
    "            engine=model,\n",
    "            messages=messages,\n",
    "            max_tokens=60,\n",
    "            temperature = temperature\n",
    "        )\n",
    "        print(str(i+1) + \": \" + response[\"choices\"][0][\"message\"][\"content\"].strip(\" \\n\"))"
   ]
  },
  {
   "cell_type": "code",
   "execution_count": 16,
   "metadata": {},
   "outputs": [
    {
     "name": "stdout",
     "output_type": "stream",
     "text": [
      "1: subjective matter and depends on individual preferences and lifestyles. Some people may prefer dogs as they are loyal and make great companions, while others may prefer cats as they are independent and low-maintenance. Other popular pets include birds, fish, rabbits, and hamsters. Ultimately, the best pet is one\n",
      "2: subjective matter and depends on individual preferences and lifestyles. Some people may prefer dogs as they are loyal and make great companions, while others may prefer cats as they are independent and low-maintenance. Other popular pets include birds, fish, rabbits, and hamsters. Ultimately, the best pet is one\n",
      "3: subjective matter and depends on individual preferences and lifestyles. Some people may prefer dogs as they are loyal and make great companions, while others may prefer cats as they are independent and low-maintenance. Other popular pets include birds, fish, rabbits, and hamsters. Ultimately, the best pet is one\n",
      "4: subjective matter and depends on individual preferences and lifestyles. Some people may prefer dogs as they are loyal and make great companions, while others may prefer cats as they are independent and low-maintenance. Other popular pets include birds, fish, rabbits, and hamsters. Ultimately, the best pet is one\n",
      "5: subjective matter and depends on individual preferences and lifestyles. Some people may prefer dogs as they are loyal and make great companions, while others may prefer cats as they are independent and low-maintenance. Other popular pets include birds, fish, rabbits, and hamsters. Ultimately, the best pet is one\n"
     ]
    }
   ],
   "source": [
    "messages=[\n",
    "    {\"role\": \"user\", \"content\": 'The best pet is a '},\n",
    "]\n",
    "\n",
    "call_openai(5, messages, temperature = 0)"
   ]
  },
  {
   "cell_type": "code",
   "execution_count": 17,
   "metadata": {},
   "outputs": [
    {
     "name": "stdout",
     "output_type": "stream",
     "text": [
      "1: subjective choice that can vary depending on personal preferences and lifestyle. There are many great pets to choose from, including dogs, cats, birds, fish, rabbits, guinea pigs, hamsters, and more. Each type of pet has its own unique characteristics, needs, and benefits that can make\n",
      "2: subjective choice and depends on a person's individual preferences and lifestyle. Some popular pets include dogs, cats, birds, fish, hamsters, rabbits, and guinea pigs, among others. Each pet requires different levels of care, attention, space, and financial resources. It is important to research\n",
      "3: subjective topic and depends on individual preferences and lifestyle. Some people may prefer dogs as they are known for their loyalty, while others prefer cats as they are more independent. Some may opt for small pets like hamsters, guinea pigs or rabbits, while others may prefer larger animals like horses or exotic\n",
      "4: subjective opinion and varies depending on personal preferences, lifestyle, and the ability to provide proper care. Some people might prefer dogs because of their loyal and affectionate nature, while others might prefer cats for their independence and lower maintenance. Other popular pets include birds, fish, rabbits, hamsters, and\n",
      "5: subjective topic, as different people have different preferences and lifestyles. However, some popular pets are:\n",
      "\n",
      "1. Dogs - They are loyal, affectionate, and can be trained to perform various tasks. They also make great companions for outdoor activities.\n",
      "\n",
      "2. Cats - They are independent, low-maintenance\n"
     ]
    }
   ],
   "source": [
    "call_openai(5, messages, temperature = 1)"
   ]
  },
  {
   "attachments": {},
   "cell_type": "markdown",
   "metadata": {},
   "source": [
    "# top_p\n",
    "\n",
    "Defaults to 1\n",
    "\n",
    "An alternative to sampling with temperature, called nucleus sampling, where the model considers the results of the tokens with top_p probability mass. 따라서 0.1은 상위 10% 확률 질량을 포함하는 토큰 만 고려된다는 것을 의미합니다.\n",
    "\n",
    "일반적으로 Temperature 또는 Top_p 값을 바꾸는걸 추천하지만, 둘다 바꾸는건 아닙니다."
   ]
  },
  {
   "cell_type": "code",
   "execution_count": 18,
   "metadata": {},
   "outputs": [],
   "source": [
    "def call_openai(num_times, messages, top_p):\n",
    "    for i in range(num_times):\n",
    "        \n",
    "        response = openai.ChatCompletion.create(\n",
    "            engine=model,\n",
    "            messages=messages,\n",
    "            max_tokens=60,\n",
    "            top_p = top_p\n",
    "        )\n",
    "        print(str(i+1) + \": \" + response[\"choices\"][0][\"message\"][\"content\"].strip(\" \\n\"))"
   ]
  },
  {
   "cell_type": "code",
   "execution_count": 20,
   "metadata": {},
   "outputs": [
    {
     "name": "stdout",
     "output_type": "stream",
     "text": [
      "1: subjective opinion and varies from person to person depending on their lifestyle, preferences and circumstances. Some people prefer dogs, cats, birds, rabbits, fish, turtles or even exotic animals like snakes or hedgehogs as pets. It is important to consider the animal's requirements for care, space, exercise\n",
      "2: subjective choice that depends on personal preferences, lifestyle, and resources. Some people may find dogs to be the best pets as they are loving, loyal, and protective companions, while others may prefer cats for their independence and low maintenance nature. Some may prefer smaller animals such as hamsters or guinea\n",
      "3: subjective opinion and varies depending on individual preferences, lifestyle, and resources. Some people may prefer dogs for their loyalty and companionship, while others may prefer cats for their independence and low maintenance. Some may prefer exotic pets such as snakes or lizards, while others may prefer small animals such as ham\n",
      "4: subjective topic and ultimately depends on each individual's lifestyle, preferences, and needs. However, here are some popular pets:\n",
      "\n",
      "1. Dogs - Known as man's best friend, dogs are loyal, affectionate, and adaptable. They're highly trainable and provide unconditional love.\n",
      "\n",
      "2. Cats - Independent\n",
      "5: subjective choice that varies from person to person based on their lifestyle, preferences, and living arrangements. Some popular pet options include dogs, cats, birds, rabbits, guinea pigs, hamsters, fish, and reptiles. Ultimately, the best pet is one that is well-suited to your\n",
      "6: subjective topic and can vary greatly depending on the individual's lifestyle and preferences.\n",
      "\n",
      "Some common and popular pets include dogs, cats, birds, fish, rabbits, hamsters, and reptiles. Each of these pets has its own unique characteristics and requirements for care and attention.\n",
      "\n",
      "For someone who enjoys outdoor\n",
      "7: subjective choice and can vary based on individual preferences, lifestyles, and living situations. Some people may prefer a loyal dog that can protect their home and accompany them on outdoor activities, while others may prefer a low-maintenance cat that can provide companionship without needing as much attention. Some may even prefer\n",
      "8: subjective matter of personal preference. Different people have different lifestyles, preferences, and needs, so what may be the best pet for one may not work for another. Some of the most popular pets include dogs, cats, birds, fish, hamsters, guinea pigs, and rabbits. It's\n",
      "9: subjective topic as it varies from person to person based on their lifestyle, preferences, and ability to care for a pet. Some popular choices for pets include dogs, cats, fish, birds, and rabbits; however, it ultimately depends on the individual and their personal needs and wants in a pet.\n",
      "10: subjective topic and depends on individual preferences and lifestyle. Some people may prefer dogs as they provide companionship, security, and are highly trainable. Others may prefer cats as they are low maintenance and independent. Some people may prefer smaller pets such as birds, fish, or hamsters, while others may\n"
     ]
    }
   ],
   "source": [
    "messages=[\n",
    "    {\"role\": \"user\", \"content\": 'The best pet is a '},\n",
    "]\n",
    "\n",
    "call_openai(10, messages, top_p = 1)"
   ]
  },
  {
   "cell_type": "code",
   "execution_count": 21,
   "metadata": {},
   "outputs": [
    {
     "name": "stdout",
     "output_type": "stream",
     "text": [
      "1: subjective matter and depends on individual preferences and lifestyles. Some people may prefer dogs as they are loyal and make great companions, while others may prefer cats as they are independent and low-maintenance. Other popular pets include birds, fish, rabbits, and hamsters. Ultimately, the best pet is one\n",
      "2: subjective matter and depends on individual preferences and lifestyles. Some people may prefer dogs as they are loyal and make great companions, while others may prefer cats as they are independent and low-maintenance. Other popular pets include birds, fish, rabbits, and hamsters. Ultimately, the best pet is one\n",
      "3: subjective matter and depends on individual preferences and lifestyles. Some people may prefer dogs as they are loyal and make great companions, while others may prefer cats as they are independent and low-maintenance. Other popular pets include birds, fish, rabbits, and hamsters. Ultimately, the best pet is one\n",
      "4: subjective matter and depends on individual preferences and lifestyles. Some people may prefer dogs as they are loyal and make great companions, while others may prefer cats as they are independent and low-maintenance. Other popular pets include birds, fish, rabbits, and hamsters. Ultimately, the best pet is one\n",
      "5: subjective matter and depends on individual preferences and lifestyles. Some people may prefer dogs as they are loyal and make great companions, while others may prefer cats as they are independent and low-maintenance. Other popular pets include birds, fish, rabbits, and hamsters. Ultimately, the best pet is one\n",
      "6: subjective matter and depends on individual preferences and lifestyles. Some people may prefer dogs as they are loyal and make great companions, while others may prefer cats as they are independent and low-maintenance. Other popular pets include birds, fish, rabbits, and hamsters. Ultimately, the best pet is one\n",
      "7: subjective matter and depends on individual preferences and lifestyles. Some people may prefer dogs as they are loyal and make great companions, while others may prefer cats as they are independent and low-maintenance. Other popular pets include birds, fish, rabbits, and hamsters. Ultimately, the best pet is one\n",
      "8: subjective matter and depends on individual preferences and lifestyles. Some people may prefer dogs as they are loyal and make great companions, while others may prefer cats as they are independent and low-maintenance. Other popular pets include birds, fish, rabbits, and hamsters. Ultimately, the best pet is one\n",
      "9: subjective matter and depends on individual preferences and lifestyles. Some people may prefer dogs as they are loyal and make great companions, while others may prefer cats as they are independent and low-maintenance. Other popular pets include birds, fish, rabbits, and hamsters. Ultimately, the best pet is one\n",
      "10: subjective matter and depends on individual preferences and lifestyles. Some people may prefer dogs as they are loyal and make great companions, while others may prefer cats as they are independent and low-maintenance. Other popular pets include birds, fish, rabbits, and hamsters. Ultimately, the best pet is one\n"
     ]
    }
   ],
   "source": [
    "call_openai(10, messages, top_p = 0.1)"
   ]
  },
  {
   "attachments": {},
   "cell_type": "markdown",
   "metadata": {},
   "source": [
    "# n\n",
    "\n",
    "Defaults to 1\n",
    "\n",
    "요청한 Prompt에 대해 Completion 몇 개를 생성할지 정하는 옵션임.\n",
    "\n",
    "참고 :이 매개 변수는 많은 Completion을 생성하기 때문에 토큰 할당량을 빠르게 소비 할 수 있습니다. 신중하게 사용하고 max_tokens에 대한 합리적인 설정이 있는지 확인하고 중지하십시오."
   ]
  },
  {
   "cell_type": "code",
   "execution_count": 23,
   "metadata": {},
   "outputs": [
    {
     "name": "stdout",
     "output_type": "stream",
     "text": [
      "subjective matter and depends on the individual's lifestyle, needs, and preferences. Some people may prefer dogs as loyal companions, while others may prefer cats for their independence and low-maintenance nature. Other popular pets include birds, fish, reptiles, and small mammals such as hamsters or guinea\n",
      "highly subjective topic as it largely depends on an individual's lifestyle, preferences, and living situation. Some people may find dogs to be the best pets due to their loyalty and companionship, while others may prefer cats for their independent nature and low-maintenance care. Some may even find that birds,\n"
     ]
    }
   ],
   "source": [
    "response = openai.ChatCompletion.create(\n",
    "    engine=model,\n",
    "    messages=messages,\n",
    "    max_tokens=60,\n",
    "    n=2\n",
    ")\n",
    "\n",
    "for c in response['choices']:\n",
    "    print(c['message']['content'].strip(\" \\n\"))"
   ]
  },
  {
   "attachments": {},
   "cell_type": "markdown",
   "metadata": {},
   "source": [
    "# logprobs\n",
    "\n",
    "Defaults to null\n",
    "\n",
    "log probe에 로그 확률을 포함시킬 가능성이 높은 토큰뿐만 아니라 선택한 토큰을 포함합니다. 예를 들어 LogProbs가 5 인 경우 API는 가장 가능성이 높은 5 개의 토큰 목록을 반환합니다. API는 항상 샘플링 된 토큰의 로그 프로브를 반환하므로 응답에 LogProbs+1 요소가 있을 수 있습니다. 신뢰도 평가를 위해 유용하게 사용 가능합니다.\n",
    "\n",
    "LogProbs의 최대 값은 5입니다.\n",
    "\n",
    "- 새로운 GPT-35-Turbo 및 GPT-4 모델에서는 logprobs, best_of 및 echo 매개변수를 사용할 수 없습니다. 이러한 매개변수를 설정하면 오류가 발생합니다.\n",
    "- https://learn.microsoft.com/en-us/azure/cognitive-services/openai/how-to/chatgpt?pivots=programming-language-chat-completions"
   ]
  },
  {
   "cell_type": "code",
   "execution_count": 27,
   "metadata": {},
   "outputs": [],
   "source": [
    "# response = openai.ChatCompletion.create(\n",
    "#     engine=model,\n",
    "#     messages=messages,\n",
    "#     max_tokens=60,\n",
    "#     logprobs = 2,\n",
    "# )\n",
    "\n",
    "# print(response['choices'][0]['logprobs'])\n",
    "# print(response['choices'][0]['text'])"
   ]
  },
  {
   "attachments": {},
   "cell_type": "markdown",
   "metadata": {},
   "source": [
    "# presence_penalty\n",
    "\n",
    "Defaults to 0\n",
    "\n",
    "-2.0에서 2.0 사이의 숫자입니다. 양수 값은 지금까지 텍스트에 나타나는지 여부에 따라 새 토큰에 페널티를 주어 모델이 새 주제에 대해 이야기할 가능성을 높입니다.\n",
    "\n",
    "# frequency_penalty\n",
    "\n",
    "Defaults to 0\n",
    "\n",
    "-2.0에서 2.0 사이의 숫자입니다. 양수 값은 지금까지 텍스트의 기존 빈도를 기반으로 새 토큰에 페널티를 주어 모델이 동일한 줄을 그대로 반복할 가능성을 줄입니다.\n",
    "\n",
    "# function_call\n",
    "\n",
    "array\n",
    "\n",
    "모델이 함수 호출에 응답하는 방식을 제어합니다. '없음'은 모델이 함수를 호출하지 않고 최종 사용자에게 응답함을 의미합니다. '자동'은 모델이 최종 사용자 또는 함수 호출 중에서 선택할 수 있음을 의미합니다. {'name': 'my_function'}을 통해 특정 함수를 지정하면 모델이 해당 함수를 강제로 호출합니다. 함수가 없는 경우 'none'이 기본값입니다. 기능이 있는 경우 '자동'이 기본값입니다.\n",
    "\n",
    "# logit_bias\n",
    "\n",
    "Defaults to null\n",
    "\n",
    "완료에 지정된 토큰이 나타날 가능성을 수정합니다.\n",
    "\n",
    "토큰(토크나이저의 토큰 ID로 지정됨)을 -100에서 100까지의 관련 바이어스 값에 매핑하는 json 개체를 허용합니다. 수학적으로 바이어스는 샘플링 전에 모델에서 생성된 로짓에 추가됩니다. 정확한 효과는 모델마다 다르지만 -1과 1 사이의 값은 선택 가능성을 낮추거나 높여야 합니다. -100 또는 100과 같은 값은 관련 토큰을 금지하거나 배타적으로 선택해야 합니다.\n",
    "\n",
    "As an example, you can pass {\"50256\": -100} to prevent the <|endoftext|> token from being generated.\n",
    "\n",
    "Reference: OpenAI API Reference [https://platform.openai.com/docs/api-reference/chat/create]"
   ]
  },
  {
   "cell_type": "markdown",
   "metadata": {},
   "source": []
  }
 ],
 "metadata": {
  "kernelspec": {
   "display_name": "azureml_py310_sdkv2",
   "language": "python",
   "name": "python3"
  },
  "language_info": {
   "codemirror_mode": {
    "name": "ipython",
    "version": 3
   },
   "file_extension": ".py",
   "mimetype": "text/x-python",
   "name": "python",
   "nbconvert_exporter": "python",
   "pygments_lexer": "ipython3",
   "version": "3.9.2"
  },
  "orig_nbformat": 4,
  "vscode": {
   "interpreter": {
    "hash": "2139c70ac98f3202d028164a545621647e07f47fd6f5d8ac55cf952bf7c15ed1"
   }
  }
 },
 "nbformat": 4,
 "nbformat_minor": 2
}
