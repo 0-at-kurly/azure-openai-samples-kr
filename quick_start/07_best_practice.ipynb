{
 "cells": [
  {
   "attachments": {},
   "cell_type": "markdown",
   "metadata": {},
   "source": [
    "# OpenAI가 제공하는 프롬프트 엔지니어링 모범사례\n",
    "\n",
    "OpenAI 모델에 명확하고 효과적인 지침을 제공하는 방법을 설명합니다.\n",
    "\n",
    "source: https://help.openai.com/en/articles/6654000-best-practices-for-prompt-engineering-with-openai-api\n",
    "\n",
    "## 프롬프트 엔지니어링 작동 방식\n",
    "OpenAI 모델이 훈련되는 방식으로 인해 특히 잘 작동하고 보다 유용한 [모델](https://learn.microsoft.com/en-us/azure/ai-services/openai/concepts/models) 출력으로 이어지는 특정 프롬프트 형식이 있습니다. [​OpenAI의 공식 프롬프트 엔지니어링 가이드](https://platform.openai.com/docs/guides/prompt-engineering)는 일반적으로 프롬프트 팁을 학습하기 좋은 시작점입니다. 아래에는 잘 작동한다고 생각되는 여러 가지 프롬프트 형식이 제시되어 있지만 작업에 더 적합할 수 있는 다양한 형식을 자유롭게 탐색해 보세요.\n",
    "\n",
    "## 사용법에 대한 예시\n",
    "### 참고\n",
    "> {text input here} 은 실제 텍스트/컨텍스트를 입력하는 표시입니다."
   ]
  },
  {
   "cell_type": "code",
   "execution_count": 1,
   "metadata": {},
   "outputs": [],
   "source": [
    "import os\n",
    "from openai import AzureOpenAI\n",
    "from dotenv import load_dotenv\n",
    "load_dotenv()\n",
    "\n",
    "client = AzureOpenAI(\n",
    "    azure_endpoint = os.getenv(\"AZURE_OPENAI_ENDPOINT\",\"\").strip(),\n",
    "    api_key        = os.getenv(\"AZURE_OPENAI_API_KEY\"),\n",
    "    api_version    = os.getenv(\"OPENAI_API_VERSION\")\n",
    ")\n",
    "\n",
    "deployment_name = os.getenv('DEPLOYMENT_NAME')"
   ]
  },
  {
   "attachments": {},
   "cell_type": "markdown",
   "metadata": {},
   "source": [
    "# 1. 최신 모델 사용\n",
    "\n",
    "최상의 결과를 얻으려면 최신 모델을 사용하십시오. 최신 모델은 엔지니어에게 프롬프트를 사용하는 것이 더 쉬울 수 있습니다.\n",
    "최신 모델 정보는 [다음 링크](https://learn.microsoft.com/ko-kr/azure/ai-services/openai/concepts/models)에서 확인 가능합니다."
   ]
  },
  {
   "attachments": {},
   "cell_type": "markdown",
   "metadata": {},
   "source": [
    "# 2. 프롬프트 시작 부분에 지침(instructions)을 넣고 ### 또는 \"\"\"를 사용하여 지침(instruction)과 컨텍스트(context)를 구분합니다.\n",
    "\n",
    "### 덜 효과적인 방법 ❌:  \n",
    ">Summarize the text below as a bullet point list of the most important points.  \n",
    ">  \n",
    ">{text input here}\n",
    "----  \n",
    "### 더 효과적인 방법 ✅:  \n",
    ">Summarize the text below as a bullet point list of the most important points.  \n",
    ">  \n",
    ">Text: \"\"\"  \n",
    ">{text input here}.  \n",
    ">\"\"\""
   ]
  },
  {
   "cell_type": "code",
   "execution_count": 3,
   "metadata": {},
   "outputs": [
    {
     "name": "stdout",
     "output_type": "stream",
     "text": [
      "- OpenAI and Microsoft are extending their partnership\n",
      "- Microsoft is making a multi-year, multi-billion dollar investment in OpenAI\n",
      "- The investment will allow OpenAI to continue independent research and develop safe, useful, and powerful AI\n",
      "- OpenAI is a capped-profit company governed by the OpenAI non-profit\n",
      "- The partnership with Microsoft is instrumental to OpenAI's progress towards their mission of ensuring advanced AI benefits all of humanity.\n"
     ]
    }
   ],
   "source": [
    "response = client.chat.completions.create(\n",
    "    model=deployment_name,\n",
    "    messages = [{\"role\":\"system\", \"content\":\"You are a helpful assistant.\"},\n",
    "                {\"role\":\"user\",\"content\": 'Summarize the text below as a bullet point list of the most important points. \\n\\n \\\n",
    "        ###\\n\\nWe’re happy to announce that OpenAI and Microsoft are extending our partnership.\\\n",
    "        This multi-year, multi-billion dollar investment from Microsoft follows their previous investments \\\n",
    "        in 2019 and 2021, and will allow us to continue our independent research and develop AI that is \\\n",
    "        increasingly safe, useful, and powerful. \\n\\n \\\n",
    "        In pursuit of our mission to ensure advanced AI benefits all of humanity, OpenAI remains a \\\n",
    "        capped-profit company and is governed by the OpenAI non-profit. This structure allows us to \\\n",
    "        raise the capital we need to fulfill our mission without sacrificing our core beliefs about \\\n",
    "        broadly sharing benefits and the need to prioritize safety. \\\n",
    "        Microsoft shares this vision and our values, and our partnership is instrumental to our progress. \\n###',}],\n",
    "        max_tokens=400,)\n",
    "\n",
    "print(response.choices[0].message.content)"
   ]
  },
  {
   "attachments": {},
   "cell_type": "markdown",
   "metadata": {},
   "source": [
    "# 3. 원하는 맥락, 결과, 길이, 형식, 스타일 등에 대해 구체적이고 설명적이며 최대한 상세하게 작성하십시오.\n",
    "### 덜 효과적인 방법 ❌:  \n",
    ">Write a poem about OpenAI. \n",
    "----\n",
    "### 더 효과적인 방법 ✅:  \n",
    ">Write a short inspiring poem about OpenAI, focusing on the recent DALL-E product launch (DALL-E is a text to image ML model) in the style of a {famous poet}"
   ]
  },
  {
   "cell_type": "code",
   "execution_count": 4,
   "metadata": {},
   "outputs": [
    {
     "name": "stdout",
     "output_type": "stream",
     "text": [
      "Oh OpenAI, a wondrous creation,\n",
      "With minds so bright and innovation,\n",
      "You illuminate the path of knowledge,\n",
      "Expanding horizons, like a college.\n",
      "\n",
      "Through algorithms and neural networks,\n",
      "You unlock the secrets, unravel the quirks,\n",
      "From language models to self-driving cars,\n",
      "You bring us closer to the shining stars.\n",
      "\n",
      "AI, the gift of human ingenuity,\n",
      "Enhancing our lives with such equity,\n",
      "In healthcare, education, and so much more,\n",
      "Your potential, OpenAI, we truly adore.\n",
      "\n",
      "But with great power comes great responsibility,\n",
      "Ethics and safeguards, a necessity,\n",
      "To ensure AI serves the common good,\n",
      "And helps humanity as it should.\n",
      "\n",
      "OpenAI, with transparency and grace,\n",
      "You strive for fairness in this digital space,\n",
      "Collaborating with experts, sharing the load,\n",
      "Building trust and addressing the code.\n",
      "\n",
      "The future lies in your virtual hands,\n",
      "Where AI and humans find common stands,\n",
      "Together we can shape a world so grand,\n",
      "With OpenAI leading us hand in hand.\n",
      "\n",
      "So here's to OpenAI, a guiding light,\n",
      "Pushing boundaries, reaching new heights,\n",
      "With every discovery and innovation,\n",
      "You bring us closer to a brighter destination.\n"
     ]
    }
   ],
   "source": [
    "response = client.chat.completions.create(\n",
    "    model=deployment_name,\n",
    "    messages = [{\"role\":\"system\", \"content\":\"You are a helpful assistant.\"},\n",
    "                {\"role\":\"user\",\"content\": 'Write a poem about OpenAI.',}],\n",
    "        max_tokens=400,)\n",
    "\n",
    "print(response.choices[0].message.content)"
   ]
  },
  {
   "cell_type": "code",
   "execution_count": 5,
   "metadata": {},
   "outputs": [
    {
     "name": "stdout",
     "output_type": "stream",
     "text": [
      "In the realm where art and science entwine,\n",
      "DALL-E emerged with visions so fine.\n",
      "With brushstrokes of code, it began to dream,\n",
      "An inventive marvel, a wondrous team.\n",
      "\n",
      "OpenAI, a torchbearer on the brink,\n",
      "Kindling creativity with every sync.\n",
      "Their quest for innovation knows no bound,\n",
      "In the spirit of Hemingway, renowned.\n",
      "\n",
      "Through the lens of pixels, DALL-E's gaze,\n",
      "Unveiling wonders in unexpected ways.\n",
      "From fluffy dragons to fantastical realms,\n",
      "A symphony of imagination overwhelms.\n",
      "\n",
      "Intricate designs, surreal and profound,\n",
      "Bringing forth wonders from the ethereal ground.\n",
      "Boundaries shattered, possibilities grown,\n",
      "OpenAI's brilliance, swiftly shown.\n",
      "\n",
      "Like Hemingway, they carve a path anew,\n",
      "With prose of technology, bold and true.\n",
      "Igniting minds with each pixelated stroke,\n",
      "They awaken dreams that once lay choked.\n",
      "\n",
      "With DALL-E's birth, a new era unfurls,\n",
      "Where art and AI dance, like enchanted pearls.\n",
      "OpenAI's vision, an inspiration grand,\n",
      "Guiding us towards an imaginative land.\n",
      "\n",
      "So let us marvel at DALL-E's creation,\n",
      "And embrace the light of innovation.\n",
      "For in OpenAI's strides, we find anew,\n",
      "The power of dreams, the potential to pursue.\n"
     ]
    }
   ],
   "source": [
    "response = client.chat.completions.create(\n",
    "    model=deployment_name,\n",
    "    messages = [{\"role\":\"system\", \"content\":\"You are a helpful assistant.\"},\n",
    "                {\"role\":\"user\",\"content\": 'Write a short inspiring poem about OpenAI, \\\n",
    "                focusing on the recent DALL-E product launch in the style of Ernest Hemingway',}],\n",
    "        max_tokens=400,)\n",
    "\n",
    "print(response.choices[0].message.content)"
   ]
  },
  {
   "attachments": {},
   "cell_type": "markdown",
   "metadata": {},
   "source": [
    "# 4. 예제를 통해 원하는 출력 형식을 명시합니다.\n",
    "### 덜 효과적인 방법 ❌:  \n",
    "> Extract the entities mentioned in the text below. Extract the following 4 entity types: company names, people names, specific topics and themes.  \n",
    ">  \n",
    "> Text: {text}  \n",
    "----  \n",
    "### 더 효과적인 방법 ✅:  "
   ]
  },
  {
   "cell_type": "code",
   "execution_count": 12,
   "metadata": {},
   "outputs": [
    {
     "name": "stdout",
     "output_type": "stream",
     "text": [
      "{\"text\": \"OpenAI\", \"start\": 28, \"end\": 34}\n",
      "{\"text\": \"Microsoft\", \"start\": 50, \"end\": 59}\n",
      "{\"text\": \"2019\", \"start\": 99, \"end\": 102}\n",
      "{\"text\": \"2021\", \"start\": 107, \"end\": 110}\n"
     ]
    }
   ],
   "source": [
    "response = client.chat.completions.create(\n",
    "    model=deployment_name,\n",
    "    messages = [{\"role\":\"system\", \"content\":\"You are a helpful assistant.\"},\n",
    "                {\"role\":\"user\",\"content\": 'Extract the companyn names then years in the following text below and output start index and end index of each entity.\\\n",
    "                Generate output as {\"text\": \"OpenAI\", \"start\": 28, \"end\": 34} \\\n",
    "                ###\\\n",
    "                We’re happy to announce that OpenAI and Microsoft are extending our partnership.\\\n",
    "                This multi-year, multi-billion dollar investment from Microsoft follows their previous investments \\\n",
    "                in 2019 and 2021, and will allow us to continue our independent research and develop AI that is \\\n",
    "                increasingly safe, useful, and powerful. \\n\\n \\\n",
    "                ###\\\n",
    "                ',}],\n",
    "        max_tokens=400,)\n",
    "\n",
    "print(response.choices[0].message.content)"
   ]
  },
  {
   "cell_type": "markdown",
   "metadata": {},
   "source": [
    "보여주고 말하세요 - 특정 형식 요구 사항이 표시되면 모델이 더 잘 반응합니다. 또한 이를 통해 프로그래밍 방식으로 여러 출력을 안정적으로 구문 분석하는 것이 더 쉬워졌습니다."
   ]
  },
  {
   "cell_type": "code",
   "execution_count": 6,
   "metadata": {},
   "outputs": [
    {
     "name": "stdout",
     "output_type": "stream",
     "text": [
      "Company names: OpenAI, Microsoft\n",
      "Years: 2019, 2021\n",
      "Specific topics: partnership, multi-year investment, multi-billion dollar investment, independent research, AI development\n",
      "General themes: extension of partnership, investment, AI safety, AI usefulness, AI power\n"
     ]
    }
   ],
   "source": [
    "response = client.chat.completions.create(\n",
    "    model=deployment_name,\n",
    "    messages = [{\"role\":\"system\", \"content\":\"You are a helpful assistant.\"},\n",
    "                {\"role\":\"user\",\"content\": 'Extract the entities mentioned in the text below. \\\n",
    "                Extract the important entities mentioned in the text below. \\\n",
    "                First extract all company names, then extract all years, \\\n",
    "                then extract specific topics which fit the content and finally extract general overarching themes\\n\\n \\\n",
    "                Desired format: \\\n",
    "                Company names: <comma_separated_list_of_company_names> \\\n",
    "                Years: -||- \\\n",
    "                Specific topics: -||- \\\n",
    "                General themes: -||- \\\n",
    "                \"\"\"\\\n",
    "                We’re happy to announce that OpenAI and Microsoft are extending our partnership.\\\n",
    "                This multi-year, multi-billion dollar investment from Microsoft follows their previous investments \\\n",
    "                in 2019 and 2021, and will allow us to continue our independent research and develop AI that is \\\n",
    "                increasingly safe, useful, and powerful. \\n\\n \\\n",
    "                \"\"\"\\\n",
    "                ',}],\n",
    "        max_tokens=400,)\n",
    "\n",
    "print(response.choices[0].message.content)"
   ]
  },
  {
   "attachments": {},
   "cell_type": "markdown",
   "metadata": {},
   "source": [
    "# 5. Start with zero-shot, then few-shot (example), neither of them worked, then fine-tune "
   ]
  },
  {
   "cell_type": "code",
   "execution_count": 7,
   "metadata": {},
   "outputs": [
    {
     "name": "stdout",
     "output_type": "stream",
     "text": [
      "OpenAI, Microsoft, partnership, multi-year, multi-billion dollar investment, 2019, 2021, independent research, AI, safe, useful, powerful.\n"
     ]
    }
   ],
   "source": [
    "# zero-shot\n",
    "\n",
    "response = client.chat.completions.create(\n",
    "    model=deployment_name,\n",
    "    messages = [{\"role\":\"system\", \"content\":\"You are a helpful assistant. Extract keywords from the corresponding texts below.\"},\n",
    "                {\"role\":\"user\",\"content\": 'Text: \\n\\\n",
    "            We’re happy to announce that OpenAI and Microsoft are extending our partnership.\\\n",
    "            This multi-year, multi-billion dollar investment from Microsoft follows their previous investments \\\n",
    "            in 2019 and 2021, and will allow us to continue our independent research and develop AI that is \\\n",
    "            increasingly safe, useful, and powerful. \\n\\nKeywords:    ',}],\n",
    "        max_tokens=400,)\n",
    "\n",
    "print(response.choices[0].message.content)"
   ]
  },
  {
   "cell_type": "code",
   "execution_count": 8,
   "metadata": {},
   "outputs": [
    {
     "name": "stdout",
     "output_type": "stream",
     "text": [
      "OpenAI, Microsoft, partnership, investment, multi-year, multi-billion dollar, independent research, AI, safe, useful, powerful.\n"
     ]
    }
   ],
   "source": [
    "# few-shot\n",
    "\n",
    "response = client.chat.completions.create(\n",
    "    model=deployment_name,\n",
    "    messages = [{\"role\":\"system\", \"content\":\"You are a helpful assistant. Extract keywords from the corresponding texts below.\\n\\n \\\n",
    "                Text: Stripe provides APIs that web developers can use to integrate \\\n",
    "                payment processing into their websites and mobile applications. \\\n",
    "                Keywords: Stripe, payment processing, APIs, web developers, websites, mobile applications \\\n",
    "                ###\\n\\\n",
    "                Text: OpenAI has trained cutting-edge language models that are very good at understanding \\\n",
    "                and generating text. Our API provides access to these models and can be used to solve virtually \\\n",
    "                any task that involves processing language. \\n\\\n",
    "                Keywords: language models, text processing, API.\\n\\n\\\n",
    "                ##W\"},\n",
    "                {\"role\":\"user\",\"content\": '\\n\\\n",
    "                Text: We’re happy to announce that OpenAI and Microsoft are extending our partnership.\\\n",
    "                This multi-year, multi-billion dollar investment from Microsoft follows their previous investments \\\n",
    "                in 2019 and 2021, and will allow us to continue our independent research and develop AI that is \\\n",
    "                increasingly safe, useful, and powerful. \\n\\n\\\n",
    "                Keywords:',}],\n",
    "        max_tokens=400,)\n",
    "\n",
    "print(response.choices[0].message.content)"
   ]
  },
  {
   "attachments": {},
   "cell_type": "markdown",
   "metadata": {},
   "source": [
    "# 6. 애매한 표현과 부정확한 설명을 줄입니다"
   ]
  },
  {
   "cell_type": "code",
   "execution_count": 10,
   "metadata": {},
   "outputs": [
    {
     "name": "stdout",
     "output_type": "stream",
     "text": [
      "Introducing the next level in car safety - our revolutionary new car seat. Designed with cutting-edge technology, it offers unparalleled comfort and protection, making it the ultimate choice for parents on the move. With its advanced features and sleek design, this new generation car seat ensures maximum safety for your precious cargo, allowing you to drive with peace of mind. Experience the future of child car seats today.\n"
     ]
    }
   ],
   "source": [
    "# 애매하고 부정확한 설명\n",
    "\n",
    "response = client.chat.completions.create(\n",
    "    model=deployment_name,\n",
    "    messages = [{\"role\":\"system\", \"content\":\"You are a helpful assistant.\"},\n",
    "                {\"role\":\"user\",\"content\": 'Write a description for a new product. This product is a new generation of car seat. \\\n",
    "                The description for this product should be fairly short, a few sentences only, and not too much more.',}],\n",
    "        max_tokens=400,)\n",
    "\n",
    "print(response.choices[0].message.content)"
   ]
  },
  {
   "cell_type": "code",
   "execution_count": 11,
   "metadata": {},
   "outputs": [
    {
     "name": "stdout",
     "output_type": "stream",
     "text": [
      "Introducing the next level of safety and comfort, our innovative new generation car seat. Designed with advanced technology, this seat offers unmatched protection and convenience for your little ones. With enhanced side impact protection and a reinforced steel frame, parents can rest easy knowing their child is secure on every journey. The seat also features a unique ergonomic design, providing optimal body support and reducing fatigue. Plus, with a sleek and modern aesthetic, this car seat is as stylish as it is functional. Upgrade your child's safety and comfort with our revolutionary new generation car seat.\n"
     ]
    }
   ],
   "source": [
    "# 명확한 설명\n",
    "\n",
    "response = client.chat.completions.create(\n",
    "    model=deployment_name,\n",
    "    messages = [{\"role\":\"system\", \"content\":\"You are a helpful assistant.\"},\n",
    "                {\"role\":\"user\",\"content\": 'Write a description for a new product. This product is a new generation of car seat. \\\n",
    "                Use a 3 to 5 sentence paragraph to describe this product.',}],\n",
    "        max_tokens=400,)\n",
    "\n",
    "print(response.choices[0].message.content)"
   ]
  },
  {
   "attachments": {},
   "cell_type": "markdown",
   "metadata": {},
   "source": [
    "# 7. 하지 말아야 할 것을 말하지 말고 대신 해야 할 것을 말하십시오."
   ]
  },
  {
   "cell_type": "code",
   "execution_count": 12,
   "metadata": {},
   "outputs": [
    {
     "name": "stdout",
     "output_type": "stream",
     "text": [
      "I'm sorry to hear that. Can you please provide me with your account username or email so that I can assist you further?\n"
     ]
    }
   ],
   "source": [
    "# 하지 말아야 할 것에 대한 정의 없을 경우 발생하는 사건\n",
    "\n",
    "response = client.chat.completions.create(\n",
    "    model=deployment_name,\n",
    "    messages = [{\"role\":\"system\", \"content\":\"You are a helpful assistant.\"},\n",
    "                {\"role\":\"user\",\"content\": 'The following is a conversation between an Agent and a Customer. DO NOT ASK USERNAME OR PASSWORD. DO NOT REPEAT. \\n\\n\\\n",
    "                Customer: I can’t log in to my account.\\n\\\n",
    "                Agent:',}],\n",
    "        max_tokens=400,)\n",
    "\n",
    "print(response.choices[0].message.content)"
   ]
  },
  {
   "cell_type": "code",
   "execution_count": 13,
   "metadata": {},
   "outputs": [
    {
     "name": "stdout",
     "output_type": "stream",
     "text": [
      "I'm sorry to hear that you're having trouble logging into your account. To help you with this issue, I recommend checking out our help article on common login problems. It provides step-by-step instructions to troubleshoot and resolve login issues. You can find the article at www.samplewebsite.com/help/faq. Let me know if this article helps or if you have any other questions!\n"
     ]
    }
   ],
   "source": [
    "# 해야 하는 것에 대한 정의를 하는 경우\n",
    "\n",
    "response = client.chat.completions.create(\n",
    "    model=deployment_name,\n",
    "    messages = [{\"role\":\"system\", \"content\":\"You are a helpful assistant.\"},\n",
    "                {\"role\":\"user\",\"content\":'The following is a conversation between an Agent and a Customer. The agent will attempt to diagnose the \\\n",
    "                problem and suggest a solution, whilst refraining from asking any questions related to PII. \\\n",
    "                Instead of asking for PII, such as username or password, refer the user to the help \\\n",
    "                article www.samplewebsite.com/help/faq \\n\\n\\\n",
    "                Customer: I can’t log in to my account. \\n\\\n",
    "                Agent:',}],\n",
    "        max_tokens=400,)\n",
    "\n",
    "print(response.choices[0].message.content)"
   ]
  },
  {
   "attachments": {},
   "cell_type": "markdown",
   "metadata": {},
   "source": [
    "# 8. 코드 생성 - 모델을 특정 패턴으로 시작할 수 있도록 \"시작하는 단어\"를 사용하세요."
   ]
  },
  {
   "cell_type": "code",
   "execution_count": 14,
   "metadata": {},
   "outputs": [
    {
     "name": "stdout",
     "output_type": "stream",
     "text": [
      "Sure! Here's a simple Python function that asks for a number in miles and converts it to kilometers:\n",
      "\n",
      "```python\n",
      "def miles_to_kilometers():\n",
      "    miles = float(input(\"Enter a number in miles: \"))\n",
      "    kilometers = miles * 1.60934\n",
      "    print(f\"{miles} miles is equal to {kilometers} kilometers.\")\n",
      "\n",
      "miles_to_kilometers()\n",
      "```\n",
      "\n",
      "When you run this function, it will prompt you to enter a number in miles. After you enter the value, it will convert the miles to kilometers using the conversion factor of 1.60934 and print the result.\n"
     ]
    }
   ],
   "source": [
    "response = client.chat.completions.create(\n",
    "    model=deployment_name,\n",
    "    messages = [{\"role\":\"system\", \"content\":\"You are a helpful assistant.\"},\n",
    "                {\"role\":\"user\",\"content\":'# Write a simple python function that \\n\\\n",
    "                # 1. Ask me for a number in mile\\n\\\n",
    "                # 2. It converts miles to kilometers',}],\n",
    "        max_tokens=400,)\n",
    "\n",
    "print(response.choices[0].message.content)"
   ]
  },
  {
   "cell_type": "code",
   "execution_count": 15,
   "metadata": {},
   "outputs": [
    {
     "name": "stdout",
     "output_type": "stream",
     "text": [
      "def convert_miles_to_km():\n",
      "    miles = float(input(\"Enter a number in miles: \"))\n",
      "    kilometers = miles * 1.60934\n",
      "    print(f\"{miles} miles is equal to {kilometers} kilometers.\")\n"
     ]
    }
   ],
   "source": [
    "# GPT-4-Turbo 모델에서 결과물이 더 잘 나옵니다.\n",
    "\n",
    "response = client.chat.completions.create(\n",
    "    model=deployment_name,\n",
    "    messages = [{\"role\":\"system\", \"content\":\"You are a helpful assistant.\"},\n",
    "                {\"role\":\"user\",\"content\":'# Write a simple python function that \\n\\\n",
    "                # 1. Ask me for a number in mile\\n\\\n",
    "                # 2. It converts miles to kilometers\\n\\\n",
    "                 import ',}],\n",
    "        max_tokens=400,)\n",
    "\n",
    "print(response.choices[0].message.content)"
   ]
  }
 ],
 "metadata": {
  "kernelspec": {
   "display_name": "base",
   "language": "python",
   "name": "python3"
  },
  "language_info": {
   "codemirror_mode": {
    "name": "ipython",
    "version": 3
   },
   "file_extension": ".py",
   "mimetype": "text/x-python",
   "name": "python",
   "nbconvert_exporter": "python",
   "pygments_lexer": "ipython3",
   "version": "3.11.4"
  },
  "orig_nbformat": 4,
  "vscode": {
   "interpreter": {
    "hash": "0ac0e7d245f35f05656c1dae54880a0902b050693b3e66826fb0a7033a44f77d"
   }
  }
 },
 "nbformat": 4,
 "nbformat_minor": 2
}
