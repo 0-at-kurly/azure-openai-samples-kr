{
 "cells": [
  {
   "attachments": {},
   "cell_type": "markdown",
   "metadata": {},
   "source": [
    "# Best Practices for Prompt Engineering\n",
    "\n",
    "source: https://help.openai.com/en/articles/6654000-best-practices-for-prompt-engineering-with-openai-api\n"
   ]
  },
  {
   "cell_type": "code",
   "execution_count": 1,
   "metadata": {},
   "outputs": [],
   "source": [
    "import os\n",
    "import openai\n",
    "from dotenv import load_dotenv\n",
    "load_dotenv()\n",
    "openai.api_type = \"azure\"\n",
    "openai.api_version = \"2023-06-01-preview\"\n",
    "\n",
    "API_KEY = os.getenv(\"OPENAI_API_KEY\",\"\").strip()\n",
    "assert API_KEY, \"ERROR: Azure OpenAI Key is missing\"\n",
    "openai.api_key = API_KEY\n",
    "\n",
    "RESOURCE_ENDPOINT = os.getenv(\"OPENAI_API_BASE\",\"\").strip()\n",
    "assert RESOURCE_ENDPOINT, \"ERROR: Azure OpenAI Endpoint is missing\"\n",
    "assert \"openai.azure.com\" in RESOURCE_ENDPOINT.lower(), \"ERROR: Azure OpenAI Endpoint should be in the form: \\n\\n\\t<your unique endpoint identifier>.openai.azure.com\"\n",
    "openai.api_base = RESOURCE_ENDPOINT\n",
    "\n",
    "model=os.getenv('DEPLOYMENT_NAME')"
   ]
  },
  {
   "attachments": {},
   "cell_type": "markdown",
   "metadata": {},
   "source": [
    "# 1. 최신 모델 사용\n",
    "\n",
    "최상의 결과를 얻으려면 최신 모델을 사용하십시오."
   ]
  },
  {
   "attachments": {},
   "cell_type": "markdown",
   "metadata": {},
   "source": [
    "# 2. Prompt는 역할과 컨텍스트를 구분하여 작성\n",
    "Task는 System Role에 컨택스트를 넣고, 사용자 명령은 User Role에 컨택스트를 넣으세요. 경우에 따라서 구분자를 사용하세요. (``` \"\"\" ''')"
   ]
  },
  {
   "cell_type": "code",
   "execution_count": 5,
   "metadata": {},
   "outputs": [
    {
     "name": "stdout",
     "output_type": "stream",
     "text": [
      "- OpenAI and Microsoft are extending their partnership.\n",
      "- The investment from Microsoft is multi-year and multi-billion dollar.\n",
      "- The partnership will allow OpenAI to continue independent research and develop safer, more useful, and powerful AI.\n",
      "- OpenAI remains a capped-profit company and is governed by the OpenAI non-profit.\n",
      "- This structure allows OpenAI to raise capital without sacrificing its core beliefs on sharing benefits and prioritizing safety.\n",
      "- Microsoft shares OpenAI's vision and values.\n",
      "- The partnership is instrumental to OpenAI's progress.\n"
     ]
    }
   ],
   "source": [
    "content='We’re happy to announce that OpenAI and Microsoft are extending our partnership.\\\n",
    "        This multi-year, multi-billion dollar investment from Microsoft follows their previous investments \\\n",
    "        in 2019 and 2021, and will allow us to continue our independent research and develop AI that is \\\n",
    "        increasingly safe, useful, and powerful. \\n\\n \\\n",
    "        In pursuit of our mission to ensure advanced AI benefits all of humanity, OpenAI remains a \\\n",
    "        capped-profit company and is governed by the OpenAI non-profit. This structure allows us to \\\n",
    "        raise the capital we need to fulfill our mission without sacrificing our core beliefs about \\\n",
    "        broadly sharing benefits and the need to prioritize safety. \\\n",
    "        Microsoft shares this vision and our values, and our partnership is instrumental to our progress.'\n",
    "        \n",
    "prompt=f\"\"\"Summarize the text below as a bullet point list of the most important points. \\n\\n \\\n",
    "    ```{content}```\n",
    "    \"\"\"\n",
    "            \n",
    "messages=[\n",
    "    {\"role\": \"user\", \"content\": prompt},\n",
    "]\n",
    "\n",
    "response = openai.ChatCompletion.create(\n",
    "    engine=model,\n",
    "    messages=messages,\n",
    "    max_tokens=400,\n",
    ")\n",
    "\n",
    "print(response['choices'][0][\"message\"][\"content\"])"
   ]
  },
  {
   "cell_type": "code",
   "execution_count": 8,
   "metadata": {},
   "outputs": [
    {
     "name": "stdout",
     "output_type": "stream",
     "text": [
      "- OpenAI and Microsoft are extending their partnership\n",
      "- Microsoft has made a multi-year, multi-billion dollar investment in OpenAI\n",
      "- The investment will allow OpenAI to continue independent research and develop AI that is safe, useful, and powerful\n",
      "- OpenAI remains a capped-profit company and is governed by the OpenAI non-profit in pursuit of their mission to ensure advanced AI benefits all of humanity\n",
      "- This structure allows OpenAI to raise capital without sacrificing their core beliefs about sharing benefits and prioritizing safety\n",
      "- Microsoft shares OpenAI's vision and values, and their partnership is instrumental to OpenAI's progress\n"
     ]
    }
   ],
   "source": [
    "system_message='Summarize the text below as a bullet point list of the most important points.'\n",
    "user_message='We’re happy to announce that OpenAI and Microsoft are extending our partnership.\\\n",
    "            This multi-year, multi-billion dollar investment from Microsoft follows their previous investments \\\n",
    "            in 2019 and 2021, and will allow us to continue our independent research and develop AI that is \\\n",
    "            increasingly safe, useful, and powerful. \\n\\n \\\n",
    "            In pursuit of our mission to ensure advanced AI benefits all of humanity, OpenAI remains a \\\n",
    "            capped-profit company and is governed by the OpenAI non-profit. This structure allows us to \\\n",
    "            raise the capital we need to fulfill our mission without sacrificing our core beliefs about \\\n",
    "            broadly sharing benefits and the need to prioritize safety. \\\n",
    "            Microsoft shares this vision and our values, and our partnership is instrumental to our progress.'\n",
    "\n",
    "messages=[\n",
    "    {\"role\": \"system\", \"content\": system_message},\n",
    "    {\"role\": \"user\", \"content\": user_message},\n",
    "]\n",
    "\n",
    "response = openai.ChatCompletion.create(\n",
    "    engine=model,\n",
    "    messages=messages,\n",
    "    max_tokens=400,\n",
    ")\n",
    "\n",
    "print(response['choices'][0][\"message\"][\"content\"])"
   ]
  },
  {
   "attachments": {},
   "cell_type": "markdown",
   "metadata": {},
   "source": [
    "# 3. 원하는 컨텍스트, 결과, 길이, 형식, 스타일 등에 대해 구체적이고 가능한 한 자세히 설명하십시오."
   ]
  },
  {
   "cell_type": "code",
   "execution_count": 10,
   "metadata": {},
   "outputs": [
    {
     "name": "stdout",
     "output_type": "stream",
     "text": [
      "In the world of technology and AI,\n",
      "Where machines are learning to fly,\n",
      "There's an entity that stands out,\n",
      "For making AI accessible, no doubt.\n",
      "\n",
      "OpenAI, the name echoes loud,\n",
      "A champion of AI, amongst the crowd,\n",
      "With its cutting-edge research and innovations,\n",
      "It's paving the way for new explorations.\n",
      "\n",
      "From language models to neural nets,\n",
      "OpenAI's breakthroughs we cannot forget,\n",
      "GPT-3 was a game-changer of its own kind,\n",
      "A language model like no one could find.\n",
      "\n",
      "But innovation isn't all OpenAI represents,\n",
      "It's a champion of ethics, that never relents,\n",
      "The idea of safe and responsible AI,\n",
      "The quest that OpenAI will never let die.\n",
      "\n",
      "With the world of AI constantly changing,\n",
      "OpenAI's work is always engaging,\n",
      "As it strives for betterment every day,\n",
      "For a brighter and smarter AI way.\n",
      "\n",
      "So here's to OpenAI, the champion of AI,\n",
      "For leading us towards a future, way up high,\n",
      "May its research and innovations never cease,\n",
      "As they continue to bring groundbreaking peace.\n"
     ]
    }
   ],
   "source": [
    "prompt='Write a poem about OpenAI.'\n",
    "\n",
    "response = openai.ChatCompletion.create(\n",
    "            engine=model,\n",
    "            messages=[{\"role\": \"user\", \"content\": prompt}],\n",
    "            max_tokens=400,\n",
    "            n=1\n",
    "        )\n",
    "\n",
    "print(response['choices'][0][\"message\"][\"content\"])"
   ]
  },
  {
   "cell_type": "code",
   "execution_count": 11,
   "metadata": {},
   "outputs": [
    {
     "name": "stdout",
     "output_type": "stream",
     "text": [
      "OpenAI, bold and true,\n",
      "Recent launch of DALL-E, homage to you.\n",
      "Creativity unleashed,\n",
      "Innovative tech has been reached.\n",
      "\n",
      "Inspiration found in every line,\n",
      "As DALL-E prompts us to realign,\n",
      "Our vision of what's possible,\n",
      "With OpenAI, we feel unstoppable.\n",
      "\n",
      "With every step, we surge ahead,\n",
      "Exploring new limits, breaking new bread.\n",
      "Boldness and courage, our guiding force,\n",
      "OpenAI, we salute to your course.\n",
      "\n",
      "For DALL-E is the foundation,\n",
      "Of an endless source of creation.\n",
      "An ode to the future, we stand so bright,\n",
      "With OpenAI, we achieve new heights.\n"
     ]
    }
   ],
   "source": [
    "prompt='Write a short inspiring poem about OpenAI, \\\n",
    "        focusing on the recent DALL-E product launch in the style of Ernest Hemingway'\n",
    "\n",
    "response = openai.ChatCompletion.create(\n",
    "            engine=model,\n",
    "            messages=[{\"role\": \"user\", \"content\": prompt}],\n",
    "            max_tokens=400,\n",
    "        )\n",
    "\n",
    "print(response['choices'][0][\"message\"][\"content\"])"
   ]
  },
  {
   "attachments": {},
   "cell_type": "markdown",
   "metadata": {},
   "source": [
    "# 4. 예제를 통해 원하는 출력 형식을 설명하십시오 (예 1, 예 2)."
   ]
  },
  {
   "cell_type": "code",
   "execution_count": 12,
   "metadata": {},
   "outputs": [
    {
     "name": "stdout",
     "output_type": "stream",
     "text": [
      "{\"text\": \"OpenAI\", \"start\": 28, \"end\": 34}\n",
      "{\"text\": \"Microsoft\", \"start\": 50, \"end\": 59}\n",
      "{\"text\": \"2019\", \"start\": 99, \"end\": 102}\n",
      "{\"text\": \"2021\", \"start\": 107, \"end\": 110}\n"
     ]
    }
   ],
   "source": [
    "system_message='Extract the companyn names then years in the following text below and output start index and end index of each entity.\\\n",
    "                Generate output as {\"text\": \"OpenAI\", \"start\": 28, \"end\": 34}'\n",
    "user_message  ='We’re happy to announce that OpenAI and Microsoft are extending our partnership.\\\n",
    "                This multi-year, multi-billion dollar investment from Microsoft follows their previous investments \\\n",
    "                in 2019 and 2021, and will allow us to continue our independent research and develop AI that is \\\n",
    "                increasingly safe, useful, and powerful.'\n",
    "\n",
    "messages=[\n",
    "    {\"role\": \"system\", \"content\": system_message},\n",
    "    {\"role\": \"user\", \"content\": user_message},\n",
    "]\n",
    "                \n",
    "response = openai.ChatCompletion.create(\n",
    "        engine=model,\n",
    "        messages=messages,\n",
    "        max_tokens=400,\n",
    "        n=1\n",
    ")\n",
    "\n",
    "print(response['choices'][0][\"message\"][\"content\"])"
   ]
  },
  {
   "cell_type": "code",
   "execution_count": 17,
   "metadata": {},
   "outputs": [
    {
     "name": "stdout",
     "output_type": "stream",
     "text": [
      "회사 이름: OpenAI, Microsoft\n",
      "연도: 2019, 2021\n",
      "특정 주제: 인공지능, 안전, 유용성, 강력함\n",
      "일반적인 테마: 기술협력, 연구 및 개발\n"
     ]
    }
   ],
   "source": [
    "system_message='Extract the entities mentioned in the text below. \\\n",
    "    Extract the important entities mentioned in the text below. \\\n",
    "    First extract all company names, then extract all years, \\\n",
    "    then extract specific topics which fit the content and finally extract general overarching themes\\n\\n \\\n",
    "    Desired format: \\\n",
    "    Company names: <comma_separated_list_of_company_names> \\\n",
    "    Years: -||- \\\n",
    "    Specific topics: -||- \\\n",
    "    General themes: -||- '\n",
    "    \n",
    "user_message  ='We’re happy to announce that OpenAI and Microsoft are extending our partnership.\\\n",
    "    This multi-year, multi-billion dollar investment from Microsoft follows their previous investments \\\n",
    "    in 2019 and 2021, and will allow us to continue our independent research and develop AI that is \\\n",
    "    increasingly safe, useful, and powerful.'\n",
    "\n",
    "# system_message='아래 텍스트에 언급 된 엔티티를 추출하십시오. \\\n",
    "#     아래 텍스트에 언급 된 중요한 엔티티를 추출하십시오. \\\n",
    "#     먼저 모든 회사 이름을 추출한 다음 몇 년 동안 추출하고 \\\n",
    "#     그런 다음 내용에 맞는 특정 주제를 추출하고 마지막으로 일반적인 가장 중요한 테마를 추출하십시오.\\n\\n \\\n",
    "#     Desired format: \\\n",
    "#     회사 이름: <comma_separated_list_of_company_names> \\\n",
    "#     연도: -||- \\\n",
    "#     특정 주제: -||- \\\n",
    "#     일반적인 테마: -||- '\n",
    "\n",
    "messages=[\n",
    "    {\"role\": \"system\", \"content\": system_message},\n",
    "    {\"role\": \"user\", \"content\": user_message},\n",
    "]\n",
    "\n",
    "response = openai.ChatCompletion.create(\n",
    "    engine=model,\n",
    "    messages=messages,\n",
    "    max_tokens=400,\n",
    "    n=1\n",
    ")\n",
    "\n",
    "print(response['choices'][0][\"message\"][\"content\"])"
   ]
  },
  {
   "attachments": {},
   "cell_type": "markdown",
   "metadata": {},
   "source": [
    "# 5. Start with zero-shot, then few-shot (example), neither of them worked, then fine-tune "
   ]
  },
  {
   "cell_type": "code",
   "execution_count": 18,
   "metadata": {},
   "outputs": [
    {
     "name": "stdout",
     "output_type": "stream",
     "text": [
      "OpenAI, Microsoft, partnership, multi-year, multi-billion dollar investment, independent research, AI, safe, useful, powerful.\n"
     ]
    }
   ],
   "source": [
    "# zero-shot\n",
    "\n",
    "system_message='Extract keywords from the below text.'\n",
    "user_message  ='We’re happy to announce that OpenAI and Microsoft are extending our partnership.\\\n",
    "This multi-year, multi-billion dollar investment from Microsoft follows their previous investments \\\n",
    "in 2019 and 2021, and will allow us to continue our independent research and develop AI that is \\\n",
    "increasingly safe, useful, and powerful.'\n",
    "\n",
    "messages=[\n",
    "    {\"role\": \"system\", \"content\": system_message},\n",
    "    {\"role\": \"user\", \"content\": user_message},\n",
    "]\n",
    "\n",
    "response = openai.ChatCompletion.create(\n",
    "    engine=model,\n",
    "    messages=messages,\n",
    "    max_tokens=400,\n",
    "    n=1\n",
    ")\n",
    "\n",
    "print(response['choices'][0][\"message\"][\"content\"])"
   ]
  },
  {
   "cell_type": "code",
   "execution_count": 19,
   "metadata": {},
   "outputs": [
    {
     "name": "stdout",
     "output_type": "stream",
     "text": [
      "Keywords 3: OpenAI, Microsoft, partnership, investment, independent research, AI, safe, useful, powerful.\n"
     ]
    }
   ],
   "source": [
    "# few-shot\n",
    "\n",
    "messages=[\n",
    "    {\"role\": \"system\", \"content\": 'Extract keywords from the corresponding texts below.'},\n",
    "    {\"role\": \"user\", \"content\": 'Text 1: Stripe provides APIs that web developers can use to integrate payment processing into their websites and mobile applications.'},\n",
    "    {\"role\": \"assistant\", \"content\": 'Keywords 1: Stripe, payment processing, APIs, web developers, websites, mobile applications'},\n",
    "    {\"role\": \"user\", \"content\": 'Text 2: OpenAI has trained cutting-edge language models that are very good at understanding and generating text. Our API provides access to these models and can be used to solve virtually any task that involves processing language.'},\n",
    "    {\"role\": \"assistant\", \"content\": 'Keywords 2: OpenAI, language models, text processing, API.'},\n",
    "    {\"role\": \"user\", \"content\": 'Text 3: We’re happy to announce that OpenAI and Microsoft are extending our partnership. This multi-year, multi-billion dollar investment from Microsoft follows their previous investments in 2019 and 2021, and will allow us to continue our independent research and develop AI that is increasingly safe, useful, and powerful.'},\n",
    "]\n",
    "\n",
    "response = openai.ChatCompletion.create(\n",
    "    engine=model,\n",
    "    messages=messages,\n",
    "    max_tokens=400,\n",
    "    n=1\n",
    ")\n",
    "\n",
    "print(response['choices'][0][\"message\"][\"content\"])\n"
   ]
  },
  {
   "attachments": {},
   "cell_type": "markdown",
   "metadata": {},
   "source": [
    "# 6. 애매한 표현과 부정확한 설명을 줄입니다"
   ]
  },
  {
   "cell_type": "code",
   "execution_count": 21,
   "metadata": {},
   "outputs": [
    {
     "name": "stdout",
     "output_type": "stream",
     "text": [
      "Introducing the revolutionary new car seat that offers unparalleled safety and comfort for your child. This seat features advanced impact protection and is designed to fit a wide range of vehicles, making it the perfect choice for families on the go. With its sleek, modern design and easy-to-clean fabrics, this car seat will become your go-to solution for safe and comfortable travel.\n"
     ]
    }
   ],
   "source": [
    "# 애매하고 부정확한 설명\n",
    "\n",
    "messages=[\n",
    "    {\"role\": \"system\", \"content\": 'Write a description for a new product.'},\n",
    "    {\"role\": \"user\", \"content\": 'This product is a new generation of car seat. The description for this product should be fairly short, a few sentences only, and not too much more.'},\n",
    "]\n",
    "\n",
    "response = openai.ChatCompletion.create(\n",
    "    engine=model,\n",
    "    messages=messages,\n",
    "    max_tokens=400,\n",
    "    n=1\n",
    ")\n",
    "\n",
    "print(response['choices'][0][\"message\"][\"content\"])"
   ]
  },
  {
   "cell_type": "code",
   "execution_count": 22,
   "metadata": {},
   "outputs": [
    {
     "name": "stdout",
     "output_type": "stream",
     "text": [
      "Introducing the state-of-the-art car seat! This revolutionary product is designed to prioritize the safety and comfort of your child while they are seated in your vehicle. Made from premium quality materials, this car seat boasts adjustable settings that allow it to grow with your child, making it a long-lasting investment. This seat is engineered to absorb energy in the event of a collision, ensuring maximum protection for your child at all times. Additionally, this car seat is easy to install and can be adjusted to different recline angles depending on the preference of your child.\n"
     ]
    }
   ],
   "source": [
    "# 명확한 설명\n",
    "\n",
    "messages=[\n",
    "    {\"role\": \"system\", \"content\": 'Write a description for a new product.'},\n",
    "    {\"role\": \"user\", \"content\": 'This product is a new generation of car seat. Use a 3 to 5 sentence paragraph to describe this product.'},\n",
    "]\n",
    "\n",
    "response = openai.ChatCompletion.create(\n",
    "    engine=model,\n",
    "    messages=messages,\n",
    "    max_tokens=400,\n",
    "    n=1\n",
    ")\n",
    "\n",
    "print(response['choices'][0][\"message\"][\"content\"])"
   ]
  },
  {
   "attachments": {},
   "cell_type": "markdown",
   "metadata": {},
   "source": [
    "# 7. 하지 말아야 할 것을 말하지 말고 대신 해야 할 것을 말하십시오."
   ]
  },
  {
   "cell_type": "code",
   "execution_count": 23,
   "metadata": {},
   "outputs": [
    {
     "name": "stdout",
     "output_type": "stream",
     "text": [
      "I'm sorry to hear that. Have you tried resetting your password?\n"
     ]
    }
   ],
   "source": [
    "# 하지 말아야 할 것에 대한 정의 없을 경우 발생하는 사건\n",
    "\n",
    "messages=[\n",
    "    {\"role\": \"system\", \"content\": 'The following is a conversation between an Agent and a Customer. DO NOT ASK USERNAME OR PASSWORD. DO NOT REPEAT.'},\n",
    "    {\"role\": \"user\", \"content\": 'I can’t log in to my account.'},\n",
    "]\n",
    "\n",
    "response = openai.ChatCompletion.create(\n",
    "    engine=model,\n",
    "    messages=messages,\n",
    "    max_tokens=400,\n",
    "    n=1\n",
    ")\n",
    "\n",
    "print(response['choices'][0][\"message\"][\"content\"])"
   ]
  },
  {
   "cell_type": "code",
   "execution_count": 25,
   "metadata": {},
   "outputs": [
    {
     "name": "stdout",
     "output_type": "stream",
     "text": [
      "I'm sorry about that! Let's see if we can figure out the issue. Have you tried resetting your password? Sometimes that can help if you're having trouble logging in. You can find instructions on how to reset your password in our help article here: www.samplewebsite.com/help/faq.\n"
     ]
    }
   ],
   "source": [
    "# 해야 하는 것에 대한 정의를 하는 경우\n",
    "\n",
    "messages=[\n",
    "    {\"role\": \"system\", \"content\": 'The following is a conversation between an Agent and a Customer. The agent will attempt to diagnose the \\\n",
    "                problem and suggest a solution, whilst refraining from asking any questions related to PII. \\\n",
    "                Instead of asking for PII, such as username or password, refer the user to the help \\\n",
    "                article www.samplewebsite.com/help/faq'},\n",
    "    {\"role\": \"user\", \"content\": 'I can’t log in to my account.'},\n",
    "]\n",
    "\n",
    "response = openai.ChatCompletion.create(\n",
    "    engine=model,\n",
    "    messages=messages,\n",
    "    max_tokens=400,\n",
    "    n=1\n",
    ")\n",
    "\n",
    "print(response['choices'][0][\"message\"][\"content\"])"
   ]
  },
  {
   "attachments": {},
   "cell_type": "markdown",
   "metadata": {},
   "source": [
    "# 8. 코드 생성 - 모델을 특정 패턴으로 시작할 수 있도록 \"시작하는 단어\"를 사용하세요."
   ]
  },
  {
   "cell_type": "code",
   "execution_count": 26,
   "metadata": {},
   "outputs": [
    {
     "name": "stdout",
     "output_type": "stream",
     "text": [
      "def miles_to_km():\n",
      "    mile = float(input(\"Enter the distance in miles: \"))\n",
      "    km = mile * 1.60934\n",
      "    print(mile, \"miles is equal to\", km, \"kilometers\")\n"
     ]
    }
   ],
   "source": [
    "messages=[\n",
    "    {\"role\": \"user\", \"content\": '# Write a simple python function that \\n\\\n",
    "                # 1. Ask me for a number in mile\\n\\\n",
    "                # 2. It converts miles to kilometers'},\n",
    "]\n",
    "\n",
    "response = openai.ChatCompletion.create(\n",
    "    engine=model,\n",
    "    messages=messages,\n",
    "    max_tokens=400,\n",
    ")\n",
    "\n",
    "print(response['choices'][0][\"message\"][\"content\"])"
   ]
  },
  {
   "cell_type": "code",
   "execution_count": 5,
   "metadata": {},
   "outputs": [
    {
     "name": "stdout",
     "output_type": "stream",
     "text": [
      " math\n",
      "                \n",
      "                def miles_to_km(miles):\n",
      "                    km = miles * 1.609\n",
      "                    return math.floor(km)\n",
      "                    \n",
      "                miles = float(input('Enter a value in miles:'))\n",
      "                km = miles_to_km(miles)\n",
      "                print(f'{miles} miles in kilometers is {km}km')\n"
     ]
    }
   ],
   "source": [
    "# text-davinchi-003 or GPT-4 모델에서 결과물이 더 잘 나옵니다.\n",
    "\n",
    "messages=[\n",
    "    {\"role\": \"user\", \"content\": '# Write a simple python function that \\n\\\n",
    "                # 1. Ask me for a number in mile\\n\\\n",
    "                # 2. It converts miles to kilometers\\n\\n\\\n",
    "                import '},\n",
    "]\n",
    "\n",
    "response = openai.ChatCompletion.create(\n",
    "    engine=model,\n",
    "    messages=messages,\n",
    "    max_tokens=400,\n",
    ")\n",
    "\n",
    "print(response['choices'][0][\"message\"][\"content\"])\n",
    "\n",
    "# text-davinchi-003 에서 테스트한 결과 입니다.\n",
    "# response = openai.Completion.create(\n",
    "#             engine=os.getenv('DEPLOYMENT_NAME_003'),\n",
    "#             prompt='# Write a simple python function that \\n\\\n",
    "#                 # 1. Ask me for a number in mile\\n\\\n",
    "#                 # 2. It converts miles to kilometers\\n\\n\\\n",
    "#                 import ',\n",
    "#             max_tokens=400,\n",
    "#         )\n",
    "\n",
    "# print(response['choices'][0]['text'])\n",
    "\n",
    "### output ###\n",
    "# math\n",
    "                \n",
    "#                 def miles_to_km(miles):\n",
    "#                     km = miles * 1.609\n",
    "#                     return math.floor(km)\n",
    "                    \n",
    "#                 miles = float(input('Enter a value in miles:'))\n",
    "#                 km = miles_to_km(miles)\n",
    "#                 print(f'{miles} miles in kilometers is {km}km')"
   ]
  },
  {
   "cell_type": "code",
   "execution_count": null,
   "metadata": {},
   "outputs": [],
   "source": []
  }
 ],
 "metadata": {
  "kernelspec": {
   "display_name": "base",
   "language": "python",
   "name": "python3"
  },
  "language_info": {
   "codemirror_mode": {
    "name": "ipython",
    "version": 3
   },
   "file_extension": ".py",
   "mimetype": "text/x-python",
   "name": "python",
   "nbconvert_exporter": "python",
   "pygments_lexer": "ipython3",
   "version": "3.9.2"
  },
  "orig_nbformat": 4,
  "vscode": {
   "interpreter": {
    "hash": "0ac0e7d245f35f05656c1dae54880a0902b050693b3e66826fb0a7033a44f77d"
   }
  }
 },
 "nbformat": 4,
 "nbformat_minor": 2
}
