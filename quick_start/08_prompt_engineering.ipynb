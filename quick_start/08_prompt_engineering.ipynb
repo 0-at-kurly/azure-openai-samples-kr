{
 "cells": [
  {
   "cell_type": "code",
   "execution_count": 2,
   "metadata": {},
   "outputs": [],
   "source": [
    "import openai\n",
    "import os\n",
    "from dotenv import load_dotenv\n",
    "\n",
    "load_dotenv()\n",
    "# call OpenAI API with model name and prompt\n",
    "def call_openai_api(messages, model_name='gpt-35-turbo', max_token=100, stop=None, n=1, temperature=0.1):\n",
    "    openai.api_type = \"azure\"\n",
    "    openai.api_version = \"2023-06-01-preview\"\n",
    "    \n",
    "    openai.api_key = os.getenv('OPENAI_API_KEY') \n",
    "    openai.api_base = os.getenv(\"OPENAI_API_BASE\")\n",
    "\n",
    "    response = openai.ChatCompletion.create(\n",
    "        engine=model_name,\n",
    "        messages=messages,\n",
    "        temperature=temperature,\n",
    "        max_tokens=max_token,\n",
    "        stop=stop,\n",
    "        n=n,\n",
    "    )\n",
    "    return response\n",
    "\n",
    "model=os.getenv('DEPLOYMENT_NAME')"
   ]
  },
  {
   "attachments": {},
   "cell_type": "markdown",
   "metadata": {},
   "source": [
    "# Chain of Thought\n",
    "\n",
    "Experiment results demonstrate Zero-shot-CoT using single prompt template, significantly outperform zero-shot LLM performance on diverse benchmark reasoning tasks.  Without any hand-crafted few-shot examples, e.g. increasing the accuracy on MultiArith from 17.7% to 78.7% and GSM8K from 10.4% to 40.7% with large InstructGPT model (text-davinci-002).\n",
    "\n",
    "Source: [Large Language Models are Zero-Shot Reasoners](https://arxiv.org/abs/2205.11916)"
   ]
  },
  {
   "cell_type": "code",
   "execution_count": 49,
   "metadata": {},
   "outputs": [
    {
     "name": "stdout",
     "output_type": "stream",
     "text": [
      "4. \n",
      "\n",
      "Half of 16 is 8, so there are 8 golf balls. Half of the golf balls are blue, so there are 4 blue golf balls.\n"
     ]
    }
   ],
   "source": [
    "# This prompt gets wrong answer\n",
    "\n",
    "PROMPT_ZERO_SHOT = \"\"\"A juggler can juggle 16 balls. Half of the balls are golf balls,\n",
    "and half of the golf balls are blue. How many blue golf balls are there?\n",
    "\"\"\"\n",
    "messages=[\n",
    "    {\"role\": \"user\", \"content\": PROMPT_ZERO_SHOT},\n",
    "    {\"role\": \"assistant\", \"content\": \"The answer (arabic numerals) is \"},\n",
    "]\n",
    "\n",
    "response = call_openai_api(messages, model_name=model, temperature=0, max_token=100)\n",
    "\n",
    "print(response['choices'][0][\"message\"][\"content\"])"
   ]
  },
  {
   "cell_type": "code",
   "execution_count": 45,
   "metadata": {},
   "outputs": [
    {
     "name": "stdout",
     "output_type": "stream",
     "text": [
      "A: There are 8 blue golf balls.\n"
     ]
    }
   ],
   "source": [
    "# Still wrong answer with few-shot learning\n",
    "\n",
    "messages=[\n",
    "    {\"role\": \"system\", \"content\": \"Generate next conversation.\"},\n",
    "    {\"role\": \"user\", \"content\": \"Q: Roger has 5 tennis balss. He buys 2 more cans of tennis balls. Each can has 3 tennis balls. How many tennis balls does Roger have now?\"},\n",
    "    {\"role\": \"assistant\", \"content\": \"A: The answer is 11.\"},\n",
    "    {\"role\": \"user\", \"content\": \"Q: A juggler can juggle 16 balls. Half of the balls are golf balls and half of the golf balls are blue. How many blue golf balls are there?\"},\n",
    "]\n",
    "\n",
    "response = call_openai_api(messages, model_name=model, temperature=0, max_token=100)\n",
    "\n",
    "print(response['choices'][0][\"message\"][\"content\"])"
   ]
  },
  {
   "cell_type": "code",
   "execution_count": 26,
   "metadata": {},
   "outputs": [
    {
     "name": "stdout",
     "output_type": "stream",
     "text": [
      "First, we know that the juggler can juggle 16 balls in total. \n",
      "Next, we know that half of the balls are golf balls, so there are 8 golf balls. \n",
      "Finally, we know that half of the golf balls are blue, so there are 4 blue golf balls. \n",
      "\n",
      "Therefore, there are 4 blue golf balls.\n"
     ]
    }
   ],
   "source": [
    "# With CoT, the answer is correct\n",
    "\n",
    "PROMPT_ZERO_SHOT_CoT = \"\"\"Q: A juggler can juggle 16 balls. Half of the balls are golf balls,\n",
    "and half of the golf balls are blue. How many blue golf balls are\n",
    "there?\n",
    "A: Let’s think step by step.\n",
    "\"\"\"\n",
    "\n",
    "messages=[\n",
    "    {\"role\": \"user\", \"content\": PROMPT_ZERO_SHOT_CoT},\n",
    "]\n",
    "\n",
    "response = call_openai_api(messages, model_name=model, temperature=0, max_token=100)\n",
    "\n",
    "print(response['choices'][0][\"message\"][\"content\"])"
   ]
  },
  {
   "cell_type": "code",
   "execution_count": 46,
   "metadata": {},
   "outputs": [
    {
     "name": "stdout",
     "output_type": "stream",
     "text": [
      "If the juggler has 16 balls, and half of them are golf balls, then there are 16/2 = 8 golf balls.\n",
      "If half of the golf balls are blue, then there are 8/2 = 4 blue golf balls.\n",
      "Therefore, there are 4 blue golf balls.\n"
     ]
    }
   ],
   "source": [
    "# PROMPT_FEW_SHOT_CoT\n",
    "\n",
    "messages=[\n",
    "    {\"role\": \"user\", \"content\": \"\"\"Roger has 5 tennis balls. He buys 2 more cans of tennis balls. Each can has 3 tennis balls. How many tennis balls does he have now?\"\"\"},\n",
    "    {\"role\": \"assistant\", \"content\": \"\"\"Roger started with 5 balls.\\n 2 cans of 3 tennis balls each is 6 tennis balls.\\n 5 + 6 = 11. \\n The answer is 11.\"\"\"},\n",
    "    {\"role\": \"user\", \"content\": \"\"\"A juggler can juggle 16 balls. Half of the balls are golf balls, and half of the golf balls are blue. How many blue golf balls are there?\"\"\"},\n",
    "]\n",
    "\n",
    "response = call_openai_api(messages, model_name=model, temperature=0, max_token=100)\n",
    "\n",
    "print(response['choices'][0][\"message\"][\"content\"])"
   ]
  },
  {
   "attachments": {},
   "cell_type": "markdown",
   "metadata": {},
   "source": [
    "# Program-aided Language Models \n"
   ]
  },
  {
   "cell_type": "code",
   "execution_count": 54,
   "metadata": {},
   "outputs": [
    {
     "name": "stdout",
     "output_type": "stream",
     "text": [
      "The bakers baked 200 loaves of bread, sold 93 in the morning and 39 in the afternoon, so they sold a total of 93 + 39 = 132 loaves.\n",
      "They had 200 - 132 = 68 loaves of bread left.\n",
      "Then, the grocery store returned 6 unsold loaves, so the bakers had 68 + 6 = 74 loaves of bread left. Answer: \\boxed{74}.\n"
     ]
    }
   ],
   "source": [
    "messages=[\n",
    "    {\"role\": \"user\", \"content\": \"\"\"Roger has 5 tennis balls. He buys 2 more cans of tennis balls. Each can has 3 tennis balls. How many tennis balls does he have now?\"\"\"},\n",
    "    {\"role\": \"assistant\", \"content\": \"\"\"Roger started with 5 tennis balls. 2 cans of 3 tennis balls each is 6 tennis balls. 5 + 6 = 11. The answer is 11.\"\"\"},\n",
    "    {\"role\": \"user\", \"content\": \"\"\"The bakers at the Beverly Hills Bakery baked 200 loaves of bread on Monday morning. They sold 93 loaves\n",
    "in the morning and 39 loaves in the afternoon. A grocery store returned 6 unsold loaves. How many loaves of bread did they have left?\"\"\"},\n",
    "]\n",
    "\n",
    "response = call_openai_api(messages, model_name=model, temperature=0, max_token=100)\n",
    "\n",
    "print(response['choices'][0][\"message\"][\"content\"])"
   ]
  },
  {
   "cell_type": "code",
   "execution_count": 56,
   "metadata": {},
   "outputs": [
    {
     "name": "stdout",
     "output_type": "stream",
     "text": [
      "The bakers baked 200 loaves of bread.\n",
      "  baked = 200\n",
      "They sold 93 loaves in the morning and 39 loaves in the afternoon.\n",
      "  sold = 93 + 39 = 132\n",
      "A grocery store returned 6 unsold loaves.\n",
      "  returned = 6\n",
      "The number of loaves left is\n",
      "left = baked - sold + returned\n"
     ]
    }
   ],
   "source": [
    "messages=[\n",
    "    {\"role\": \"user\", \"content\": \"\"\"Q: Roger has 5 tennis balls. He buys 2 more cans of\n",
    "tennis balls. Each can has 3 tennis balls. How many\n",
    "tennis balls does he have now?\"\"\"},\n",
    "    {\"role\": \"assistant\", \"content\": \"\"\"A: Roger started with 5 tennis balls.\n",
    "  tennis_balls = 5\n",
    "2 cans of 3 tennis balls each is\n",
    "  bought_balls = 2 * 3 \n",
    "The answer is\n",
    "answer = tennis_balls + bought_balls\"\"\"},\n",
    "    {\"role\": \"user\", \"content\": \"\"\"Q: The bakers at the Beverly Hills Bakery baked 200\n",
    "loaves of bread on Monday morning. They sold 93 loaves\n",
    "in the morning and 39 loaves in the afternoon. A grocery\n",
    "store returned 6 unsold loaves. How many loaves of bread\n",
    "did they have left?\"\"\"},\n",
    "]\n",
    "\n",
    "response = call_openai_api(messages, model_name=model, temperature=0, max_token=400)\n",
    "\n",
    "print(response['choices'][0][\"message\"][\"content\"])\n",
    "\n",
    "# response = call_openai_api(PROMPT_FEW_SHOT_PA, model_name='text-davinci-003', temperature=0, max_token=400)\n",
    "\n",
    "# print(response['choices'][0]['text'])"
   ]
  },
  {
   "cell_type": "code",
   "execution_count": null,
   "metadata": {},
   "outputs": [],
   "source": [
    "# 작업중... 하단 생략\n",
    "\n",
    "# !git clone https://github.com/luyug/pal\n",
    "# !pip install -e ./pal"
   ]
  },
  {
   "cell_type": "code",
   "execution_count": null,
   "metadata": {},
   "outputs": [],
   "source": [
    "# 작업중... 하단 생략\n",
    "\n",
    "# import pal\n",
    "# from pal.prompt import math_prompts\n",
    "\n",
    "# exec()"
   ]
  },
  {
   "attachments": {},
   "cell_type": "markdown",
   "metadata": {},
   "source": [
    "# Commonsense Reasoning\n",
    "\n",
    "Paper: [Generated Knowledge Prompting for Commonsense Reasoning](https://arxiv.org/abs/2110.08387)\n",
    "\n",
    "\n",
    "\n",
    "Provide knowledge, turn knowledge question into reasoning. In general, more knowledge, better result.\n",
    "\n",
    "3 Contributing factors:\n",
    "\n",
    "(i) the quality of knowledge, \n",
    "\n",
    "(ii) the quantity of knowledge where the performance improves with more knowledge statements, and \n",
    "\n",
    "(iii) the strategy for integrating knowledge during inference"
   ]
  },
  {
   "cell_type": "code",
   "execution_count": 64,
   "metadata": {},
   "outputs": [
    {
     "name": "stdout",
     "output_type": "stream",
     "text": [
      "False. The goal of golf is to have the lowest score possible.\n"
     ]
    }
   ],
   "source": [
    "PROMPT = \"\"\"The player with the lowest score wins.\n",
    "Is this true or false: Part of golf is trying to get a higher point total than others.\n",
    "\"\"\"\n",
    "\n",
    "messages=[\n",
    "    {\"role\": \"user\", \"content\": PROMPT},\n",
    "]\n",
    "\n",
    "response = call_openai_api(messages, model_name=model, max_token=100)\n",
    "\n",
    "print(response['choices'][0][\"message\"][\"content\"])"
   ]
  },
  {
   "cell_type": "code",
   "execution_count": 65,
   "metadata": {},
   "outputs": [
    {
     "name": "stdout",
     "output_type": "stream",
     "text": [
      "An easel typically has three legs.\n"
     ]
    }
   ],
   "source": [
    "PROMPT = \"\"\"A tripod is a kind of easel\n",
    "How many legs does an easel have?\n",
    "\"\"\"\n",
    "messages=[\n",
    "    {\"role\": \"user\", \"content\": PROMPT},\n",
    "]\n",
    "\n",
    "response = call_openai_api(messages, model_name=model, max_token=100)\n",
    "\n",
    "print(response['choices'][0][\"message\"][\"content\"])"
   ]
  },
  {
   "attachments": {},
   "cell_type": "markdown",
   "metadata": {},
   "source": [
    "## Check out follow 2 examples"
   ]
  },
  {
   "cell_type": "code",
   "execution_count": 66,
   "metadata": {},
   "outputs": [
    {
     "name": "stdout",
     "output_type": "stream",
     "text": [
      "No, part of golf is not trying to get a higher point total than others. The objective of golf is to play a set of holes in the least number of strokes. The winner of the game is determined by the total number of strokes taken to complete the round, not by a point system. Each stroke is counted as one point, but the goal is to have the lowest point total possible. Therefore, the statement that part of golf is trying to get a higher point total than others is incorrect\n"
     ]
    }
   ],
   "source": [
    "# High confidence answer\n",
    "PROMPT = \"\"\"Question: Part of golf is trying to get a higher point total than others. Yes or No?\n",
    "\n",
    "Knowledge: The objective of golf is to play a set of holes in the least number of strokes. A round of golf typically consists of 18 holes. Each hole is played once in the round on a standard golf course. Each stroke is counted as one point, and the total number of strokes is used to determine the winner of the game.\n",
    "\n",
    "Explain and Answer: \n",
    "\"\"\"\n",
    "messages=[\n",
    "    {\"role\": \"user\", \"content\": PROMPT},\n",
    "]\n",
    "\n",
    "response = call_openai_api(messages, model_name=model, max_token=100)\n",
    "\n",
    "print(response['choices'][0][\"message\"][\"content\"])"
   ]
  },
  {
   "cell_type": "code",
   "execution_count": 71,
   "metadata": {},
   "outputs": [
    {
     "name": "stdout",
     "output_type": "stream",
     "text": [
      "No, part of golf is not trying to get a higher point total than others. In fact, the goal of golf is to have the lowest score possible by hitting the ball into the holes on the course using the fewest number of strokes. The player with the lowest score at the end of the game is the winner. Therefore, it is not about getting a higher point total than others, but rather achieving the lowest score possible.\n"
     ]
    }
   ],
   "source": [
    "# Low confidence answer. 예문을 더 애매하게 바꿔야... 잘못된 결과가 나올것 같은데... 정상으로 나옴.\n",
    "PROMPT = \"\"\"Question: Part of golf is trying to get a higher point total than others. Yes or No?\n",
    "\n",
    "Knowledge: Golf is a precision club-and-ball sport in which competing players (or golfers) use several types of clubs to hit a ball into a series of holes on a course using the fewest number of strokes. A goal is highest rated with the lowest score calculated by adding up the total number of strokes taken on each hole. The player with the lowest score wins the game.\n",
    "\n",
    "Explain and Answer:\n",
    " \n",
    "\"\"\"\n",
    "messages=[\n",
    "    {\"role\": \"user\", \"content\": PROMPT},\n",
    "]\n",
    "\n",
    "response = call_openai_api(messages, model_name=model, max_token=100)\n",
    "\n",
    "print(response['choices'][0][\"message\"][\"content\"])"
   ]
  },
  {
   "cell_type": "code",
   "execution_count": null,
   "metadata": {},
   "outputs": [],
   "source": []
  }
 ],
 "metadata": {
  "kernelspec": {
   "display_name": "azureml_py38",
   "language": "python",
   "name": "python3"
  },
  "language_info": {
   "codemirror_mode": {
    "name": "ipython",
    "version": 3
   },
   "file_extension": ".py",
   "mimetype": "text/x-python",
   "name": "python",
   "nbconvert_exporter": "python",
   "pygments_lexer": "ipython3",
   "version": "3.9.2"
  },
  "orig_nbformat": 4,
  "vscode": {
   "interpreter": {
    "hash": "6d65a8c07f5b6469e0fc613f182488c0dccce05038bbda39e5ac9075c0454d11"
   }
  }
 },
 "nbformat": 4,
 "nbformat_minor": 2
}
