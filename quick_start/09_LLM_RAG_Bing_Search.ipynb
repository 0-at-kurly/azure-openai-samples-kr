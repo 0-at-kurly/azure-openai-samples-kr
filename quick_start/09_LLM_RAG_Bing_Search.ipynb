{
 "cells": [
  {
   "attachments": {},
   "cell_type": "markdown",
   "metadata": {},
   "source": [
    "# Bing Search 기반의 RAG를 활용한 데모\n",
    "\n",
    "이 데모에서는 GPT3 모델을 사용하여 자연 쿼리를 분석하고 지식 기반을 사용하여 더 많은 정보를 검색하고 질문에 답변하는 방법을 보여줍니다.  \n",
    "1. Bing Search API 활용: 검색한 결과를 참고하는 방법을 소개합니다. 여기서는 Bing Search API를 활용합니다."
   ]
  },
  {
   "cell_type": "code",
   "execution_count": 88,
   "metadata": {},
   "outputs": [],
   "source": [
    "import os\n",
    "import json\n",
    "import requests\n",
    "from openai import AzureOpenAI\n",
    "from dotenv import load_dotenv\n",
    "load_dotenv()\n",
    "\n",
    "client = AzureOpenAI(\n",
    "    azure_endpoint = os.getenv(\"AZURE_OPENAI_ENDPOINT\",\"\").strip(),\n",
    "    api_key        = os.getenv(\"AZURE_OPENAI_API_KEY\"),\n",
    "    api_version    = os.getenv(\"OPENAI_API_VERSION\")\n",
    ")\n",
    "\n",
    "deployment_name = os.getenv('DEPLOYMENT_NAME')"
   ]
  },
  {
   "cell_type": "markdown",
   "metadata": {},
   "source": [
    "## 1. Bing Search API를 활용하는 방법"
   ]
  },
  {
   "attachments": {},
   "cell_type": "markdown",
   "metadata": {},
   "source": [
    "### Start with a natural question  \n",
    "다음과 같이 LLM이 가지고 있지 않을 수 있는 데이터에 대한 접근이 필요할 때, 검색엔진을 활용할 수 있습니다."
   ]
  },
  {
   "attachments": {},
   "cell_type": "markdown",
   "metadata": {},
   "source": [
    "### Step 1: GPT3: What do I need to to answer this question?"
   ]
  },
  {
   "cell_type": "code",
   "execution_count": 111,
   "metadata": {},
   "outputs": [],
   "source": [
    "# 검색을 위해 필요한 정보를 추출하는 함수 정의\n",
    "def get_search_info(input_query):\n",
    "    system_prompt='''\n",
    "    Answer the following questions as best you can. You have access to the following tools: You can only Korean language.\n",
    "    Web Search: Use the web to find information\n",
    "    Question: Natural language-based questions that users want to ask through web searches\n",
    "    Answer: Describes how to effectively answer people's natural language-based questions and creates optimized search keywords needed for use in the Bing Search API. And create optimized search keywords needed for use in the Bing Search API. The answer format must strictly follow the JSON format below.\n",
    "    {\"Keywords\": \"Specify three sets of keywords information to search for key data that matches the user's question intent.\"}\n",
    "    '''\n",
    "    user_prompt = f'''\n",
    "    Question: {input_query}\n",
    "    '''\n",
    "\n",
    "    # Azure OpenAI GPT를 프롬프트 엔지니어링의 Few-shot 예시\n",
    "    prompt = [{\"role\":\"system\", \"content\":system_prompt},\n",
    "                {\"role\":\"user\", \"content\":\"Question: 2024년 한국 총선 날짜가 언제인지 회사를 안 가도 되는지 알려줘.\"},\n",
    "                {\"role\":\"assistant\", \"content\":\"\"\"{\"Keywords\": \"2024년 한국 총선 날짜 + 2024년 총선 공휴일 여부 + 총선 투표일 휴무 정책\"]}\"\"\"},\n",
    "                {\"role\":\"user\",\"content\": user_prompt}\n",
    "            ]\n",
    "        \n",
    "    response = client.chat.completions.create(\n",
    "        model=deployment_name,\n",
    "        messages = prompt,\n",
    "        max_tokens=600,\n",
    "        response_format={\"type\": \"json_object\"}\n",
    "    )\n",
    "\n",
    "    keywords = json.loads(response.choices[0].message.content)['Keywords']\n",
    "\n",
    "    return json.loads(response.choices[0].message.content)['Keywords']"
   ]
  },
  {
   "attachments": {},
   "cell_type": "markdown",
   "metadata": {},
   "source": [
    "### Step 2: Search web for more details  \n",
    "\n",
    "Bing Search API와 관련된 정보는 다음 Page에서 확인할 수 있습니다.  \n",
    "https://www.microsoft.com/en-us/bing/apis/bing-web-search-api"
   ]
  },
  {
   "cell_type": "code",
   "execution_count": 112,
   "metadata": {},
   "outputs": [],
   "source": [
    "# Bing search API를 이용하여 검색 결과를 가져오는 함수 정의\n",
    "def get_search_result(keywords):\n",
    "    subscription_key = os.getenv(\"BING_SEARCH_KEY\")\n",
    "    endpoint = os.getenv(\"BING_SEARCH_ENDPOINT\") + \"/v7.0/search\"\n",
    "\n",
    "    query = keywords\n",
    "\n",
    "    # Construct a request\n",
    "    mkt = 'ko_KR'\n",
    "    params = { 'q': query, 'mkt': mkt }\n",
    "    headers = { 'Ocp-Apim-Subscription-Key': subscription_key }\n",
    "\n",
    "    # Call the API\n",
    "    response = requests.get(endpoint, headers=headers, params=params)\n",
    "\n",
    "    context = ''\n",
    "    for result in response.json()['webPages']['value']:\n",
    "        context += result['snippet'] + '\\n'\n",
    "\n",
    "    return context"
   ]
  },
  {
   "cell_type": "code",
   "execution_count": 113,
   "metadata": {},
   "outputs": [],
   "source": [
    "# 검색 결과를 기반으로 사용자의 질문에 대한 답을 생성하는 함수 정의\n",
    "def generate_answer(input_query, context):\n",
    "    system_prompt = \"\"\"You are an agent who answers the user's questions based on the data provided. You can only Korean language.\"\"\"\n",
    "    user_prompt = f\"\"\"Question: {input_query}\n",
    "    Web Search Results: {context}\n",
    "    Answer: \n",
    "    \"\"\"\n",
    "\n",
    "    response = client.chat.completions.create(\n",
    "        model=deployment_name,\n",
    "        messages = [\n",
    "            {\"role\":\"system\", \"content\":system_prompt},\n",
    "            {\"role\":\"user\",\"content\": user_prompt}\n",
    "        ],\n",
    "        max_tokens=600\n",
    "    )\n",
    "\n",
    "    return response.choices[0].message.content"
   ]
  },
  {
   "cell_type": "code",
   "execution_count": 114,
   "metadata": {},
   "outputs": [],
   "source": [
    "# 사용자로부터 검색 질의어를 입력받아서 결과를 출력하는 함수 정의\n",
    "def get_input_query(input_query):\n",
    "    # 검색 질의어 출력\n",
    "    print(\"-\"*80)\n",
    "    print(\"검색질의어: \" + input_query)\n",
    "    print(\"-\"*80)\n",
    "\n",
    "    # 검색 키워드를 추출하는 함수 호출\n",
    "    keywords = get_search_info(input_query)\n",
    "    print(\"검색키워드: \" + keywords)\n",
    "    print(\"-\"*80)\n",
    "\n",
    "    # 검색 결과를 가져오는 함수 호출\n",
    "    context = get_search_result(keywords)\n",
    "    print(\"검색결과: \" + context)\n",
    "    print(\"-\"*80)\n",
    "\n",
    "    # 사용자에게 제공할 답변을 생성하는 함수 호출\n",
    "    answer = generate_answer(input_query, context)\n",
    "    print(\"최종답변: \" + answer)\n",
    "    print(\"-\"*80)"
   ]
  },
  {
   "cell_type": "code",
   "execution_count": 115,
   "metadata": {},
   "outputs": [
    {
     "name": "stdout",
     "output_type": "stream",
     "text": [
      "--------------------------------------------------------------------------------\n",
      "검색질의어: 2024년 '부처님 오신 날'이 언제야? 쉬는 날 맞아? 공휴일이면 대체 휴무는 언제야?\n",
      "--------------------------------------------------------------------------------\n",
      "검색키워드: 2024년 한국 부처님 오신 날 날짜 + 2024년 부처님 오신 날 휴일 여부 + 2024년 대체 공휴일\n",
      "--------------------------------------------------------------------------------\n",
      "검색결과: 날짜 요일 공휴일; 2024: 5월 15일: 수요일: 부처님 오신 날: 2025: 5월 8일: 목요일: 부처님 오신 날: 2026: 5월 8일: 금요일: 부처님 오신 날: 이전 연도의 날짜를 보려면 페이지 하단으로 스크롤하십시오.\n",
      "설날, 부처님오신날, 추석은 한국에서 기념하는 날짜와 중국에서 기념하는 날짜가 달라질 수 있는 공휴일이다. 2023년이 대표적인 예로 홍콩에서는 전날인 양력 5월 26일이 공휴일이었다. 2017년까지는 공식적으로 석가탄신일 [5] 이라고 불렸다. 이 때까지 공식 명칭은 석가탄신일이었지만, 사찰에서는 '부처님오신날'을 사용했다. 4월 하순~5월 상순이나 하순에 오는 경우는 십중팔구 윤달 때문이라고 보면 된다. 4월 말이나 5월 초에 오는 경우는 4월 이후에 윤달이 끼고, 5월 말에 오는 경우는 설날이 늦은 경우가 아닌 이상 3월 이전에 윤달이 낀다고 보면 된다.\n",
      "부처님 오신 날: 다른이름 (사월) 초파일 ((四月) 初八日) 석가탄신일(釋迦誕辰日) 장소: 동아시아: 형태: 공휴일(대한민국, 중화민국, 마카오, 홍콩) 날짜: 음력 4월 8일 (대한민국) 2023년: 5월 27일 (토) 2024년: 5월 15일 (수) 2025년: 5월 5일 (월) 2026년: 5월 24일 (일) 빈도 ...\n",
      "대한민국. Home » 한국어. 2024년 대한민국 공휴일. 우리는 현재 2024년 공휴일을 목록으로 가지고 있습니다. 공휴일을 확인하시려면 스크롤을 내려주세요. 인기있는 휴일: 부처님 오신 날. 추석. 현충일.\n",
      "2024년 토요일과 일요일의 휴무일수는 총 104일입니다. 2024년 공휴일과 법정휴일은 총 19일이며 이중 토요일과 일요일은 3일입니다. 2024년 토/일요일을 포함한 총 휴무일은 120일입니다 * 120일 = 104일 + 19일 - 3일. 존재하지 않는 이미지입니다. 따라서 2024년 일하는 근로일수는 246일(366일 - 120일)입니다. ※ 2024년 달력. 존재하지 않는 이미지입니다. ※ 2023년 법정공휴일과 법정휴일. 2023년에는 대체공휴일을 포함한 공휴일은 총 18일이네요. 공휴일, 법정휴일이 16일이고 이중 토요일과 일요일 겹치는 날은 5일입니다.\n",
      "2024년 5월 27일은 부처님 오신날입니다. 부처님 오신날은 석가모니 부처님의 탄생을 기념하는 날이며, 대한민국에서는 매년 음력 4월 8일에 공휴일로 지정되어 있습니다. 1. 부처님 오신날의 의미. 부처님 오신날은 부처님의 탄생을 축하하는 날이지만, 그저 ...\n",
      "이 날은 불교 신자들에게는 부처님의 탄생일을 기념하는 날이며, 전통적으로 많은 사람들이 가족과 함께 모여 특별한 의식을 갖습니다. 2024년 부처님오신날 휴일 날짜 알아보기. 주요 내용 요약. 부처님오신날은 불교의 중요한 명절 중 하나로, 부처님의 탄생을 기념합니다. 이 날은 가족과 함께 모여 특별한 의식을 갖는 전통이 있습니다. 부처님오신날은 한국의 문화와 종교적 전통을 함께 나누는 소중한 날입니다. 목차. 부처님오신날의 의미. 부처님오신날의 전통적 의식. 가족과 함께하는 부처님오신날. 부처님오신날과 한국의 문화. 부처님오신날의 소중함. 자세한정보는 아래 사이트에서 꼭! 확인하세요. 유용한 정보 모음.\n",
      "5월 에는 어린이날(5월 5일), 대체공휴일(5월 6일), 부처님 오신 날(5월 15일) 이 있다. 명절을 제외하고, 공휴일이 가장 많은 달 중 하나다. 공휴일은 아니지만, 근로자의 날(5월 1일)도 있어 연차를 목, 금, 화 3일 사용하면 5월 1일(수)부터 5월 7일(화)까지 무려 ...\n",
      "11. 13. 2024년 한국의 공휴일과 대체공휴일, 이 두 가지가 우리의 삶에 어떤 영향을 미칠까요? 매년 우리는 다양한 공휴일을 기다리며, 이 특별한 날들이 우리에게 주는 의미와 가치를 되새깁니다. 안녕하세요, 여러분! 오늘은 2024년 한국의 공휴일과 대체공휴일에 대해 알아보려고 합니다. 이 글을 통해 여러분은 한국의 공휴일이 어떻게 정해지고, 대체공휴일 제도가 우리 삶에 어떤 변화를 가져오는지 깊이 이해할 수 있을 것입니다. 공휴일은 단순한 휴식의 시간을 넘어, 우리의 문화와 전통을 기념하는 중요한 날입니다.\n",
      "한국과 중국의 시차가 1시간이기 때문에 부처님오신날 날짜에 하루 혹은 한 달의 차이가 생기기도 한다. 경 (經)과 논 (論)에 석가모니 가 태어난 날을 2월 8일 또는 4월 8일로 적고 있으나, 자월 (子月:지금의 음력 11월)을 정월로 치던 때의 4월 8일은 곧 인월 (寅月:지금의 정월)을 정월로 치는 2월 8일이므로 음력 2월 8일이 맞다고 하겠다. 그러나 불교의 종주국인 네팔 등지에서는 예로부터 음력 4월 8일을 석가의 탄일로 기념하여 왔다. 한편 1956년 11월 네팔 의 수도 카트만두 에서 열린 제4차 세계불교도대회 에서 양력 5월 15일을 석가탄신일로 결정하였다.\n",
      "\n",
      "--------------------------------------------------------------------------------\n",
      "최종답변: 2024년 부처님 오신 날은 5월 15일 수요일입니다. 이 날은 대한민국의 공휴일이며 쉬는 날입니다. 대체 휴무는 따로 지정되어 있지 않습니다.\n",
      "--------------------------------------------------------------------------------\n"
     ]
    }
   ],
   "source": [
    "input_query = \"2024년 '부처님 오신 날'이 언제야? 쉬는 날 맞아? 공휴일이면 대체 휴무는 언제야?\"\n",
    "get_input_query(input_query)"
   ]
  },
  {
   "cell_type": "code",
   "execution_count": 118,
   "metadata": {},
   "outputs": [
    {
     "name": "stdout",
     "output_type": "stream",
     "text": [
      "--------------------------------------------------------------------------------\n",
      "검색질의어: 2024년 추석 연휴는 언제야? 연휴 기간은으로 얼만큼 쉴 수 있을지 알려줘.\n",
      "--------------------------------------------------------------------------------\n",
      "검색키워드: 2024년 추석 연휴 날짜 + 2024년 추석 연휴 기간 + 2024년 연휴 휴가 일수 \n",
      "--------------------------------------------------------------------------------\n",
      "검색결과: 2024년 대한민국 공휴일. 우리는 현재 2024년 공휴일을 목록으로 가지고 있습니다. 공휴일을 확인하시려면 스크롤을 내려주세요. 인기있는 휴일: 부처님 오신 날. 추석. 현충일.\n",
      "2024년 대한민국 공휴일 연차사용 꿀팁. 신정은 월요일이기 때문에 12월 30일부터 1월 1일까지 총 3일 동안 연휴 기간을 즐길 수 있으며, 2월에는 설날과 설날 다음 덕분에 총 4일 동안 연휴를 즐길 수 있고, 3월 1일 금요일은 삼일절이기 때문에 3월 1일부터 3월 3 ...\n",
      "추석 2024, 2025 과 2026. 추석은 한국에서 널리 기념하는 가장 큰 명절 중 하나입니다. 이 공휴일은 가족들이 모여서 대화를 하고 큰 잔치를 하면서 행복과 가족간의 유대감을 쌓는 날입니다. 한국 추석에 추석이 있는 주요 이유는 조상들과 고인을 기리기 위한 것이지만, 공휴일이어서 직장이나 다른 일로 떨어져 사는 가족들이 함께 모이는 목적의 공휴일이기도 합니다. 전통적으로, 추석에 한국인들이 열심히 일한 후에 수확을 걷는 가을 추수를 축하하기도 합니다. 추석은 음력 8월 15일 또는 추분점에 기념합니다. 전통. 추석은 한국의 문화와 역사를 중심으로 이루어진 공휴일입니다.\n",
      "2024년 설날: 2월 10일 토요일; 2024년 설 연휴: 2월 9일 금요일 – 2월 12일 월요일; 2024년 추석 날짜 2024년-추석. 2024년 추석 날짜는 9월 17일, 화요일입니다. 추석연휴는 주말과 겹치지 않아서 총 5일의 긴 휴일이 가능할 예정이에요. 올 해 추석은 약간 빠른 것 같네요 ...\n",
      "2024년 공휴일과 법정휴일은 총 19일이며 이중 토요일과 일요일은 3일입니다. 2024년 토/일요일을 포함한 총 휴무일은 120일입니다 * 120일 = 104일 + 19일 - 3일. 존재하지 않는 이미지입니다. 따라서 2024년 일하는 근로일수는 246일(366일 - 120일)입니다. ※ 2024년 달력. 존재하지 않는 이미지입니다. ※ 2023년 법정공휴일과 법정휴일. 2023년에는 대체공휴일을 포함한 공휴일은 총 18일이네요. 공휴일, 법정휴일이 16일이고 이중 토요일과 일요일 겹치는 날은 5일입니다.\n",
      "그리고 2024년 추석 날짜는 9월 17일 (화)로, 추석 연휴는 16일 (월), 17일 (화), 18일 (수) 입니다. 참고로 14일이 토요일이고 15일이 일요일이기 때문에 14일부터 추석연휴 마지막날인 18일까지를 이용해 5일간의 장기간의 계획을 세워볼 수도 있을 것입니다. 2. 2025년 명절 연휴. 2025년 설은 1월 29일 (수)이며, 설 연휴는 28일 (화), 29일 (수), 30일 (목) 입니다. 27일 월요일에 휴가를 낼 수 있다면 25일 토요일부터 30일 목요일까지 6일간 장기간 계획을 세울수 있을 것입니다.\n",
      "25. 2024 구정 날짜 및 설 연휴 기간을 확인해봤다. 2024년 설 명절에 대해서 미리 확인하고싶은 분들은 아래 내용 참고해보세요. 2024 구정 날짜 언제일까? 2024년 구정 날짜 (설날): 2월 10일 토요일 (음력 1월 1일) 2024년 설날 연휴 및 대체공휴일: 2월 9일 금요일 - 2월 12일 월요일 (총 4일) 2024년-구정-날짜. 2024년 설날은 2월에 있다. 보통 1월 말에서 2월 중순에 설날이 있는데, 2024년은 2월 10일이 설날이다. 설날은 음력 1월 1일이고 설연휴는 설날 당일과 앞, 뒤로 연휴 하루씩 해서 총 3일이다. 그런데 2024년에는 설 연휴인 11일이 일요일과 겹친다.\n",
      "2024 년 추석 연휴 (Chuseok Holiday)이 한국에서 공식적인 휴일인가요? 한국에서 2024 년 추석 연휴 다가오는 날짜와 축하 날짜.\n",
      "9월 16일~18일 (월,화,수) 추석 연휴. 10월 3일 (목) 개천절. 10월 9일 (수) 한글날. 11월 없음. 12월 25일 (수) 크리스마스. 이제 차근차근 살펴볼게요. 존재하지 않는 이미지입니다. 1월부터 안 좋은 소식. 1일 이후로는 쉬는 날이 아예 쩝,,, 그래도 다들 12월 말 연휴 쫘악 쓰셔서 오랫동안 쉬셨죠?\n",
      "2024년 설연휴, 추석연휴, 휴일은 얼마나 될까? 2024 달력 보기. 2023년도에 10월 2일이 대체공휴일로 지정되면서 추석연휴+개천절까지 총 6일의 황금 연휴가 주어졌습니다. (2023년 9월 28일~2023년 10월 3일) 올한해도 마지막 분기에 들어서면서 내년 2024년 계획 세우시는 ...\n",
      "\n",
      "--------------------------------------------------------------------------------\n",
      "최종답변: 2024년 추석 연휴는 9월 16일부터 18일까지이며, 총 3일간 쉴 수 있습니다. 해당 날짜는 월요일부터 수요일까지이며, 합쳐서 5일간의 장기연휴가 가능할 것으로 보입니다.\n",
      "--------------------------------------------------------------------------------\n"
     ]
    }
   ],
   "source": [
    "input_query = \"2024년 추석 연휴는 언제야? 연휴 기간은으로 얼만큼 쉴 수 있을지 알려줘.\"\n",
    "get_input_query(input_query)"
   ]
  }
 ],
 "metadata": {
  "kernelspec": {
   "display_name": "azureml_py310_sdkv2",
   "language": "python",
   "name": "python3"
  },
  "language_info": {
   "codemirror_mode": {
    "name": "ipython",
    "version": 3
   },
   "file_extension": ".py",
   "mimetype": "text/x-python",
   "name": "python",
   "nbconvert_exporter": "python",
   "pygments_lexer": "ipython3",
   "version": "3.11.4"
  },
  "orig_nbformat": 4
 },
 "nbformat": 4,
 "nbformat_minor": 2
}
