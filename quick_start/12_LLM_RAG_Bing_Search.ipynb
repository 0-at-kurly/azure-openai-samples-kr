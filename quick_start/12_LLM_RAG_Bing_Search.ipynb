{
 "cells": [
  {
   "attachments": {},
   "cell_type": "markdown",
   "metadata": {},
   "source": [
    "# Bing Search 기반의 RAG를 활용한 데모\n",
    "\n",
    "이 데모에서는 GPT3 모델을 사용하여 자연 쿼리를 분석하고 지식 기반을 사용하여 더 많은 정보를 검색하고 질문에 답변하는 방법을 보여줍니다.  \n",
    "\n",
    "해당 실습을 위해서는 [Bing 리소스](https://portal.azure.com/#blade/HubsExtension/BrowseResourceBlade/resourceType/Microsoft.Bing%2Faccounts)를 만들고 API Key를 [.env](../.env) 파일에 입력해야 합니다. \n",
    "\n",
    "1. Bing Search API 활용: 검색한 결과를 참고하는 방법을 소개합니다. 여기서는 Bing Search API를 활용합니다."
   ]
  },
  {
   "cell_type": "code",
   "execution_count": 1,
   "metadata": {},
   "outputs": [],
   "source": [
    "import os\n",
    "import json\n",
    "import requests\n",
    "from openai import AzureOpenAI\n",
    "from dotenv import load_dotenv\n",
    "load_dotenv()\n",
    "\n",
    "client = AzureOpenAI(\n",
    "    azure_endpoint = os.getenv(\"AZURE_OPENAI_ENDPOINT\",\"\").strip(),\n",
    "    api_key        = os.getenv(\"AZURE_OPENAI_API_KEY\"),\n",
    "    api_version    = os.getenv(\"OPENAI_API_VERSION\")\n",
    ")\n",
    "\n",
    "deployment_name = os.getenv('DEPLOYMENT_NAME')"
   ]
  },
  {
   "cell_type": "markdown",
   "metadata": {},
   "source": [
    "## 1. Bing Search API를 활용하는 방법"
   ]
  },
  {
   "attachments": {},
   "cell_type": "markdown",
   "metadata": {},
   "source": [
    "### Start with a natural question  \n",
    "다음과 같이 LLM이 가지고 있지 않을 수 있는 데이터에 대한 접근이 필요할 때, 검색엔진을 활용할 수 있습니다."
   ]
  },
  {
   "attachments": {},
   "cell_type": "markdown",
   "metadata": {},
   "source": [
    "### Step 1: GPT3: What do I need to to answer this question?"
   ]
  },
  {
   "cell_type": "code",
   "execution_count": 2,
   "metadata": {},
   "outputs": [],
   "source": [
    "# 검색을 위해 필요한 정보를 추출하는 함수 정의\n",
    "def get_search_info(input_query):\n",
    "    system_prompt='''\n",
    "    Answer the following questions as best you can. You have access to the following tools: You can only Korean language.\n",
    "    Web Search: Use the web to find information\n",
    "    Question: Natural language-based questions that users want to ask through web searches\n",
    "    Answer: Describes how to effectively answer people's natural language-based questions and creates optimized search keywords needed for use in the Bing Search API. And create optimized search keywords needed for use in the Bing Search API. The answer format must strictly follow the JSON format below.\n",
    "    {\"Keywords\": \"Specify three sets of keywords information to search for key data that matches the user's question intent.\"}\n",
    "    '''\n",
    "    user_prompt = f'''\n",
    "    Question: {input_query}\n",
    "    '''\n",
    "\n",
    "    # Azure OpenAI GPT를 프롬프트 엔지니어링의 Few-shot 예시\n",
    "    prompt = [{\"role\":\"system\", \"content\":system_prompt},\n",
    "                {\"role\":\"user\", \"content\":\"Question: 2024년 한국 총선 날짜가 언제인지 회사를 안 가도 되는지 알려줘.\"},\n",
    "                {\"role\":\"assistant\", \"content\":\"\"\"{\"Keywords\": \"2024년 한국 총선 날짜 + 2024년 총선 공휴일 여부 + 총선 투표일 휴무 정책\"}\"\"\"},\n",
    "                {\"role\":\"user\",\"content\": user_prompt}\n",
    "            ]\n",
    "        \n",
    "    response = client.chat.completions.create(\n",
    "        model=deployment_name,\n",
    "        messages = prompt,\n",
    "        max_tokens=600,\n",
    "        response_format={\"type\": \"json_object\"}\n",
    "    )\n",
    "\n",
    "    keywords = json.loads(response.choices[0].message.content)['Keywords']\n",
    "    \n",
    "    # 만약 keywords가 list 형태일 경우, '+' 문자로 join하여 반환\n",
    "    if type(keywords) == list:\n",
    "        keywords = ' + '.join(keywords)\n",
    "\n",
    "    return json.loads(response.choices[0].message.content)['Keywords']"
   ]
  },
  {
   "attachments": {},
   "cell_type": "markdown",
   "metadata": {},
   "source": [
    "### Step 2: Search web for more details  \n",
    "\n",
    "Bing Search API와 관련된 정보는 다음 Page에서 확인할 수 있습니다.  \n",
    "https://www.microsoft.com/en-us/bing/apis/bing-web-search-api"
   ]
  },
  {
   "cell_type": "code",
   "execution_count": 3,
   "metadata": {},
   "outputs": [],
   "source": [
    "# Bing search API를 이용하여 검색 결과를 가져오는 함수 정의\n",
    "def get_search_result(keywords):\n",
    "    subscription_key = os.getenv(\"BING_SEARCH_KEY\")\n",
    "    endpoint = os.getenv(\"BING_SEARCH_ENDPOINT\") + \"/v7.0/search\"\n",
    "\n",
    "    query = keywords\n",
    "\n",
    "    # Construct a request\n",
    "    mkt = 'ko_KR'\n",
    "    params = { 'q': query, 'mkt': mkt }\n",
    "    headers = { 'Ocp-Apim-Subscription-Key': subscription_key }\n",
    "\n",
    "    # Call the API\n",
    "    response = requests.get(endpoint, headers=headers, params=params)\n",
    "\n",
    "    context = ''\n",
    "    for result in response.json()['webPages']['value']:\n",
    "        context += result['snippet'] + '\\n'\n",
    "\n",
    "    return context"
   ]
  },
  {
   "cell_type": "code",
   "execution_count": 4,
   "metadata": {},
   "outputs": [],
   "source": [
    "# 검색 결과를 기반으로 사용자의 질문에 대한 답을 생성하는 함수 정의\n",
    "def generate_answer(input_query, context):\n",
    "    system_prompt = \"\"\"You are an agent who answers the user's questions based on the data provided. You can only Korean language.\"\"\"\n",
    "    user_prompt = f\"\"\"Question: {input_query}\n",
    "    Web Search Results: {context}\n",
    "    Answer: \n",
    "    \"\"\"\n",
    "\n",
    "    response = client.chat.completions.create(\n",
    "        model=deployment_name,\n",
    "        messages = [\n",
    "            {\"role\":\"system\", \"content\":system_prompt},\n",
    "            {\"role\":\"user\",\"content\": user_prompt}\n",
    "        ],\n",
    "        max_tokens=600\n",
    "    )\n",
    "\n",
    "    return response.choices[0].message.content"
   ]
  },
  {
   "cell_type": "code",
   "execution_count": 5,
   "metadata": {},
   "outputs": [],
   "source": [
    "# 사용자로부터 검색 질의어를 입력받아서 결과를 출력하는 함수 정의\n",
    "def get_input_query(input_query):\n",
    "    # 검색 질의어 출력\n",
    "    print(\"-\"*80)\n",
    "    print(\"검색질의어: \" + input_query)\n",
    "    print(\"-\"*80)\n",
    "\n",
    "    # 검색 키워드를 추출하는 함수 호출\n",
    "    keywords = get_search_info(input_query)\n",
    "    print(\"검색키워드: \" + keywords)\n",
    "    print(\"-\"*80)\n",
    "\n",
    "    # 검색 결과를 가져오는 함수 호출\n",
    "    context = get_search_result(keywords)\n",
    "    print(\"검색결과: \" + context)\n",
    "    print(\"-\"*80)\n",
    "\n",
    "    # 사용자에게 제공할 답변을 생성하는 함수 호출\n",
    "    answer = generate_answer(input_query, context)\n",
    "    print(\"최종답변: \" + answer)\n",
    "    print(\"-\"*80)"
   ]
  },
  {
   "cell_type": "code",
   "execution_count": 6,
   "metadata": {},
   "outputs": [
    {
     "name": "stdout",
     "output_type": "stream",
     "text": [
      "--------------------------------------------------------------------------------\n",
      "검색질의어: 2024년 '부처님 오신 날'이 언제야? 쉬는 날 맞아? 공휴일이면 대체 휴무는 언제야?\n",
      "--------------------------------------------------------------------------------\n",
      "검색키워드: 2024년 부처님 오신 날 날짜 + 2024년 부처님 오신 날 공휴일 여부 + 2024년 부처님 오신 날 대체 휴무\n",
      "--------------------------------------------------------------------------------\n",
      "검색결과: 2024년 부처님 오신 날 <날짜>. 2024년 부처님오신날 법정공휴일. 2024년 부처님 오신 날은 불교의 연중행사 가운데 가장 큰 명절로서, 많은 사람들이 부처의 탄생을 기념하며 기념법회, 연등 행사 등, 각종 기념행사를 주최하고 참석합니다. 대한민국뿐만 ...\n",
      "양력으로 고정되어 있는 날이 아니기 때문에 해마다 날짜가 달라집니다. 매해 부처님 오신날이 언제인지 확인해야 합니다. 올해 24년 부처님 오신날은 양력으로 5월 15일입니다. 5월 15일은 스승의 날인데라고 생각하신 분들도 많을 것 같습니다. 스승의 날은 공휴일이 아니라서 은사님을 찾아뵙지 못하는 경우가 많습니다. 하지만 올해는 공휴일인 부처님 오신날과 겹쳤기 때문에 은사님을 직접 찾아뵐 수 있을 것 같습니다. 2024년 부처님 오신날에는 사찰에 방문하거나, 은사님께 감사하는 마음을 표현하거나 둘 중 하나를 선택하여 하면 좋을 것 같습니다.\n",
      "1. 부처님오신날 날짜. - 2024년 5월 15일. 공교롭게도 스승의날 (5월 15일)과 겹치는데요. 아시는 것처럼 부처님오신날은 '음력'으로 세기 때문에 매년 바뀌게 됩니다. 2025년 부처님오신날은 2025년 5월 5일입니다. 2. 2025년 5월 달력. 미리 보여 드리면, 2025년 5월은 이렇습니다. 5월 1일. 근로자의 날. 5월 5일. - 부처님 오신날 / 어린이날. 5월 6일. - 대체 휴일. 2025년 5월 달력. 3. 부처님오신날의 경우 공휴일이기 때문에 토요일 또는 다른 공휴일과 겹치는 경우에 대체공휴일을 줍니다. 2024년 올해 달력 같은 경우는 공휴일이라서 그냥 빨간날에 속합니다.\n",
      "부처님 오신 날 2025 과 2026. 부처님 오신 날은 한국에서 널리 기념하는 공휴일입니다. 휴일은 중국 음력에 따라 네 번째 달의 여덟 번째 일 (日)을 축하됩니다. 이 휴가는 4월 말에서 5월초 사이에 열립니다. 한국에서 부처님 오신 날의 기념은 한국 문화에 영향을 주는 불교의 영향을 강력히 대표합니다. 한국 인구 중 약 20%만이 불교이지만, 부처님 오신 날은 공휴일로 인정되었습니다. 부처님 오신 날은 탄생을 축하하는 것이지만, 불교를 만든 싯다르타의 계몽을 축하는 날이기도 합니다. 한국과 함께, 부처님 오신날은 동남 아시아의 여러 나라에서도 축하합니다.\n",
      "음력으로 하기 때문에 양력 날짜는 매년 달라지며, 거의 대부분은 양력 5월 에 오지만 드물게 4월 말에 오는 때도 있다. 2020년, 2039년 [2], 2058년, 2077년, 2096년 부처님오신날은 4월 30일이고, 2069년과 2088년에는 4월 28일이며, 충무공 이순신 탄신일 과 겹쳐져 있다. 이들 해에는 모두 음력 4월이나 5월에 윤달이 있다. 법정공휴일 중 설날, 추석 과 함께 음력으로 셈하는 휴일로, 평달만 휴일로 인정된다. [3] .\n",
      "2024년 부처님 오신날은 다음과 같습니다. 날짜. 양력: 2024년 5월 15일 (수요일) 음력: 4월 8일 . 휴무일. 공휴일입니다. 대체공휴일이 적용되지 않습니다. 연휴. 2024년 5월 15일 (수요일)은 연휴입니다.\n",
      "2024년 부처님 오신 날 날짜 / 공휴일 / 대축제 행사 2024년 부처님 오신 날은 5월 15일로 수요일에 열립니다. 많은 행사와 부처님이 계신 곳에 방문하셔서 행복한 부처님 오신 날을 보내시길 바랍니다.^^\n",
      "다가오는 5월 27일 석가탄신일 과 12월 25일 성탄절 도 대체공휴일이 지정되었습니다. 정부는 국민의 휴식권 보장및 중소기업 부담, 경제에 미치는 영향 등을 종합적으로 고려해 관계부처 간 협의를 통해 이같이 결정했다고 해요.\n",
      "불기 2568년 (2024년), '부처님 오신 날' 알아보기. 2024년 5월 15일은 '부처님 오신 날'입니다. 이날은 공휴일로 제정되어 하루 쉴 수 있는데요. 하루를 쉬게 해주는 부처님 오신 날에 대해서 한번 알아봅시다.\n",
      "부처님 오신 날 달아놓은 연등. 부처님 오신 날, 또는 석가탄신일(釋迦誕辰日)은 불교에서 석가모니가 탄생한 날로, 음력 4월 8일이다. 불교의 연중행사 가운데 가장 큰 명절로서, 기념법회, 연등놀이, 관등놀이, 방생, 탑돌이 등 각종 기념행사가 열린다.\n",
      "\n",
      "--------------------------------------------------------------------------------\n",
      "최종답변: 2024년 부처님 오신 날은 5월 15일입니다. 이날은 법정공휴일로 지정되어 있어서 쉬는 날입니다. 2024년의 경우 부처님 오신 날은 수요일이라 다른 공휴일과 겹치지 않아 대체 휴무는 없습니다.\n",
      "--------------------------------------------------------------------------------\n"
     ]
    }
   ],
   "source": [
    "input_query = \"2024년 '부처님 오신 날'이 언제야? 쉬는 날 맞아? 공휴일이면 대체 휴무는 언제야?\"\n",
    "get_input_query(input_query)"
   ]
  },
  {
   "cell_type": "code",
   "execution_count": 7,
   "metadata": {},
   "outputs": [
    {
     "name": "stdout",
     "output_type": "stream",
     "text": [
      "--------------------------------------------------------------------------------\n",
      "검색질의어: 2024년 추석 연휴는 언제야? 연휴 기간은으로 얼만큼 쉴 수 있을지 알려줘.\n",
      "--------------------------------------------------------------------------------\n",
      "검색키워드: 2024년 추석 날짜 + 2024년 추석 연휴 기간 + 2024년 추석 공휴일\n",
      "--------------------------------------------------------------------------------\n",
      "검색결과: 우리는 현재 2024년 공휴일을 목록으로 가지고 있습니다. 공휴일을 확인하시려면 스크롤을 내려주세요. 인기있는 휴일: 설날. 추석. 현충일.\n",
      "2024년 추석 날짜 2024년-추석. 2024년 추석 날짜는 9월 17일, 화요일입니다. 추석연휴는 주말과 겹치지 않아서 총 5일의 긴 휴일이 가능할 예정이에요. 올 해 추석은 약간 빠른 것 같네요. 2024년 추석: 9월 17일; 2024년 추석 연휴: 9월 14일 토요일 – 9월 18일 ...\n",
      "또한 추석은 9월 16일 월요일부터 9월 17일 화요일, 9월 18일 수요일이기 때문에 대체 휴일 없이 온전히 휴무를 즐길 수 있습니다. 👇 자세한 정보는 아래에서 확인하세요! 네이버 캘린더 설치하기. 2024년 대한민국 공휴일 황금연휴 기간. 황금 연휴 기간은 아무래도 모든 사람들이 기다리고, 또 기다리는 시간이 아닐까 싶을 만큼 많은 분들께서 연차를 사용하지 않고도 편하게 쭉 쉴 수 있는 연휴 기간이기도 한데요. 올해는 아쉽게도 일주일 넘게 쭉 쉴 수 있는 날이 흔하지도 않을 뿐더러 추석이나 설날과 같은 날이 아니라면 평일 하루 정도 쉬는 것에 그치기 때문에 많이 아쉬운 부분이 남기도 합니다.\n",
      "일요일 ~ 화요일. 추석. 2026. 9월 24일 ~ 9월 27일. 목요일 ~ 일요일. 추석. 이전 연도의 날짜를 보려면 페이지 하단으로 스크롤하십시오. 한국 추석에 추석이 있는 주요 이유는 조상들과 고인을 기리기 위한 것이지만, 공휴일이어서 직장이나 다른 일로 떨어져 사는 ...\n",
      "2024년에는 대체공휴일을 포함한 공휴일은 총 19일이네요. 법정 공휴일과 근로자의 날을 합쳐 총 17일이며 토 / 일요일과 중복되는 날은 3일입니다. 토 / 일요일에 해당되는 공휴일은 설날 2일과 어린이날을 포함하여 총 3일이인데 대체공휴일 지정은 구정의 일요일과 어린이날의 일요일이 해당되어 2일입니다. 따라서 주말 외에 휴무가 가능한 공휴일은 2024년 기준으로 총16일 (19일 - 3일)입니다. 존재하지 않는 이미지입니다. 3. 2024년 근로일수와 휴무일수. 2024년 토요일과 일요일의 휴무일수는 총 104일입니다. 2024년 공휴일과 법정휴일은 총 19일이며 이중 토요일과 일요일은 3일입니다.\n",
      "연휴가 아예 없는 7월과 11월을 제외하고는 연차를 어떻게 쓰는지에 따라 매달 3일 이상의 연속 연휴를 만들 기회가 있습니다. 또한, 연차를 이틀 붙여서 쓸 수 있다는 가정하에 만들 수 있는 최장 연휴는 추석 연휴 기간 9일입니다.\n",
      "2024 년 추석 연휴 (Chuseok Holiday)이 한국에서 공식적인 휴일인가요? 한국에서 2024 년 추석 연휴 다가오는 날짜와 축하 날짜.\n",
      "2024년 공휴일 수는 68일로 이는 2023년과 동일합니다. 이 수치는 일요일(빨간날)과 대체공휴일을 포함한 일 수 입니다. 대한민국에서는 국경일과 명절이 공휴일로 지정되어 있으며, 이 중 몇몇은 법정 휴일로 쉬게 됩니다. 특히 2024년에는 설날과 어린이날이 일요일과 겹치는 경우가 발생하여 이로 인해 두 공휴일이 실제 휴일 수에서 제외되었습니다. 4월 10일 국회의원선거. 2024년의 공휴일 중 특별히 주목할 만한 날짜들이 있습니다. 가장 눈에 띄는 것은 4월 10일로, 제22대 국회의원 선거일이 이 날로 지정되어 있습니다. 선거일은 국민의 정치 참여를 장려하기 위해 법정 공휴일로 지정되어 있습니다.\n",
      "2024년은 갑진년에 달력에 빨간색으로 표기되는 관공서 공휴일, 즉 법정공휴일은 4월에 있는 제22대 국회의원선거일을 포함하여 총 68일이며, 주 5일제인 사업장을 기준으로 주말을 포함하면 총 119일입니다. 대체공휴일은 공휴일이 주말이나 다른 공휴일과 겹치는 경우, 매년 일정 수준 이상의 공휴일을 보장하기 위한 취지로 도입한 제도입니다. 설날, 추석, 어린이날, 3.1절, 광복절, 개천절, 한글날이 주말 등과 겹치게 되면 대체공휴일이 적용, 시행됩니다. 특히 2023년부터는 대체공휴일에 대한 개정안이 새롭게 적용되면서, 부처님오신날 (음력 4월 8일)과 성탄절 (12월 25일)이 모두 대체공휴일에 포함 되었습니다.\n",
      "2024 설날 구정 연휴 는 대체휴일을 포함하여 2월 9일 (금요일)부터 2월 12일 (월요일)까지 총 4일이며, 추석 연휴는 추석 이전 주말을 포함 9월 14일 (토요일)부터 9월 18일 (수요일)까지 총 5일입니다. 삼일절은 금요일로 토요일, 일요일과 이어지는 휴일이 됩니다. 2024년 공휴일에는 제 22대 국회의원 선거가 포함되어 있습니다. 대체 휴일은 어린이날이 적용되어 5월 4일 (토요일), 5월 5일 (일요일, 어린이날), 5월 6일 (대체휴일)로 총 3일 휴일입니다. 설과 추석 연휴에 고속도로는 항상 정체가 발생하는데요. 한국도로공사에서는 연휴기간 예측 교통상황 을 발표합니다.\n",
      "\n",
      "--------------------------------------------------------------------------------\n",
      "최종답변: 2024년 추석 연휴는 9월 14일(토요일)부터 9월 18일(수요일)까지 총 5일간입니다. 주말과 평일 연휴가 겹치지 않아서 긴 연휴를 기대할 수 있습니다. 이를 통해 온전히 쉬면서 가족과 함께 시간을 보낼 좋은 기회가 마련됩니다.\n",
      "--------------------------------------------------------------------------------\n"
     ]
    }
   ],
   "source": [
    "input_query = \"2024년 추석 연휴는 언제야? 연휴 기간은으로 얼만큼 쉴 수 있을지 알려줘.\"\n",
    "get_input_query(input_query)"
   ]
  }
 ],
 "metadata": {
  "kernelspec": {
   "display_name": "azureml_py310_sdkv2",
   "language": "python",
   "name": "python3"
  },
  "language_info": {
   "codemirror_mode": {
    "name": "ipython",
    "version": 3
   },
   "file_extension": ".py",
   "mimetype": "text/x-python",
   "name": "python",
   "nbconvert_exporter": "python",
   "pygments_lexer": "ipython3",
   "version": "3.11.4"
  },
  "orig_nbformat": 4
 },
 "nbformat": 4,
 "nbformat_minor": 2
}
