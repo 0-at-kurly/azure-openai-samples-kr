{
 "cells": [
  {
   "attachments": {},
   "cell_type": "markdown",
   "metadata": {},
   "source": [
    "# Bing Search 기반의 RAG를 활용한 데모\n",
    "\n",
    "이 데모에서는 GPT3 모델을 사용하여 자연 쿼리를 분석하고 지식 기반을 사용하여 더 많은 정보를 검색하고 질문에 답변하는 방법을 보여줍니다.  \n",
    "\n",
    "해당 실습을 위해서는 [Bing 리소스](https://portal.azure.com/#blade/HubsExtension/BrowseResourceBlade/resourceType/Microsoft.Bing%2Faccounts)를 만들고 API Key를 [.env](../.env) 파일에 입력해야 합니다. \n",
    "\n",
    "1. Bing Search API 활용: 검색한 결과를 참고하는 방법을 소개합니다. 여기서는 Bing Search API를 활용합니다."
   ]
  },
  {
   "cell_type": "code",
   "execution_count": 1,
   "metadata": {},
   "outputs": [],
   "source": [
    "import os\n",
    "import json\n",
    "import requests\n",
    "from openai import AzureOpenAI\n",
    "from dotenv import load_dotenv\n",
    "load_dotenv()\n",
    "\n",
    "client = AzureOpenAI(\n",
    "    azure_endpoint = os.getenv(\"AZURE_OPENAI_ENDPOINT\",\"\").strip(),\n",
    "    api_key        = os.getenv(\"AZURE_OPENAI_API_KEY\"),\n",
    "    api_version    = os.getenv(\"OPENAI_API_VERSION\")\n",
    ")\n",
    "\n",
    "deployment_name = os.getenv('DEPLOYMENT_NAME')"
   ]
  },
  {
   "cell_type": "markdown",
   "metadata": {},
   "source": [
    "## 1. Bing Search API를 활용하는 방법"
   ]
  },
  {
   "attachments": {},
   "cell_type": "markdown",
   "metadata": {},
   "source": [
    "### Start with a natural question  \n",
    "다음과 같이 LLM이 가지고 있지 않을 수 있는 데이터에 대한 접근이 필요할 때, 검색엔진을 활용할 수 있습니다."
   ]
  },
  {
   "attachments": {},
   "cell_type": "markdown",
   "metadata": {},
   "source": [
    "### Step 1: GPT3: What do I need to to answer this question?"
   ]
  },
  {
   "cell_type": "code",
   "execution_count": 2,
   "metadata": {},
   "outputs": [],
   "source": [
    "# 검색을 위해 필요한 정보를 추출하는 함수 정의\n",
    "def get_search_info(input_query):\n",
    "    system_prompt='''\n",
    "    Answer the following questions as best you can. You have access to the following tools: You can only Korean language.\n",
    "    Web Search: Use the web to find information\n",
    "    Question: Natural language-based questions that users want to ask through web searches\n",
    "    Answer: Describes how to effectively answer people's natural language-based questions and creates optimized search keywords needed for use in the Bing Search API. And create optimized search keywords needed for use in the Bing Search API. The answer format must strictly follow the JSON format below.\n",
    "    {\"Keywords\": \"Specify three sets of keywords information to search for key data that matches the user's question intent.\"}\n",
    "    '''\n",
    "    user_prompt = f'''\n",
    "    Question: {input_query}\n",
    "    '''\n",
    "\n",
    "    # Azure OpenAI GPT를 프롬프트 엔지니어링의 Few-shot 예시\n",
    "    prompt = [{\"role\":\"system\", \"content\":system_prompt},\n",
    "                {\"role\":\"user\", \"content\":\"Question: 2024년 한국 총선 날짜가 언제인지 회사를 안 가도 되는지 알려줘.\"},\n",
    "                {\"role\":\"assistant\", \"content\":\"\"\"{\"Keywords\": \"2024년 한국 총선 날짜 + 2024년 총선 공휴일 여부 + 총선 투표일 휴무 정책\"}\"\"\"},\n",
    "                {\"role\":\"user\",\"content\": user_prompt}\n",
    "            ]\n",
    "        \n",
    "    response = client.chat.completions.create(\n",
    "        model=deployment_name,\n",
    "        messages = prompt,\n",
    "        max_tokens=600,\n",
    "        response_format={\"type\": \"json_object\"}\n",
    "    )\n",
    "\n",
    "    keywords = json.loads(response.choices[0].message.content)['Keywords']\n",
    "    \n",
    "    # 만약 keywords가 list 형태일 경우, '+' 문자로 join하여 반환\n",
    "    if type(keywords) == list:\n",
    "        keywords = ' + '.join(keywords)\n",
    "\n",
    "    return json.loads(response.choices[0].message.content)['Keywords']"
   ]
  },
  {
   "attachments": {},
   "cell_type": "markdown",
   "metadata": {},
   "source": [
    "### Step 2: Search web for more details  \n",
    "\n",
    "Bing Search API와 관련된 정보는 다음 Page에서 확인할 수 있습니다.  \n",
    "https://www.microsoft.com/en-us/bing/apis/bing-web-search-api"
   ]
  },
  {
   "cell_type": "code",
   "execution_count": 3,
   "metadata": {},
   "outputs": [],
   "source": [
    "# Bing search API를 이용하여 검색 결과를 가져오는 함수 정의\n",
    "def get_search_result(keywords):\n",
    "    subscription_key = os.getenv(\"BING_SEARCH_KEY\")\n",
    "    endpoint = os.getenv(\"BING_SEARCH_ENDPOINT\") + \"/v7.0/search\"\n",
    "\n",
    "    query = keywords\n",
    "\n",
    "    # Construct a request\n",
    "    mkt = 'ko_KR'\n",
    "    params = { 'q': query, 'mkt': mkt }\n",
    "    headers = { 'Ocp-Apim-Subscription-Key': subscription_key }\n",
    "\n",
    "    # Call the API\n",
    "    response = requests.get(endpoint, headers=headers, params=params)\n",
    "\n",
    "    context = ''\n",
    "    for result in response.json()['webPages']['value']:\n",
    "        context += result['snippet'] + '\\n'\n",
    "\n",
    "    return context"
   ]
  },
  {
   "cell_type": "code",
   "execution_count": 4,
   "metadata": {},
   "outputs": [],
   "source": [
    "# 검색 결과를 기반으로 사용자의 질문에 대한 답을 생성하는 함수 정의\n",
    "def generate_answer(input_query, context):\n",
    "    system_prompt = \"\"\"You are an agent who answers the user's questions based on the data provided. You can only Korean language.\"\"\"\n",
    "    user_prompt = f\"\"\"Question: {input_query}\n",
    "    Web Search Results: {context}\n",
    "    Answer: \n",
    "    \"\"\"\n",
    "\n",
    "    response = client.chat.completions.create(\n",
    "        model=deployment_name,\n",
    "        messages = [\n",
    "            {\"role\":\"system\", \"content\":system_prompt},\n",
    "            {\"role\":\"user\",\"content\": user_prompt}\n",
    "        ],\n",
    "        max_tokens=600\n",
    "    )\n",
    "\n",
    "    return response.choices[0].message.content"
   ]
  },
  {
   "cell_type": "code",
   "execution_count": 5,
   "metadata": {},
   "outputs": [],
   "source": [
    "# 사용자로부터 검색 질의어를 입력받아서 결과를 출력하는 함수 정의\n",
    "def get_input_query(input_query):\n",
    "    # 검색 질의어 출력\n",
    "    print(\"-\"*80)\n",
    "    print(\"검색질의어: \" + input_query)\n",
    "    print(\"-\"*80)\n",
    "\n",
    "    # 검색 키워드를 추출하는 함수 호출\n",
    "    keywords = get_search_info(input_query)\n",
    "    print(\"검색키워드: \" + keywords)\n",
    "    print(\"-\"*80)\n",
    "\n",
    "    # 검색 결과를 가져오는 함수 호출\n",
    "    context = get_search_result(keywords)\n",
    "    print(\"검색결과: \" + context)\n",
    "    print(\"-\"*80)\n",
    "\n",
    "    # 사용자에게 제공할 답변을 생성하는 함수 호출\n",
    "    answer = generate_answer(input_query, context)\n",
    "    print(\"최종답변: \" + answer)\n",
    "    print(\"-\"*80)"
   ]
  },
  {
   "cell_type": "code",
   "execution_count": 7,
   "metadata": {},
   "outputs": [
    {
     "name": "stdout",
     "output_type": "stream",
     "text": [
      "--------------------------------------------------------------------------------\n",
      "검색질의어: 2025년 '부처님 오신 날'이 언제야? 쉬는 날 맞아? 공휴일이면 대체 휴무는 언제야?\n",
      "--------------------------------------------------------------------------------\n",
      "검색키워드: 2025년 부처님 오신 날 날짜 + 부처님 오신 날 공휴일 여부 + 대체 휴무 날짜 2025\n",
      "--------------------------------------------------------------------------------\n",
      "검색결과: 대체공휴일은 설·추석 연휴의 경우 일요일과, 어린이날과 국경일인 3·1절, 광복절, 개천절, 한글날, 부처님 오신 날, 성탄절은 토·일요일과 겹치는 경우에 적용됩니다.\n",
      "2025년 공휴일 한눈에 ... 👉 부처님 오신 날. ... 위와 같이 2025년의 공휴일 및 대체공휴일이 지정되어 있으며, 삼일절과 부처님 오신날에 대한 대체공휴일이 2일 발생하여 평일에는 총 15일의 공휴일이 발생하게 됩니다. ...\n",
      "부처님 오신 날은 한국에서 널리 기념하는 공휴일입니다. 이전 연도의 날짜를 보려면 페이지 하단으로 스크롤하십시오. 휴일은 중국 음력에 따라 네 번째 달의 여덟 번째 일 (日)을 축하됩니다. 이 휴가는 4월 말에서 5월초 사이에 열립니다. 한국에서 부처님 오신 날의 기념은 한국 문화에 영향을 주는 불교의 영향을 강력히 대표합니다. 한국 인구 중 약 20%만이 불교이지만, 부처님 오신 날은 공휴일로 인정되었습니다. 부처님 오신 날은 탄생을 축하하는 것이지만, 불교를 만든 싯다르타의 계몽을 축하는 날이기도 합니다. 한국과 함께, 부처님 오신날은 동남 아시아의 여러 나라에서도 축하합니다.\n",
      "설날, 삼일절, 어린이날 및 부처님 오신 날, 추석 등 주요 공휴일에 대체공휴일이 적용되어 최소 3일 연속 휴일이 보장됩니다. 아래표를 통해 2025년 공휴일과 대체공휴일을 한눈에 확인할 수 있습니다.\n",
      "한국 공휴일 및 휴장일 2024년, 2025년, 2026년, 2027년 2024년부터 2027 년까지 한국의 공휴일 정보입니다 . 미리 휴가 계획을 세우기 위한 연휴 체크와 투자를 진행 할 때의 필수 정보입니다 .\n",
      "물론 저도 너무 궁금하기 때문에 2025년 달력을 보면서 공휴일과 대체공휴일, 그리고 황금휴일은 언제인지 하나하나 살펴보도록 하겠습니다.\n",
      "부처님 오신 날, 또는 석가탄신일 (釋迦誕辰日)은 불교 에서 석가모니 가 탄생한 날로, 음력 4월 8일 이다. 불교 의 연중행사 가운데 가장 큰 명절로서, 기념법회, 연등놀이, 관등놀이, 방생, 탑돌이 등 각종 기념행사가 열린다. 대한민국 뿐만 아니라 중국, 일본, 인도 등지에서도 연등놀이를 행한다. 석가모니가 이 세상에 와서 중생들에게 광명을 준 날이라는 뜻이 크다. 사월 초파일, 간단히 초파일 이라고도 부른다. ‘初八日’이 ‘석가모니 탄생일’을 뜻할 때는 속음인 초파일로 읽고, ‘초여드레날’을 가리킬 때는 본음인 초팔일로 읽는다. [1]\n",
      "그럼 2025년 공휴일 정보를 월별로 확인해 보도록 하겠습니다. 1월 : 1일 신정 / 28~30 설날 연휴; 2월 : 휴일 없음; 3월 : 1~3일 3.1절 대체 공휴일 포함; 4월 : 휴일 없음; 5월 : 1일 근로자의 날 / 5일 어린이날 / 6일 부처님 오신 날 대체 공휴일; 6월 : 6일 현충일; 7 ...\n",
      "2025년 공휴일은 총 15일입니다 (대체공휴일 포함, 주말 제외). 2025년 공휴일로는 1월 1일 신정, 설날 연휴 (1월 28~30일), 3월 3일 (삼일절 대체공휴일), 5월 5일~6일 (부처님 오신 날 겸 어린이날, 대체휴일), 6월 6일 (현충일), 8월 15일 (광복절), 10월 3일 (개천절), 10월 6~8일 (추석 연휴), 한글날 (10월 9일), 12월 25일 (성탄절)이 있습니다. 그렇다면 우리가 실제로 쉴 수 있는 빨간날은 얼마나 될까요? 토요일과 일요일, 공휴일과 대체공휴일, 기념일을 포함하여 쉴 수 있는 2025년 빨간날은 총 119일 입니다.\n",
      "올해부터 부처님 오신 날, 성탄절도 대체공휴일이 적용된다. (출처=대한민국정부) 올해 크리스마스의 경우는 월요일이라 대체공휴일이 적용되지는 않고, 2027년에 들어서야 공휴일과 겹쳐 대체공휴일이 적용된다고 한다. 2025년 부처님 오신 날은 어린이날과 겹쳐 대체공휴일로 적용될 수 있다. 5월 3일부터 6일까지의 4일간 황금연휴가 있을 것이라고 한다. 오랜만에 찾아온 3일간의 연휴에 무엇을 하면 좋을지 고민하다가, 가까운 곳으로 가족 나들이를 다녀오기로 정했다. 사찰 안내소에 2023년 5월 4일부터 문화재 구역 입장료 무료 안내 표지판이 붙어 있다.\n",
      "\n",
      "--------------------------------------------------------------------------------\n",
      "최종답변: 2025년 '부처님 오신 날'은 5월 6일입니다. 이 날은 공휴일로 지정되어 있으며, 어린이날과 겹치기 때문에 대체 휴무일이 5월 6일로 설정됩니다. 따라서 2025년에는 5월 3일부터 6일까지 총 4일간의 황금 연휴가 있을 것으로 예상됩니다.\n",
      "--------------------------------------------------------------------------------\n"
     ]
    }
   ],
   "source": [
    "input_query = \"2025년 '부처님 오신 날'이 언제야? 쉬는 날 맞아? 공휴일이면 대체 휴무는 언제야?\"\n",
    "get_input_query(input_query)"
   ]
  },
  {
   "cell_type": "code",
   "execution_count": 8,
   "metadata": {},
   "outputs": [
    {
     "name": "stdout",
     "output_type": "stream",
     "text": [
      "--------------------------------------------------------------------------------\n",
      "검색질의어: 2025년 구정 설 연휴는 언제야? 연휴 기간은으로 얼만큼 쉴 수 있을지 알려줘.\n",
      "--------------------------------------------------------------------------------\n",
      "검색키워드: 2025년 구정 설 연휴 날짜 + 2025년 설 연휴 기간 + 2025년 구정 휴일 정보\n",
      "--------------------------------------------------------------------------------\n",
      "검색결과: 2025년 설 연휴: 1월 28일, 29일, 30일. 2025 추석 연휴 언제? 2025년 구정 연휴는 아쉽게되었지만 추석은 얘기가 다르다. 2025년 달력에서 10월을 확인해보자. 빨간색 날짜만봐도 무척 긴 연휴가 될거라는 것을 알 수 있다. 추석 당일은 10월 6일 월요일이다. 그런데 추석 연휴인 10월 5일이 일요일과 겹치기때문에 대체공휴일이 적용되어 10월 8일이 추가로 빨간날이 되었다. 여기에 앞 뒤로 10월 3일 개천절에 10월 9일 한글날까지 이어져 총 7일 연휴가 가능해졌다. 만약 10월 10일을 휴가 낼 수 있다면 무려 총 10일의 휴일이 될 수 있다.\n",
      "4. 2025년 공휴일 통계 • 총 공휴일: 18일 • 주말 포함 총 휴일: 119일 • 대체공휴일: 3일 • 가장 긴 연휴: 10월 추석 + 한글날 연휴 (최대 10일) 5. 연휴를 활용한 추천 활동 1. 국내 여행지 추천: • 설날 연휴: 제주도, 부산, 강릉 (겨울 명소)\n",
      "안녕하세요! 😊 이번 포스팅에서는 2025년 법정 공휴일과 대체공휴일, 그리고 명절 연휴 정보를 자세히 정리했습니다. 연휴를 잘 활용해 알찬 계획을 세워보세요! 또한, 아래 유용한 링크를 클릭하면 더 자세한 정보를 확인하실 수 있습니다. 📌 2025년 설날 및 추석 연휴 상세 안내2025년에는 설날과 ...\n",
      "2025 구정 날짜 및 설 연휴 확인해봤다. 설날은 약간 아쉬운 날짜지만 올 해 추석은 역대급 긴 휴일이 될 예정이다. 추석은 언제인지도 함께 정리해봤으니 참고해서 미리 휴일 계획을 세워보자.\n",
      "2025년 연차 활용해 긴 연휴 휴가 만들기 2025년에는 공휴일과 대체공휴일을 활용하면 긴 연휴를 만들 수 있는 달이 있는데요. 특히 설날, 추석 어린이날 등 주요 공휴일이 주말이나 평일과 연결되어 있어 개인 연차를 잘 활용하면 최장 7~9일간 휴가를 만들어 볼 수 있습니다.\n",
      "2025년에는 설날 연휴 (1월 28일 ~ 30일)과 추석 연휴 (10월 5일 ~ 7일)이 있습니다. 특히 설날 연휴는 화요일부터 목요일까지 이어지기에 월요일과 금요일에 연차를 사용한다면 주말을 포함해 총 9일간의 황금연휴를 즐길 수 있습니다. 추석 연휴 또한 일요일부터 화요일까지고 (보통은 토요일부터 연휴 시작임), 대체공휴일인 수요일까지 포함하면 총 5일간의 황금연휴를 계획할 수 있습니다. 이러한 긴 연휴 기간은 가족과 함께하는 시간을 보내거나 여행을 계획하기에 충분한 시간입니다. 아래는 2025년의 공휴일과 대체공휴일을 날짜순으로 정리한 표입니다.\n",
      "2025년은 공휴일이 풍성한 해로, 설날과 추석 같은 명절 연휴뿐 아니라 다양한 대체공휴일이 적용됩니다. 이번 포스팅에서는 월별 공휴일 일정과 함께 대체공휴일 활용 팁을 정리하여, 3일 이상의 연휴 계획을 세우는 데 도움을 드리겠습니다. **신정 (1월 1일)**과 설날로 인해 가족과 함께 휴식할 수 있는 기회가 제공됩니다. 연차를 잘 활용하면 긴 연휴도 가능합니다. TIP: 1월 31일 (금요일)에 연차를 사용하면 총 5일간의 긴 연휴를 만들 수 있습니다. 2. 삼일절과 대체공휴일. 삼일절이 토요일과 겹치면서 월요일에 대체공휴일 이 지정됩니다. 덕분에 긴 주말 연휴를 즐길 수 있습니다.\n",
      "2025 설날 구정 연휴 는 1월 28일 (화요일)부터 1월 30일 (목요일)까지 총 3일이며, 추석 연휴 는 대체휴일을 포함하여 10월 5일 (일요일)부터 10월 8일 (수요일)까지 총 4일입니다. 10월 4일 금요일은 개천절, 10월 5일은 토요일, 10월 9일 목요일은 한글날입니다. 따라서 10월 3일 금요일 개천절부터 10월 9일 목요일 한글날까지 총 7일간 연휴입니다. 대체 휴일은 부처님 오신 날, 추석 연휴가 적용되어 5월 6일 (화요일, 부처님 오신 날), 10월 8일 (수요일, 추석연휴)입니다. 설과 추석 연휴에 고속도로는 항상 정체가 발생하는데요. 한국도로공사에서는 연휴기간 예측 교통상황 을 발표합니다.\n",
      "2025년 설 구정 연휴는 1월 28일 화요일부터, 1월 30일 목요일까지이고 설날은 1월 29일 수요일입니다. 2025년 추석 연휴 는 10월 5일 일요일부터 10월 7일 화요일까지로 10월 3일 개천절 금요일부터 5일간 연휴를 즐길 수 있습니다. 그리고 10월 9일 (목요일)은 한글날로 10월 8일 (수요일) 휴가를 사용할 수 있다면 7일, 10월 10일 (금요일)까지 휴가를 사용한다면 주말을 포함 최대 10일간 휴식할 수 있는 기회로 장기간 여행을 계획하고 있다면 좋은 기회가 될 것입니다. 한국도로공사에서 발표한 설 추석 연휴 교통전망 을 확인하시고 안전 운전하세요.\n",
      "한국에서 설날은 한 해 중 가장 큰 공휴일입니다. 설날은 달의 새해를 축하하는 날입니다. 이전 연도의 날짜를 보려면 페이지 하단으로 스크롤하십시오. 설날의 일차적 목적은 조상에 대한 존중을 갖추는 날이지만, 이는 또한 가족의 유대를 유지하려는 목적도 있습니다. 부모와 형제자매가 직장, 학교 또는 결혼 등의 이유로 떨어져서 살아도, 설날에는 함께 행복한 시간을 보내기 위해 모이게 됩니다. 서울의 사람들은 종종 5일간의 휴일을 보냅니다. 이 시간 동안, 새해의 휴일을 보내기 위해, 가족 및 친지들과 행복한 시간을 보냅니다. 설날을 축하하기 전에, 사람들은 많은 것을 준비합니다.\n",
      "\n",
      "--------------------------------------------------------------------------------\n",
      "최종답변: 2025년 구정 설 연휴는 1월 28일 화요일부터 1월 30일 목요일까지 총 3일입니다. 설날은 1월 29일 수요일입니다. 만약 1월 27일 월요일과 1월 31일 금요일에 연차를 사용한다면, 주말을 포함해 총 9일간의 연휴를 즐길 수 있습니다.\n",
      "--------------------------------------------------------------------------------\n"
     ]
    }
   ],
   "source": [
    "input_query = \"2025년 구정 설 연휴는 언제야? 연휴 기간은으로 얼만큼 쉴 수 있을지 알려줘.\"\n",
    "get_input_query(input_query)"
   ]
  }
 ],
 "metadata": {
  "kernelspec": {
   "display_name": "Python 3",
   "language": "python",
   "name": "python3"
  },
  "language_info": {
   "codemirror_mode": {
    "name": "ipython",
    "version": 3
   },
   "file_extension": ".py",
   "mimetype": "text/x-python",
   "name": "python",
   "nbconvert_exporter": "python",
   "pygments_lexer": "ipython3",
   "version": "3.11.4"
  },
  "orig_nbformat": 4
 },
 "nbformat": 4,
 "nbformat_minor": 2
}
