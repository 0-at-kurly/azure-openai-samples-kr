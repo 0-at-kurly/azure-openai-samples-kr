{
 "cells": [
  {
   "attachments": {},
   "cell_type": "markdown",
   "metadata": {},
   "source": [
    "# Azure OpenAI Function Calling을 카카오 모빌리티 API와 통합 예시\n",
    "이 파일은 Kakao Mobility의 실시간 검색 정보를 활용할 수 있는 GPT 모델 사용 예시입니다.\n",
    "\n",
    "참고: 이 예시는 외부 API를 호출하도록 만들어져 있습니다. 따라서 [KAKAO API](https://developers.kakaomobility.com/docs/navi-api/directions/)에서 제공하는 `KEY를 발급받아 .env 파일에 등록`하고 사용하여야 합니다."
   ]
  },
  {
   "cell_type": "markdown",
   "metadata": {},
   "source": [
    "## Setup"
   ]
  },
  {
   "cell_type": "code",
   "execution_count": 1,
   "metadata": {},
   "outputs": [],
   "source": [
    "import openai\n",
    "import json\n",
    "import os\n",
    "import requests\n",
    "import pytz\n",
    "from urllib import parse\n",
    "from datetime import datetime\n",
    "\n",
    "from dotenv import load_dotenv\n",
    "load_dotenv()\n",
    "\n",
    "# Azure OpenAI resource 정보를 설정합니다.\n",
    "openai.api_type     = os.getenv(\"OPENAI_API_TYPE\")\n",
    "openai.api_key      = os.getenv(\"OPENAI_API_KEY\")\n",
    "openai.api_base     = os.getenv(\"OPENAI_API_BASE\")\n",
    "openai.api_version  = os.getenv(\"OPENAI_API_VERSION\")   # API 버전은 \"2023-07-01-preview\" 부터 사용 가능합니다.\n",
    "deployment_id       = os.getenv(\"DEPLOYMENT_NAME_16K\")  # Azure OpenAI resource의 deployment id를 입력합니다.\n",
    "KAKAO_API_KEY       = os.getenv(\"KAKAO_REST_API_KEY\")   # KAKAO REST API 키입니다."
   ]
  },
  {
   "attachments": {},
   "cell_type": "markdown",
   "metadata": {},
   "source": [
    "## 1. Kakao API functions 정의\n",
    "이제 함수로 작업하는 방법을 알았으므로 코드에서 몇 가지 함수를 정의하여 함수를 사용하는 프로세스를 끝까지 살펴보겠습니다."
   ]
  },
  {
   "cell_type": "code",
   "execution_count": 2,
   "metadata": {},
   "outputs": [],
   "source": [
    "headers = {\n",
    "    \"Authorization\": \"KakaoAK \" + KAKAO_API_KEY,\n",
    "    \"Content-Type\": \"application/json\",\n",
    "}    \n",
    "\n",
    "# Kakao 키워드 기반 위경도 좌표 찾기\n",
    "def get_location_xy(keyword=\"판교 알파돔타워\"):\n",
    "    params = {\n",
    "        \"query\": keyword\n",
    "    }\n",
    "    url = \"https://dapi.kakao.com/v2/local/search/keyword.json?\" + parse.urlencode(params)\n",
    "    response = requests.get(url, headers=headers)\n",
    "    return (response.json()[\"documents\"][0][\"x\"] + \",\" + response.json()[\"documents\"][0][\"y\"] + \",name=\" + response.json()[\"documents\"][0][\"place_name\"])\n",
    "\n",
    "def get_current_time():\n",
    "    try:\n",
    "        # Get the timezone for the city\n",
    "        timezone = pytz.timezone(\"Asia/Seoul\")\n",
    "\n",
    "        # Get the current time in the timezone\n",
    "        now = datetime.now(timezone)\n",
    "        current_time = now.strftime(\"%Y%m%d%H%M\")\n",
    "\n",
    "        return current_time\n",
    "    except:\n",
    "        return \"죄송합니다. 해당 지역의 TimeZone을 찾을 수 없습니다.\"    "
   ]
  },
  {
   "cell_type": "markdown",
   "metadata": {},
   "source": [
    "### `Function #1`: 카카오 모빌리티 길찾기 API\n",
    "\n",
    "카카오 길찾기 API를 통해서 출발지와 목적지 사이의 정보를 탐색합니다."
   ]
  },
  {
   "cell_type": "code",
   "execution_count": 3,
   "metadata": {},
   "outputs": [],
   "source": [
    "# Kakao 길찾기 API\n",
    "def get_directions(origin, destination, waypoints=\"\", priority=\"RECOMMEND\", car_fuel=\"GASOLINE\", car_hipass=\"true\", alternatives=\"false\", road_details=\"false\"):\n",
    "    # 키워드 기반 위경도 좌표 정보 수집\n",
    "    origin_xy_info = get_location_xy(origin)\n",
    "    destin_xy_info = get_location_xy(destination)\n",
    "    \n",
    "    params = {\n",
    "        \"origin\": origin_xy_info,\n",
    "        \"destination\": destin_xy_info,\n",
    "        \"waypoints\": waypoints,\n",
    "        \"priority\": priority,\n",
    "        \"car_fuel\": car_fuel,\n",
    "        \"car_hipass\": car_hipass,\n",
    "        \"alternatives\": alternatives,\n",
    "        \"road_details\": road_details,\n",
    "    }\n",
    "    url = \"https://apis-navi.kakaomobility.com/v1/directions?{}\".format(\"&\".join([f\"{k}={v}\" for k, v in params.items()]))\n",
    "    response = requests.get(url, headers=headers)\n",
    "    \n",
    "    response_summary = response.json()[\"routes\"][0][\"summary\"]\n",
    "    return_data = {\n",
    "        \"origin_name\": response_summary[\"origin\"][\"name\"],\n",
    "        \"destination_name\": response_summary[\"destination\"][\"name\"],\n",
    "        \"taxi_fare\": response_summary[\"fare\"][\"taxi\"],\n",
    "        \"toll_fare\": response_summary[\"fare\"][\"toll\"],\n",
    "        \"distance\": response_summary[\"distance\"],\n",
    "        \"duration\": response_summary[\"duration\"],\n",
    "    }\n",
    "    \n",
    "    return json.dumps(return_data)\n"
   ]
  },
  {
   "cell_type": "markdown",
   "metadata": {},
   "source": [
    "### `Function #2`: 카카오 모빌리티 미래 길찾기 API\n",
    "\n",
    "지정된 날짜와 시간으로 카카오 길찾기 API를 통해서 출발지와 목적지 사이의 정보를 탐색합니다."
   ]
  },
  {
   "cell_type": "code",
   "execution_count": 4,
   "metadata": {},
   "outputs": [],
   "source": [
    "# Kakao 미래 길찾기 API\n",
    "def get_future_directions(origin, destination, departure_time=get_current_time(), waypoints=\"\", priority=\"RECOMMEND\", car_fuel=\"GASOLINE\", car_hipass=\"true\", alternatives=\"false\", road_details=\"false\"):\n",
    "    # 키워드 기반 위경도 좌표 정보 수집\n",
    "    origin_xy_info = get_location_xy(origin)\n",
    "    destin_xy_info = get_location_xy(destination)\n",
    "    \n",
    "    params = {\n",
    "        \"origin\": origin_xy_info,\n",
    "        \"destination\": destin_xy_info,\n",
    "        \"waypoints\": waypoints,\n",
    "        \"priority\": priority,\n",
    "        \"car_fuel\": car_fuel,\n",
    "        \"car_hipass\": car_hipass,\n",
    "        \"alternatives\": alternatives,\n",
    "        \"road_details\": road_details,\n",
    "        \"departure_time\": departure_time,\n",
    "    }\n",
    "    url = \"https://apis-navi.kakaomobility.com/v1/future/directions?{}\".format(\"&\".join([f\"{k}={v}\" for k, v in params.items()]))\n",
    "    response = requests.get(url, headers=headers)\n",
    "    \n",
    "    response_summary = response.json()[\"routes\"][0][\"summary\"]\n",
    "    return_data = {\n",
    "        \"origin_name\": response_summary[\"origin\"][\"name\"],\n",
    "        \"destination_name\": response_summary[\"destination\"][\"name\"],\n",
    "        \"taxi_fare\": response_summary[\"fare\"][\"taxi\"],\n",
    "        \"toll_fare\": response_summary[\"fare\"][\"toll\"],\n",
    "        \"distance\": response_summary[\"distance\"],\n",
    "        \"duration\": response_summary[\"duration\"],\n",
    "    }\n",
    "    \n",
    "    return json.dumps(return_data)\n"
   ]
  },
  {
   "cell_type": "markdown",
   "metadata": {},
   "source": [
    "### `Function #3`: 시간 포맷 변환\n",
    "\n",
    "시간 포맷 변환"
   ]
  },
  {
   "cell_type": "code",
   "execution_count": 5,
   "metadata": {},
   "outputs": [],
   "source": [
    "# caculate from 초 to 시 분 초\n",
    "def time_calculator(seconds):\n",
    "    hours = seconds // 3600\n",
    "    seconds %= 3600\n",
    "    minutes = seconds // 60\n",
    "    seconds %= 60\n",
    "    \n",
    "    if hours == 0:\n",
    "        return \"%02d분 %02d초\" % (minutes, seconds)\n",
    "    elif minutes == 0:\n",
    "        return \"%02d초\" % (seconds)\n",
    "    else:\n",
    "        return \"%02d시간 %02d분 %02d초\" % (hours, minutes, seconds)"
   ]
  },
  {
   "attachments": {},
   "cell_type": "markdown",
   "metadata": {},
   "source": [
    "## 2. GPT를 사용한 `Function` 호출\n",
    "\n",
    "`Function Calling`을 위한 단계: \n",
    "\n",
    "1. 사용자 쿼리와 functions 매개변수(parameter)에 정의된 함수 집합을 사용하여 모델을 호출합니다.\n",
    "2. 모델은 함수 호출을 선택할 수 있습니다. 콘텐츠는 사용자 지정 스키마를 준수하는 문자열화된 JSON 객체가 됩니다(참고: 모델이 잘못된 JSON 또는 환각(hallucination) 매개변수를 생성할 수 있음).\n",
    "3. 코드에서 문자열을 JSON으로 구문 분석합니다. 제공된 인수가 있는 경우 해당 인수로 함수를 호출합니다.\n",
    "4. 함수 응답을 새 메시지로 추가하여 모델을 다시 호출하고 모델이 결과를 사용자에게 다시 요약하도록 합니다.\n",
    "\n",
    "### 2.1 모델이 호출 방법을 알 수 있도록 함수 설명"
   ]
  },
  {
   "cell_type": "code",
   "execution_count": 6,
   "metadata": {},
   "outputs": [],
   "source": [
    "\n",
    "functions = [\n",
    "        {\n",
    "            \"name\": \"get_directions\",\n",
    "            \"description\": \"API to search routes based on origin and destination information\",\n",
    "            # \"description\": \"출발지와 도착지 정보를 기반으로 경로 검색하는 API\",\n",
    "            \"parameters\": {\n",
    "                \"type\": \"object\",\n",
    "                \"properties\": {\n",
    "                    \"origin\": {\"type\": \"string\"},\n",
    "                    \"destination\": {\"type\": \"string\"},                    \n",
    "                },\n",
    "                \"required\": [\"origin\", \"destination\"],\n",
    "            },\n",
    "        },\n",
    "        {\n",
    "            \"name\": \"get_future_directions\",\n",
    "            \"description\": \"API to search routes based on origin and destination information based on future departure_time\",\n",
    "            # \"description\": \"출발지와 도착지 정보를 미래 시간 기반으로 경로 검색하는 API\",\n",
    "            \"parameters\": {\n",
    "                \"type\": \"object\",\n",
    "                \"properties\": {\n",
    "                    \"origin\": {\"type\": \"string\"},\n",
    "                    \"destination\": {\"type\": \"string\"},\n",
    "                    \"departure_time\": {\"type\": \"string\"},\n",
    "                },\n",
    "                \"required\": [\"origin\", \"destination\", \"departure_time\"],\n",
    "            },\n",
    "        },\n",
    "        {\n",
    "            \"name\": \"time_calculator\",\n",
    "            \"description\": \"Convert seconds to hours minutes seconds\",\n",
    "            # \"description\": \"초를 시분초 단위로 변환\",\n",
    "            \"parameters\": {\n",
    "                \"type\": \"object\",\n",
    "                \"properties\": {\n",
    "                    \"duration\": {\"type\": \"integer\"},\n",
    "                },\n",
    "                \"required\": [\"duration\"],\n",
    "            },\n",
    "        }\n",
    "    ]\n",
    "\n",
    "available_functions = {\n",
    "            \"get_directions\": get_directions,\n",
    "            \"get_future_directions\": get_future_directions,\n",
    "            \"time_calculator\": time_calculator\n",
    "        } "
   ]
  },
  {
   "cell_type": "markdown",
   "metadata": {},
   "source": [
    "### 2.2 function call을 검증하는 helper 함수 정의\n",
    "모델이 잘못된 function call을 생성할 수 있으므로 function의 유효성을 검사하는 것이 중요합니다. 여기서는 사용 사례에 대해 더 복잡한 유효성 검사를 적용할 수 있지만 함수 호출의 유효성을 검사하는 간단한 helper 함수를 정의합니다."
   ]
  },
  {
   "cell_type": "code",
   "execution_count": 7,
   "metadata": {},
   "outputs": [],
   "source": [
    "import inspect\n",
    "\n",
    "# helper method used to check if the correct arguments are provided to a function\n",
    "def check_args(function, args):\n",
    "    sig = inspect.signature(function)\n",
    "    params = sig.parameters\n",
    "\n",
    "    # Check if there are extra arguments\n",
    "    for name in args:\n",
    "        if name not in params:\n",
    "            return False\n",
    "    # Check if the required arguments are provided \n",
    "    for name, param in params.items():\n",
    "        if param.default is param.empty and name not in args:\n",
    "            return False\n",
    "\n",
    "    return True"
   ]
  },
  {
   "cell_type": "code",
   "execution_count": 8,
   "metadata": {},
   "outputs": [],
   "source": [
    "def run_conversation(messages, functions, available_functions, deployment_id):\n",
    "    # Step 1: send the conversation and available functions to GPT\n",
    "\n",
    "    response = openai.ChatCompletion.create(\n",
    "        deployment_id=deployment_id,\n",
    "        messages=messages,\n",
    "        functions=functions,\n",
    "        function_call=\"auto\", \n",
    "    )\n",
    "    response_message = response[\"choices\"][0][\"message\"]\n",
    "\n",
    "\n",
    "    # Step 2: check if GPT wanted to call a function\n",
    "    if response_message.get(\"function_call\"):\n",
    "        # print(\"Recommended Function call:\")\n",
    "        # print(response_message.get(\"function_call\"))\n",
    "        # print()\n",
    "        \n",
    "        # Step 3: call the function\n",
    "        # Note: the JSON response may not always be valid; be sure to handle errors\n",
    "        \n",
    "        function_name = response_message[\"function_call\"][\"name\"]\n",
    "        \n",
    "        # verify function exists\n",
    "        if function_name not in available_functions:\n",
    "            return \"Function \" + function_name + \" does not exist\"\n",
    "        fuction_to_call = available_functions[function_name]  \n",
    "        \n",
    "        # verify function has correct number of arguments\n",
    "        function_args = json.loads(response_message[\"function_call\"][\"arguments\"])\n",
    "        if check_args(fuction_to_call, function_args) is False:\n",
    "            return \"Invalid number of arguments for function: \" + function_name\n",
    "        function_response = fuction_to_call(**function_args)\n",
    "        \n",
    "        # print(\"Output of function call:\")\n",
    "        # print(function_response)\n",
    "        # print()\n",
    "        \n",
    "        # Step 4: send the info on the function call and function response to GPT\n",
    "        \n",
    "        # adding assistant response to messages\n",
    "        messages.append(\n",
    "            {\n",
    "                \"role\": response_message[\"role\"],\n",
    "                \"name\": response_message[\"function_call\"][\"name\"],\n",
    "                \"content\": response_message[\"function_call\"][\"arguments\"],\n",
    "            }\n",
    "        )\n",
    "\n",
    "        # adding function response to messages\n",
    "        messages.append(\n",
    "            {\n",
    "                \"role\": \"function\",\n",
    "                \"name\": function_name,\n",
    "                \"content\": function_response,\n",
    "            }\n",
    "        )  # extend conversation with function response\n",
    "\n",
    "        # print(\"Messages in second request:\")\n",
    "        # for message in messages:\n",
    "        #     print(message)\n",
    "        # print()\n",
    "        # print(json.dumps(messages, ensure_ascii=False, indent=4))\n",
    "        # print()\n",
    "\n",
    "        second_response = openai.ChatCompletion.create(\n",
    "            messages=messages,\n",
    "            deployment_id=deployment_id\n",
    "        )  # get a new response from GPT where it can see the function response\n",
    "\n",
    "        return second_response"
   ]
  },
  {
   "cell_type": "markdown",
   "metadata": {},
   "source": [
    "## 3. 경로 검색 요청"
   ]
  },
  {
   "cell_type": "code",
   "execution_count": 9,
   "metadata": {},
   "outputs": [
    {
     "name": "stdout",
     "output_type": "stream",
     "text": [
      "\"{\n",
      "\"origin\": \"판교 알파돔타워\",\n",
      "\"destination\": \"한국마이크로소프트\",\n",
      "\"taxi_fare\": 33600,\n",
      "\"toll_fare\": 0,\n",
      "\"distance\": 28183,\n",
      "\"duration\": 4570\n",
      "}\"\n"
     ]
    }
   ],
   "source": [
    "origin_name = \"판교 알파돔타워\"\n",
    "destin_name = \"한국마이크로소프트\"\n",
    "\n",
    "messages = [\n",
    "    {\"role\": \"system\", \"content\": \"You are a navigation bot agent. Your reply must absolutely in JSON format. You must never modify or tamper with data.\"},\n",
    "    {\"role\": \"user\", \"content\": f\"{origin_name}에서 {destin_name}까지 경로 검색한 정보를 JSON 포맷으로 알려줘.\"}\n",
    "    ]\n",
    "assistant_response = run_conversation(messages, functions, available_functions, deployment_id)\n",
    "content = json.dumps(assistant_response['choices'][0]['message'][\"content\"], ensure_ascii=False, indent=4)\n",
    "content = content.replace(\"\\\\n\", \"\\n\").replace(\"\\\\\\\"\", \"\\\"\")\n",
    "print(content)"
   ]
  },
  {
   "cell_type": "code",
   "execution_count": 10,
   "metadata": {},
   "outputs": [
    {
     "name": "stdout",
     "output_type": "stream",
     "text": [
      "요청하신 판교 알파돔타워에서 한국마이크로소프트까지의 경로 정보는 다음과 같습니다:\n",
      "\n",
      "- 출발지: 판교 알파돔타워\n",
      "- 도착지: 한국마이크로소프트\n",
      "- 택시 요금: 33,600원\n",
      "- 톨비: 없음\n",
      "- 총 이동 거리: 28,183m (약 28.18km)\n",
      "- 총 소요 시간: 4,569초 (약 1시간 16분 9초)\n",
      "\n",
      "위 정보를 참고하시어 원하시는 경로로 안전하게 이동하시길 바랍니다.\n"
     ]
    }
   ],
   "source": [
    "origin_name = \"판교 알파돔타워\"\n",
    "destin_name = \"한국마이크로소프트\"\n",
    "\n",
    "messages = [\n",
    "    {\"role\": \"system\", \"content\": \"You are a bot that guides you through car routes. When the user provides the origin and destination name, you provides summary route guidance information. You should use factual information and not generate text arbitrarily. \\\n",
    "    If the distance or duration units are too granular, convert them to higher units. For example, 1894 seconds is displayed as 31 minutes and 34 seconds. 4012 seconds is displayed as 1 hour 3 minutes 32 seconds. 12343m should be marked as 12.34km, 145127m should be marked as 124.13km.\"},\n",
    "    {\"role\": \"user\", \"content\": f\"{origin_name}에서 {destin_name}까지 경로 검색한 정보를 목록을 만들어서 알려줘.\"}\n",
    "    ]\n",
    "assistant_response = run_conversation(messages, functions, available_functions, deployment_id)\n",
    "content = json.dumps(assistant_response['choices'][0]['message'][\"content\"], ensure_ascii=False, indent=4)\n",
    "content = content.replace(\"\\\\n\", \"\\n\").replace(\"\\\"\", \"\")\n",
    "print(content)"
   ]
  },
  {
   "cell_type": "code",
   "execution_count": 11,
   "metadata": {},
   "outputs": [
    {
     "name": "stdout",
     "output_type": "stream",
     "text": [
      "판교 알파돔타워에서 한국마이크로소프트까지의 경로 검색 결과는 다음과 같습니다. 총 거리는 약 28.2km이며, 예상 소요 시간은 약 1시간 16분입니다. 택시 요금은 33,600원이며 톨게이트 요금은 없습니다.\n"
     ]
    }
   ],
   "source": [
    "origin_name = \"판교 알파돔타워\"\n",
    "destin_name = \"한국마이크로소프트\"\n",
    "\n",
    "messages = [\n",
    "    {\"role\": \"system\", \"content\": \"You are car route navigation. When the user provides the origin and destination name, you provides summary route guidance information. You should use factual information and not generate text arbitrarily. Summalize sentance without list. \\\n",
    "    If the distance or duration units are too granular, convert them to higher units. For example, 1894 seconds is displayed as 31 minutes and 34 seconds. 4012 seconds is displayed as 1 hour 3 minutes 32 seconds. 12343m should be marked as 12.34km, 145127m should be marked as 124.13km.\"},\n",
    "    {\"role\": \"user\", \"content\": f\"{origin_name}에서 {destin_name}까지 경로 검색한 정보를 문장으로 요약해줘.\"}\n",
    "    ]\n",
    "assistant_response = run_conversation(messages, functions, available_functions, deployment_id)\n",
    "content = json.dumps(assistant_response['choices'][0]['message'][\"content\"], ensure_ascii=False, indent=4)\n",
    "content = content.replace(\"\\\\n\", \"\\n\").replace(\"\\\"\", \"\")\n",
    "print(content)"
   ]
  },
  {
   "cell_type": "markdown",
   "metadata": {},
   "source": [
    "## 4. 미래 운행 정보 기반의 검색\n",
    "\n",
    "미래 운행 정보 기반의 검색 API를 자동 호출하도록 출발시간을 Prompt에 제공합니다."
   ]
  },
  {
   "cell_type": "code",
   "execution_count": 13,
   "metadata": {},
   "outputs": [
    {
     "name": "stdout",
     "output_type": "stream",
     "text": [
      "2023년 8월 1일 11시 0분에 한국마이크로소프트에서 판교 알파돔타워까지의 경로를 검색한 결과는 다음과 같습니다. 출발지는 한국마이크로소프트이고 목적지는 판교 알파돔타워입니다. 총 거리는 약 25.19km이며 총 소요시간은 약 42분 35초입니다. 택시비용은 27,100원이며 통행료는 3,000원입니다.\n"
     ]
    }
   ],
   "source": [
    "origin_name = \"한국마이크로소프트\"\n",
    "destin_name = \"판교 알파돔타워\"\n",
    "\n",
    "messages = [\n",
    "        {\"role\": \"system\", \"content\": \"You are car route navigation. When the user provides the origin and destination name, you provides summary route guidance information. You should use factual information and not generate text arbitrarily. Summalize sentance without list. \\\n",
    "        If the distance or duration units are too granular, convert them to higher units. For example, 1894 seconds is displayed as 31 minutes and 34 seconds. 4012 seconds is displayed as 1 hour 3 minutes 32 seconds. 12343m should be marked as 12.34km, 145127m should be marked as 124.13km.\"},\n",
    "        {\"role\": \"user\", \"content\": f\"{origin_name}에서 {destin_name}까지 출발시간이 2023년 8월 1일 11시 0분(%Y%m%d%H%M) 일때, 경로 검색한 정보를 문장으로 요약해줘.\"}\n",
    "    ]\n",
    "assistant_response1 = run_conversation(messages, functions, available_functions, deployment_id)\n",
    "future_content = json.dumps(assistant_response1['choices'][0]['message'][\"content\"], ensure_ascii=False, indent=4)\n",
    "future_content = future_content.replace(\"\\\\n\", \"\\n\").replace(\"\\\"\", \"\")\n",
    "print(future_content)"
   ]
  }
 ],
 "metadata": {
  "kernelspec": {
   "display_name": "Python 3",
   "language": "python",
   "name": "python3"
  },
  "language_info": {
   "codemirror_mode": {
    "name": "ipython",
    "version": 3
   },
   "file_extension": ".py",
   "mimetype": "text/x-python",
   "name": "python",
   "nbconvert_exporter": "python",
   "pygments_lexer": "ipython3",
   "version": "3.11.4"
  },
  "orig_nbformat": 4
 },
 "nbformat": 4,
 "nbformat_minor": 2
}
